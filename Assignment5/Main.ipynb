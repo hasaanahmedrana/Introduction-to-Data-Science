{
 "cells": [
  {
   "metadata": {},
   "cell_type": "markdown",
   "source": "<h1><center>Assigment - 1</center></h1>",
   "id": "8a77807f92f26ee"
  },
  {
   "metadata": {},
   "cell_type": "markdown",
   "source": [
    "---\n",
    "## Task 1: Load and Inspect Datasets\n"
   ],
   "id": "2aa0108f1f6f5bd"
  },
  {
   "metadata": {
    "ExecuteTime": {
     "end_time": "2024-12-03T18:47:06.445479Z",
     "start_time": "2024-12-03T18:47:05.819418Z"
    }
   },
   "cell_type": "code",
   "source": [
    "import pandas as pd\n",
    "import pandas as pd\n",
    "\n",
    "# Load the datasets\n",
    "customers_df = pd.read_csv('CUSTOMER.csv')\n",
    "sales_df = pd.read_csv('SALES.csv')\n",
    "\n",
    "# Display the first few rows of each dataset\n",
    "print(\"First few rows of Customers dataset:\")\n",
    "print(customers_df.head())\n",
    "\n",
    "print(\"\\nFirst few rows of Sales dataset:\")\n",
    "print(sales_df.head())\n",
    "\n",
    "# Show the total number of rows and columns\n",
    "print(\"\\nCustomers dataset shape:\", customers_df.shape)\n",
    "print(\"Sales dataset shape:\", sales_df.shape)\n",
    "\n",
    "# Check for missing values\n",
    "print(\"\\nMissing values in Customers dataset:\")\n",
    "print(customers_df.isnull().sum())\n",
    "\n",
    "print(\"\\nMissing values in Sales dataset:\")\n",
    "print(sales_df.isnull().sum())\n",
    "\n",
    "# Handle missing values (e.g., fill with placeholder or drop rows)\n",
    "customers_df.fillna('Unknown', inplace=True)\n",
    "sales_df.fillna(0, inplace=True)\n"
   ],
   "id": "62c4842a16c29ba1",
   "outputs": [
    {
     "name": "stdout",
     "output_type": "stream",
     "text": [
      "First few rows of Customers dataset:\n",
      "   CustomerID   Age          City\n",
      "0           1    22      New York\n",
      "1           2    23   Los Angeles\n",
      "2           3    24       Chicago\n",
      "3           4    25       Houston\n",
      "4           5    26       Phoenix\n",
      "\n",
      "First few rows of Sales dataset:\n",
      "   SaleID   CustomerID      Product   Amount\n",
      "0     101            1       Laptop      200\n",
      "1     102            2   Smartphone      500\n",
      "2     103            3       Tablet      800\n",
      "3     104            4   Headphones     1100\n",
      "4     105            5      Monitor     1400\n",
      "\n",
      "Customers dataset shape: (100, 3)\n",
      "Sales dataset shape: (400, 4)\n",
      "\n",
      "Missing values in Customers dataset:\n",
      "CustomerID    0\n",
      " Age          0\n",
      " City         0\n",
      "dtype: int64\n",
      "\n",
      "Missing values in Sales dataset:\n",
      "SaleID         0\n",
      " CustomerID    0\n",
      " Product       0\n",
      " Amount        0\n",
      "dtype: int64\n"
     ]
    }
   ],
   "execution_count": 76
  },
  {
   "metadata": {},
   "cell_type": "markdown",
   "source": [
    "---\n",
    "## Task 2: Convert to Dictionary and Filter Customers by City"
   ],
   "id": "53a5aefb35e2392c"
  },
  {
   "metadata": {
    "ExecuteTime": {
     "end_time": "2024-12-03T18:47:06.561710Z",
     "start_time": "2024-12-03T18:47:06.445479Z"
    }
   },
   "cell_type": "code",
   "source": [
    "from time import time\n",
    "customers_df.columns = customers_df.columns.str.strip()\n",
    "sales_df.columns = sales_df.columns.str.strip()\n",
    "# Convert Customers data to a dictionary\n",
    "customers_dict = customers_df.to_dict(orient='records')\n",
    "\n",
    "# Filter customers from a specific city using the dictionary\n",
    "city_name = ' New York'  \n",
    "start_time = time()\n",
    "filtered_customers_dict = [customer for customer in customers_dict if customer['City'] == city_name]\n",
    "print(f\"\\nFiltered customers from {city_name} using dictionary:\\n\", filtered_customers_dict)\n",
    "end_time = time()\n",
    "dictionary_time = end_time - start_time\n",
    "\n",
    "print('-'*50)\n",
    "\n",
    "\n",
    "# Filter using DataFrame\n",
    "start_time = time()\n",
    "filtered_customers_df = customers_df[customers_df['City'] == city_name]\n",
    "print(f\"\\nFiltered customers from {city_name} using DataFrame:\\n\",filtered_customers_df)\n",
    "end_time = time()\n",
    "dataframe_time = end_time - start_time\n",
    "\n",
    "print('-'*50)\n",
    "print('Time Analysis:')\n",
    "print('Time taken by dictionary:', dictionary_time)\n",
    "print('Time taken by DataFrame:', dataframe_time)\n",
    "print('-'*50)"
   ],
   "id": "b40cb368168ea7db",
   "outputs": [
    {
     "name": "stdout",
     "output_type": "stream",
     "text": [
      "\n",
      "Filtered customers from  New York using dictionary:\n",
      " [{'CustomerID': 1, 'Age': 22, 'City': ' New York'}, {'CustomerID': 6, 'Age': 27, 'City': ' New York'}, {'CustomerID': 11, 'Age': 32, 'City': ' New York'}, {'CustomerID': 16, 'Age': 37, 'City': ' New York'}, {'CustomerID': 21, 'Age': 42, 'City': ' New York'}, {'CustomerID': 26, 'Age': 47, 'City': ' New York'}, {'CustomerID': 31, 'Age': 22, 'City': ' New York'}, {'CustomerID': 36, 'Age': 27, 'City': ' New York'}, {'CustomerID': 41, 'Age': 32, 'City': ' New York'}, {'CustomerID': 46, 'Age': 37, 'City': ' New York'}, {'CustomerID': 51, 'Age': 42, 'City': ' New York'}, {'CustomerID': 56, 'Age': 47, 'City': ' New York'}, {'CustomerID': 61, 'Age': 22, 'City': ' New York'}, {'CustomerID': 66, 'Age': 27, 'City': ' New York'}, {'CustomerID': 71, 'Age': 32, 'City': ' New York'}, {'CustomerID': 76, 'Age': 37, 'City': ' New York'}, {'CustomerID': 81, 'Age': 42, 'City': ' New York'}, {'CustomerID': 86, 'Age': 47, 'City': ' New York'}, {'CustomerID': 91, 'Age': 22, 'City': ' New York'}, {'CustomerID': 96, 'Age': 27, 'City': ' New York'}]\n",
      "--------------------------------------------------\n",
      "\n",
      "Filtered customers from  New York using DataFrame:\n",
      "     CustomerID  Age       City\n",
      "0            1   22   New York\n",
      "5            6   27   New York\n",
      "10          11   32   New York\n",
      "15          16   37   New York\n",
      "20          21   42   New York\n",
      "25          26   47   New York\n",
      "30          31   22   New York\n",
      "35          36   27   New York\n",
      "40          41   32   New York\n",
      "45          46   37   New York\n",
      "50          51   42   New York\n",
      "55          56   47   New York\n",
      "60          61   22   New York\n",
      "65          66   27   New York\n",
      "70          71   32   New York\n",
      "75          76   37   New York\n",
      "80          81   42   New York\n",
      "85          86   47   New York\n",
      "90          91   22   New York\n",
      "95          96   27   New York\n",
      "--------------------------------------------------\n",
      "Time Analysis:\n",
      "Time taken by dictionary: 0.0\n",
      "Time taken by DataFrame: 0.0312497615814209\n",
      "--------------------------------------------------\n"
     ]
    }
   ],
   "execution_count": 77
  },
  {
   "metadata": {},
   "cell_type": "markdown",
   "source": [
    "---\n",
    "## Task 3: Data Aggregation and Analysis"
   ],
   "id": "abbea0d6c2a22e0b"
  },
  {
   "metadata": {
    "ExecuteTime": {
     "end_time": "2024-12-03T18:47:06.609801Z",
     "start_time": "2024-12-03T18:47:06.561710Z"
    }
   },
   "cell_type": "code",
   "source": [
    "# Check for duplicates\n",
    "print(\"\\nDuplicates in Customers dataset:\", customers_df.duplicated().sum())\n",
    "print(\"Duplicates in Sales dataset:\", sales_df.duplicated().sum())\n",
    "\n",
    "# Remove duplicates\n",
    "customers_df.drop_duplicates(inplace=True)\n",
    "sales_df.drop_duplicates(inplace=True)\n",
    "\n",
    "# Verify no duplicates remain\n",
    "print(\"\\nAfter removing duplicates:\")\n",
    "print(\"Duplicates in Customers dataset:\", customers_df.duplicated().sum())\n",
    "print(\"Duplicates in Sales dataset:\", sales_df.duplicated().sum())\n"
   ],
   "id": "a9571bb5ff22987c",
   "outputs": [
    {
     "name": "stdout",
     "output_type": "stream",
     "text": [
      "\n",
      "Duplicates in Customers dataset: 0\n",
      "Duplicates in Sales dataset: 0\n",
      "\n",
      "After removing duplicates:\n",
      "Duplicates in Customers dataset: 0\n",
      "Duplicates in Sales dataset: 0\n"
     ]
    }
   ],
   "execution_count": 78
  },
  {
   "metadata": {},
   "cell_type": "markdown",
   "source": [
    "---\n",
    "## Task 4:  Add Discounted Amount and Group by Product"
   ],
   "id": "35830cd7aaa0b065"
  },
  {
   "metadata": {
    "ExecuteTime": {
     "end_time": "2024-12-03T18:47:06.700553Z",
     "start_time": "2024-12-03T18:47:06.609801Z"
    }
   },
   "cell_type": "code",
   "source": [
    "# Add a discounted amount column\n",
    "sales_df['Discounted_Amount'] = sales_df['Amount'] * 0.9\n",
    "\n",
    "# Group by Product and calculate total sales\n",
    "grouped_sales = sales_df.groupby('Product')['Discounted_Amount'].sum().reset_index()\n",
    "grouped_sales.columns = ['Product', 'Total_Discounted_Sales']\n",
    "\n",
    "print(\"\\nTotal sales for each product after discount:\")\n",
    "print(grouped_sales)\n"
   ],
   "id": "aa5546f5460aa9d3",
   "outputs": [
    {
     "name": "stdout",
     "output_type": "stream",
     "text": [
      "\n",
      "Total sales for each product after discount:\n",
      "       Product  Total_Discounted_Sales\n",
      "0   Headphones                 79200.0\n",
      "1       Laptop                 14400.0\n",
      "2      Monitor                100800.0\n",
      "3   Smartphone                 36000.0\n",
      "4       Tablet                 57600.0\n"
     ]
    }
   ],
   "execution_count": 79
  },
  {
   "metadata": {},
   "cell_type": "markdown",
   "source": [
    "---\n",
    "## Task 5: Filter Customers by Age and Analyze Cities"
   ],
   "id": "f2b473dc458837a1"
  },
  {
   "metadata": {
    "ExecuteTime": {
     "end_time": "2024-12-03T18:47:06.757796Z",
     "start_time": "2024-12-03T18:47:06.705135Z"
    }
   },
   "cell_type": "code",
   "source": [
    "# Filter customers by age\n",
    "filtered_by_age = customers_df[(customers_df['Age'] >= 25) & (customers_df['Age'] <= 35)]\n",
    "\n",
    "# Count customers per city\n",
    "city_counts = filtered_by_age['City'].value_counts()\n",
    "\n",
    "print(\"\\nCity-wise customer count (age 25-35):\")\n",
    "print(city_counts)\n",
    "\n",
    "# Save filtered data\n",
    "filtered_by_age.to_csv('Filtered_Customers_Age_25_35.csv', index=False)\n"
   ],
   "id": "b7ce0ee292c443a6",
   "outputs": [
    {
     "name": "stdout",
     "output_type": "stream",
     "text": [
      "\n",
      "City-wise customer count (age 25-35):\n",
      "City\n",
      "Houston        11\n",
      "Phoenix         8\n",
      "New York        7\n",
      "Los Angeles     7\n",
      "Chicago         7\n",
      "Name: count, dtype: int64\n"
     ]
    }
   ],
   "execution_count": 80
  },
  {
   "metadata": {},
   "cell_type": "markdown",
   "source": [
    "---\n",
    "## Task 6: Merge Datasets and Analyze Sales"
   ],
   "id": "d3150c644a77a3c7"
  },
  {
   "metadata": {
    "ExecuteTime": {
     "end_time": "2024-12-03T18:47:06.840062Z",
     "start_time": "2024-12-03T18:47:06.757796Z"
    }
   },
   "cell_type": "code",
   "source": [
    "# Merge datasets on CustomerID\n",
    "merged_df = pd.merge(customers_df, sales_df, on='CustomerID', how='inner')\n",
    "\n",
    "# Identify city with the highest total sales\n",
    "city_sales = merged_df.groupby('City')['Discounted_Amount'].sum().reset_index()\n",
    "top_city = city_sales.loc[city_sales['Discounted_Amount'].idxmax()]\n",
    "\n",
    "print(f\"\\nCity with the highest total sales: {top_city['City']} (${top_city['Discounted_Amount']})\")\n",
    "\n",
    "# Count the occurrences of each product to estimate the units sold\n",
    "top_product = merged_df['Product'].value_counts().idxmax()\n",
    "\n",
    "print(f\"\\nProduct with the most units sold (based on occurrences): {top_product}\")\n"
   ],
   "id": "33995146571488bf",
   "outputs": [
    {
     "name": "stdout",
     "output_type": "stream",
     "text": [
      "\n",
      "City with the highest total sales:  Phoenix ($100800.0)\n",
      "\n",
      "Product with the most units sold (based on occurrences):  Laptop\n"
     ]
    }
   ],
   "execution_count": 81
  },
  {
   "metadata": {},
   "cell_type": "markdown",
   "source": [
    "\n",
    "---\n",
    "##  Unique Values and Statistics"
   ],
   "id": "c1064c13eb287a7b"
  },
  {
   "metadata": {
    "ExecuteTime": {
     "end_time": "2024-12-03T18:47:06.877380Z",
     "start_time": "2024-12-03T18:47:06.840062Z"
    }
   },
   "cell_type": "code",
   "source": [
    "# Unique values in City and Product columns\n",
    "unique_cities = merged_df['City'].unique()\n",
    "unique_products = merged_df['Product'].unique()\n",
    "\n",
    "print(\"\\nUnique cities:\", unique_cities)\n",
    "print(\"Unique products:\", unique_products)\n",
    "\n",
    "# Mean and median of the Amount column\n",
    "mean_amount = merged_df['Amount'].mean()\n",
    "median_amount = merged_df['Amount'].median()\n",
    "\n",
    "print(f\"\\nMean of Amount: {mean_amount}\")\n",
    "print(f\"Median of Amount: {median_amount}\")\n"
   ],
   "id": "dddc340e7ec883a4",
   "outputs": [
    {
     "name": "stdout",
     "output_type": "stream",
     "text": [
      "\n",
      "Unique cities: [' New York' ' Los Angeles' ' Chicago' ' Houston' ' Phoenix']\n",
      "Unique products: [' Laptop' ' Smartphone' ' Tablet' ' Headphones' ' Monitor']\n",
      "\n",
      "Mean of Amount: 800.0\n",
      "Median of Amount: 800.0\n"
     ]
    }
   ],
   "execution_count": 82
  },
  {
   "metadata": {},
   "cell_type": "markdown",
   "source": [
    "<h3><center> Thankyou :) </center></h3>\n",
    "---"
   ],
   "id": "a3d71946f065cddb"
  },
  {
   "metadata": {},
   "cell_type": "markdown",
   "source": "",
   "id": "8214d875cca4932d"
  }
 ],
 "metadata": {
  "kernelspec": {
   "display_name": "Python 3",
   "language": "python",
   "name": "python3"
  },
  "language_info": {
   "codemirror_mode": {
    "name": "ipython",
    "version": 2
   },
   "file_extension": ".py",
   "mimetype": "text/x-python",
   "name": "python",
   "nbconvert_exporter": "python",
   "pygments_lexer": "ipython2",
   "version": "2.7.6"
  }
 },
 "nbformat": 4,
 "nbformat_minor": 5
}
