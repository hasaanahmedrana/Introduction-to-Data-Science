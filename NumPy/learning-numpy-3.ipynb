{
 "cells": [
  {
   "cell_type": "code",
   "id": "initial_id",
   "metadata": {
    "collapsed": true,
    "ExecuteTime": {
     "end_time": "2024-12-16T14:13:56.647994Z",
     "start_time": "2024-12-16T14:13:56.628210Z"
    }
   },
   "source": "import numpy as np",
   "outputs": [],
   "execution_count": 47
  },
  {
   "metadata": {
    "ExecuteTime": {
     "end_time": "2024-12-16T14:13:56.672323Z",
     "start_time": "2024-12-16T14:13:56.647994Z"
    }
   },
   "cell_type": "code",
   "source": "np.__version__",
   "id": "877e98444440abfb",
   "outputs": [
    {
     "data": {
      "text/plain": [
       "'2.2.0'"
      ]
     },
     "execution_count": 48,
     "metadata": {},
     "output_type": "execute_result"
    }
   ],
   "execution_count": 48
  },
  {
   "metadata": {
    "ExecuteTime": {
     "end_time": "2024-12-16T14:13:56.747659Z",
     "start_time": "2024-12-16T14:13:56.734833Z"
    }
   },
   "cell_type": "code",
   "source": "np.__path__",
   "id": "ff323a5f874c56eb",
   "outputs": [
    {
     "data": {
      "text/plain": [
       "['C:\\\\Users\\\\PMLS\\\\Desktop\\\\SEM-5\\\\Into to DS\\\\LAB\\\\.venv\\\\Lib\\\\site-packages\\\\numpy']"
      ]
     },
     "execution_count": 49,
     "metadata": {},
     "output_type": "execute_result"
    }
   ],
   "execution_count": 49
  },
  {
   "metadata": {
    "ExecuteTime": {
     "end_time": "2024-12-16T14:13:56.757693Z",
     "start_time": "2024-12-16T14:13:56.747659Z"
    }
   },
   "cell_type": "code",
   "source": "np.dtype",
   "id": "aeed04cc433fb50",
   "outputs": [
    {
     "data": {
      "text/plain": [
       "numpy.dtype"
      ]
     },
     "execution_count": 50,
     "metadata": {},
     "output_type": "execute_result"
    }
   ],
   "execution_count": 50
  },
  {
   "metadata": {
    "ExecuteTime": {
     "end_time": "2024-12-16T14:13:56.779888Z",
     "start_time": "2024-12-16T14:13:56.773333Z"
    }
   },
   "cell_type": "code",
   "source": "array  = np.array(1)",
   "id": "aaab340b84cfbd4f",
   "outputs": [],
   "execution_count": 51
  },
  {
   "metadata": {
    "ExecuteTime": {
     "end_time": "2024-12-16T14:13:56.817831Z",
     "start_time": "2024-12-16T14:13:56.795565Z"
    }
   },
   "cell_type": "code",
   "source": [
    "print(array.shape)\n",
    "print(array.ndim)\n",
    "print(array.dtype)\n",
    "print(array.size)\n",
    "print(array.strides)\n",
    "print(array.itemsize)\n",
    "print(array.nbytes)\n",
    "print(array.data)\n",
    "print(array.flags)"
   ],
   "id": "8da124c32f67bd7",
   "outputs": [
    {
     "name": "stdout",
     "output_type": "stream",
     "text": [
      "()\n",
      "0\n",
      "int64\n",
      "1\n",
      "()\n",
      "8\n",
      "8\n",
      "<memory at 0x000001761C150680>\n",
      "  C_CONTIGUOUS : True\n",
      "  F_CONTIGUOUS : True\n",
      "  OWNDATA : True\n",
      "  WRITEABLE : True\n",
      "  ALIGNED : True\n",
      "  WRITEBACKIFCOPY : False\n",
      "\n"
     ]
    }
   ],
   "execution_count": 52
  },
  {
   "metadata": {
    "ExecuteTime": {
     "end_time": "2024-12-16T14:13:56.824273Z",
     "start_time": "2024-12-16T14:13:56.817831Z"
    }
   },
   "cell_type": "code",
   "source": "array = np.array([1, 2, 3])",
   "id": "1a8682c7cf026555",
   "outputs": [],
   "execution_count": 53
  },
  {
   "metadata": {
    "ExecuteTime": {
     "end_time": "2024-12-16T14:13:56.838718Z",
     "start_time": "2024-12-16T14:13:56.824273Z"
    }
   },
   "cell_type": "code",
   "source": [
    "print(array.shape)\n",
    "print(array.ndim)\n",
    "print(array.dtype)\n",
    "print(array.size)\n",
    "print(array.strides)\n",
    "print(array.itemsize)\n",
    "print(array.nbytes)\n",
    "print(array.data)\n",
    "print(array.flags)"
   ],
   "id": "7c72b532d4ed5fc9",
   "outputs": [
    {
     "name": "stdout",
     "output_type": "stream",
     "text": [
      "(3,)\n",
      "1\n",
      "int64\n",
      "3\n",
      "(8,)\n",
      "8\n",
      "24\n",
      "<memory at 0x000001761C16BD00>\n",
      "  C_CONTIGUOUS : True\n",
      "  F_CONTIGUOUS : True\n",
      "  OWNDATA : True\n",
      "  WRITEABLE : True\n",
      "  ALIGNED : True\n",
      "  WRITEBACKIFCOPY : False\n",
      "\n"
     ]
    }
   ],
   "execution_count": 54
  },
  {
   "metadata": {
    "ExecuteTime": {
     "end_time": "2024-12-16T14:13:56.847517Z",
     "start_time": "2024-12-16T14:13:56.838718Z"
    }
   },
   "cell_type": "code",
   "source": "array = np.array([[1, 2, 3], [4, 5, 6]])",
   "id": "994fbc3eb6c0939f",
   "outputs": [],
   "execution_count": 55
  },
  {
   "metadata": {
    "ExecuteTime": {
     "end_time": "2024-12-16T14:13:56.878127Z",
     "start_time": "2024-12-16T14:13:56.863384Z"
    }
   },
   "cell_type": "code",
   "source": [
    "print(array.shape)\n",
    "print(array.ndim)\n",
    "print(array.dtype)\n",
    "print(array.size)\n",
    "print(array.strides)\n",
    "print(array.itemsize)\n",
    "print(array.nbytes)\n",
    "print(array.data)\n",
    "print(array.flags)"
   ],
   "id": "6fa001a0900ade22",
   "outputs": [
    {
     "name": "stdout",
     "output_type": "stream",
     "text": [
      "(2, 3)\n",
      "2\n",
      "int64\n",
      "6\n",
      "(24, 8)\n",
      "8\n",
      "48\n",
      "<memory at 0x000001761C2C5CB0>\n",
      "  C_CONTIGUOUS : True\n",
      "  F_CONTIGUOUS : False\n",
      "  OWNDATA : True\n",
      "  WRITEABLE : True\n",
      "  ALIGNED : True\n",
      "  WRITEBACKIFCOPY : False\n",
      "\n"
     ]
    }
   ],
   "execution_count": 56
  },
  {
   "metadata": {
    "ExecuteTime": {
     "end_time": "2024-12-16T14:13:56.925796Z",
     "start_time": "2024-12-16T14:13:56.909390Z"
    }
   },
   "cell_type": "code",
   "source": "array =  np.array([[[1, 2, 3], [4, 5, 6]], [[7, 8, 9], [10, 11, 12]]])",
   "id": "e2e65f507c4422f1",
   "outputs": [],
   "execution_count": 57
  },
  {
   "metadata": {
    "ExecuteTime": {
     "end_time": "2024-12-16T14:13:56.982727Z",
     "start_time": "2024-12-16T14:13:56.976215Z"
    }
   },
   "cell_type": "code",
   "source": [
    "print(array.shape)\n",
    "print(array.ndim)\n",
    "print(array.dtype)\n",
    "print(array.size)\n",
    "print(array.strides)\n",
    "print(array.itemsize)\n",
    "print(array.nbytes)\n",
    "print(array.data)\n",
    "print(array.flags)"
   ],
   "id": "c49d18a744c57cdb",
   "outputs": [
    {
     "name": "stdout",
     "output_type": "stream",
     "text": [
      "(2, 2, 3)\n",
      "3\n",
      "int64\n",
      "12\n",
      "(48, 24, 8)\n",
      "8\n",
      "96\n",
      "<memory at 0x000001761C14C4F0>\n",
      "  C_CONTIGUOUS : True\n",
      "  F_CONTIGUOUS : False\n",
      "  OWNDATA : True\n",
      "  WRITEABLE : True\n",
      "  ALIGNED : True\n",
      "  WRITEBACKIFCOPY : False\n",
      "\n"
     ]
    }
   ],
   "execution_count": 58
  },
  {
   "metadata": {
    "ExecuteTime": {
     "end_time": "2024-12-16T14:13:57.080614Z",
     "start_time": "2024-12-16T14:13:57.060856Z"
    }
   },
   "cell_type": "code",
   "source": [
    "# Strides of 1-D array\n",
    "import numpy as np\n",
    "mylist = [0, 1, 2, 3, 4, 5, 6, 7, 8, 9, 10, 11]\n",
    "arr = np.array(mylist, dtype=np.int64)\n",
    "\n",
    "print(\"array: \\n\", arr)\n",
    "print(\"arr.data: \", arr.data)\n",
    "print(\"arr.shape: \", arr.shape)  \n",
    "print(\"arr.dtype: \", arr.dtype)  \n",
    "print(\"arr.size: \", arr.size)    \n",
    "print(\"arr.itemsize: \", arr.itemsize) \n",
    "print(\"arr.nbytes: \", arr.nbytes)  \n",
    "print(\"arr.strides: \", arr.strides)\n",
    "# Use of strides is in Indexing, slicing and reshaping\n",
    "print(arr[3]) # jump 3*8=24 bytes and then read 8 bytes"
   ],
   "id": "ee205cf043890336",
   "outputs": [
    {
     "name": "stdout",
     "output_type": "stream",
     "text": [
      "array: \n",
      " [ 0  1  2  3  4  5  6  7  8  9 10 11]\n",
      "arr.data:  <memory at 0x000001761C16BAC0>\n",
      "arr.shape:  (12,)\n",
      "arr.dtype:  int64\n",
      "arr.size:  12\n",
      "arr.itemsize:  8\n",
      "arr.nbytes:  96\n",
      "arr.strides:  (8,)\n",
      "3\n"
     ]
    }
   ],
   "execution_count": 59
  },
  {
   "metadata": {
    "ExecuteTime": {
     "end_time": "2024-12-16T14:13:57.094727Z",
     "start_time": "2024-12-16T14:13:57.080614Z"
    }
   },
   "cell_type": "code",
   "source": [
    "# Strides of 2-D array\n",
    "import numpy as np\n",
    "import numpy as np\n",
    "mylist = [[0, 1, 2, 3], [4, 5, 6, 7], [8, 9, 10, 11]]\n",
    "arr = np.array(mylist, dtype=np.int64)\n",
    "\n",
    "print(\"array: \\n\", arr)\n",
    "print(\"arr.data: \", arr.data)\n",
    "print(\"arr.shape: \", arr.shape)  \n",
    "print(\"arr.dtype: \", arr.dtype)  \n",
    "print(\"arr.size: \", arr.size)    \n",
    "print(\"arr.itemsize: \", arr.itemsize) \n",
    "print(\"arr.nbytes: \", arr.nbytes)  \n",
    "print(\"arr.strides: \", arr.strides)\n",
    "# Use of strides is in Indexing, slicing and reshaping\n",
    "print(arr[1,2]) # jump 1*32+2*8=48 bytes and then read 8 byte"
   ],
   "id": "51008981d8153a48",
   "outputs": [
    {
     "name": "stdout",
     "output_type": "stream",
     "text": [
      "array: \n",
      " [[ 0  1  2  3]\n",
      " [ 4  5  6  7]\n",
      " [ 8  9 10 11]]\n",
      "arr.data:  <memory at 0x000001761C2C71D0>\n",
      "arr.shape:  (3, 4)\n",
      "arr.dtype:  int64\n",
      "arr.size:  12\n",
      "arr.itemsize:  8\n",
      "arr.nbytes:  96\n",
      "arr.strides:  (32, 8)\n",
      "6\n"
     ]
    }
   ],
   "execution_count": 60
  },
  {
   "metadata": {
    "ExecuteTime": {
     "end_time": "2024-12-16T14:13:57.122825Z",
     "start_time": "2024-12-16T14:13:57.110363Z"
    }
   },
   "cell_type": "code",
   "source": [
    "# Strides of 3-D array\n",
    "import numpy as np\n",
    "mylist = [\n",
    "          [[0, 1], [2, 3]],\n",
    "          [[4, 5], [6, 7]],\n",
    "          [[8, 9], [10, 11]]\n",
    "         ]\n",
    "arr = np.array(mylist, dtype=np.int64)\n",
    "\n",
    "print(\"array: \\n\", arr)\n",
    "print(\"arr.data: \", arr.data)\n",
    "print(\"arr.shape: \", arr.shape)  \n",
    "print(\"arr.dtype: \", arr.dtype)  \n",
    "print(\"arr.size: \", arr.size)    \n",
    "print(\"arr.itemsize: \", arr.itemsize) \n",
    "print(\"arr.nbytes: \", arr.nbytes)  \n",
    "print(\"arr.strides: \", arr.strides)\n",
    "# Use of strides is in Indexing, slicing and reshaping\n",
    "print(arr[1,1,1]) # jump 1*32 + 0*16 + 1*8 =40 bytes and then read 8 bytes"
   ],
   "id": "85e87c4988c7ae2b",
   "outputs": [
    {
     "name": "stdout",
     "output_type": "stream",
     "text": [
      "array: \n",
      " [[[ 0  1]\n",
      "  [ 2  3]]\n",
      "\n",
      " [[ 4  5]\n",
      "  [ 6  7]]\n",
      "\n",
      " [[ 8  9]\n",
      "  [10 11]]]\n",
      "arr.data:  <memory at 0x000001761C083880>\n",
      "arr.shape:  (3, 2, 2)\n",
      "arr.dtype:  int64\n",
      "arr.size:  12\n",
      "arr.itemsize:  8\n",
      "arr.nbytes:  96\n",
      "arr.strides:  (32, 16, 8)\n",
      "7\n"
     ]
    }
   ],
   "execution_count": 61
  },
  {
   "metadata": {
    "ExecuteTime": {
     "end_time": "2024-12-16T14:13:57.179624Z",
     "start_time": "2024-12-16T14:13:57.161113Z"
    }
   },
   "cell_type": "code",
   "source": [
    "# Creating 1-Dimensional array of all zeros\n",
    "arr = np.zeros(3)\n",
    "arr"
   ],
   "id": "9ae9ea3cf157306a",
   "outputs": [
    {
     "data": {
      "text/plain": [
       "array([0., 0., 0.])"
      ]
     },
     "execution_count": 62,
     "metadata": {},
     "output_type": "execute_result"
    }
   ],
   "execution_count": 62
  },
  {
   "metadata": {
    "ExecuteTime": {
     "end_time": "2024-12-16T14:13:57.187860Z",
     "start_time": "2024-12-16T14:13:57.179624Z"
    }
   },
   "cell_type": "code",
   "source": [
    "# Creating 2-Dimensional array of all zeros\n",
    "arr = np.zeros((2, 3))\n",
    "arr"
   ],
   "id": "e91c4ebdedf64dd8",
   "outputs": [
    {
     "data": {
      "text/plain": [
       "array([[0., 0., 0.],\n",
       "       [0., 0., 0.]])"
      ]
     },
     "execution_count": 63,
     "metadata": {},
     "output_type": "execute_result"
    }
   ],
   "execution_count": 63
  },
  {
   "metadata": {
    "ExecuteTime": {
     "end_time": "2024-12-16T14:13:57.199499Z",
     "start_time": "2024-12-16T14:13:57.187860Z"
    }
   },
   "cell_type": "code",
   "source": [
    "arr = np.zeros((2,3), dtype=np.int16)\n",
    "arr, arr.nbytes"
   ],
   "id": "bcd80f765c47e3db",
   "outputs": [
    {
     "data": {
      "text/plain": [
       "(array([[0, 0, 0],\n",
       "        [0, 0, 0]], dtype=int16),\n",
       " 12)"
      ]
     },
     "execution_count": 64,
     "metadata": {},
     "output_type": "execute_result"
    }
   ],
   "execution_count": 64
  },
  {
   "metadata": {
    "ExecuteTime": {
     "end_time": "2024-12-16T14:14:04.196909Z",
     "start_time": "2024-12-16T14:14:04.176752Z"
    }
   },
   "cell_type": "code",
   "source": [
    "# Creating 3-Dimensional array of all zeros\n",
    "arr = np.zeros((2, 3, 4))\n",
    "for i in range(2):\n",
    "    for j in range(3):\n",
    "        for k in range(4):\n",
    "            print(arr[i, j, k],end=' ')\n",
    "        print('     ')\n",
    "    print()"
   ],
   "id": "ed22ef044569d298",
   "outputs": [
    {
     "name": "stdout",
     "output_type": "stream",
     "text": [
      "0.0 0.0 0.0 0.0      \n",
      "0.0 0.0 0.0 0.0      \n",
      "0.0 0.0 0.0 0.0      \n",
      "\n",
      "0.0 0.0 0.0 0.0      \n",
      "0.0 0.0 0.0 0.0      \n",
      "0.0 0.0 0.0 0.0      \n",
      "\n"
     ]
    }
   ],
   "execution_count": 66
  },
  {
   "metadata": {
    "ExecuteTime": {
     "end_time": "2024-12-16T14:17:21.912261Z",
     "start_time": "2024-12-16T14:17:21.886514Z"
    }
   },
   "cell_type": "code",
   "source": [
    "# Creating one-dimensional array with ones\n",
    "arr = np.ones(3)\n",
    "arr"
   ],
   "id": "e4186a84e7aca072",
   "outputs": [
    {
     "data": {
      "text/plain": [
       "array([1., 1., 1.])"
      ]
     },
     "execution_count": 67,
     "metadata": {},
     "output_type": "execute_result"
    }
   ],
   "execution_count": 67
  },
  {
   "metadata": {
    "ExecuteTime": {
     "end_time": "2024-12-16T14:17:27.614632Z",
     "start_time": "2024-12-16T14:17:27.601658Z"
    }
   },
   "cell_type": "code",
   "source": [
    "# Creating two-dimensional array with ones\n",
    "arr = np.ones((2, 3))"
   ],
   "id": "75d4976e49c0b073",
   "outputs": [],
   "execution_count": 68
  },
  {
   "metadata": {
    "ExecuteTime": {
     "end_time": "2024-12-16T14:17:34.025415Z",
     "start_time": "2024-12-16T14:17:34.009264Z"
    }
   },
   "cell_type": "code",
   "source": [
    "arr = np.ones((2, 3), dtype=np.int16)\n",
    "arr"
   ],
   "id": "d5435c606d8a6c16",
   "outputs": [
    {
     "data": {
      "text/plain": [
       "array([[1, 1, 1],\n",
       "       [1, 1, 1]], dtype=int16)"
      ]
     },
     "execution_count": 69,
     "metadata": {},
     "output_type": "execute_result"
    }
   ],
   "execution_count": 69
  },
  {
   "metadata": {
    "ExecuteTime": {
     "end_time": "2024-12-16T14:17:48.983278Z",
     "start_time": "2024-12-16T14:17:48.974187Z"
    }
   },
   "cell_type": "code",
   "source": [
    "# Creating 3-Dimensional array of all ones\n",
    "arr = np.ones((2, 3, 4))\n",
    "arr "
   ],
   "id": "605d38b79906f91a",
   "outputs": [
    {
     "data": {
      "text/plain": [
       "array([[[1., 1., 1., 1.],\n",
       "        [1., 1., 1., 1.],\n",
       "        [1., 1., 1., 1.]],\n",
       "\n",
       "       [[1., 1., 1., 1.],\n",
       "        [1., 1., 1., 1.],\n",
       "        [1., 1., 1., 1.]]])"
      ]
     },
     "execution_count": 71,
     "metadata": {},
     "output_type": "execute_result"
    }
   ],
   "execution_count": 71
  },
  {
   "metadata": {
    "ExecuteTime": {
     "end_time": "2024-12-16T14:18:20.727403Z",
     "start_time": "2024-12-16T14:18:20.709753Z"
    }
   },
   "cell_type": "code",
   "source": [
    "# Creating one-dimensional array with a specific value\n",
    "arr = np.full((4,6), 5)\n",
    "arr"
   ],
   "id": "f96427595b86a98a",
   "outputs": [
    {
     "data": {
      "text/plain": [
       "array([[5, 5, 5, 5, 5, 5],\n",
       "       [5, 5, 5, 5, 5, 5],\n",
       "       [5, 5, 5, 5, 5, 5],\n",
       "       [5, 5, 5, 5, 5, 5]])"
      ]
     },
     "execution_count": 74,
     "metadata": {},
     "output_type": "execute_result"
    }
   ],
   "execution_count": 74
  },
  {
   "metadata": {
    "ExecuteTime": {
     "end_time": "2024-12-16T14:18:36.566860Z",
     "start_time": "2024-12-16T14:18:36.558779Z"
    }
   },
   "cell_type": "code",
   "source": "np.full((4,6), 5, dtype=np.int16)\n",
   "id": "9c276f7f7383743b",
   "outputs": [
    {
     "data": {
      "text/plain": [
       "array([[5, 5, 5, 5, 5, 5],\n",
       "       [5, 5, 5, 5, 5, 5],\n",
       "       [5, 5, 5, 5, 5, 5],\n",
       "       [5, 5, 5, 5, 5, 5]], dtype=int16)"
      ]
     },
     "execution_count": 75,
     "metadata": {},
     "output_type": "execute_result"
    }
   ],
   "execution_count": 75
  },
  {
   "metadata": {
    "ExecuteTime": {
     "end_time": "2024-12-16T14:18:51.910208Z",
     "start_time": "2024-12-16T14:18:51.889128Z"
    }
   },
   "cell_type": "code",
   "source": [
    "# Creating 2-Dimensional array with a specific value\n",
    "np.full((2, 3), 7)"
   ],
   "id": "5864cab113a3ebd",
   "outputs": [
    {
     "data": {
      "text/plain": [
       "array([[7, 7, 7],\n",
       "       [7, 7, 7]])"
      ]
     },
     "execution_count": 76,
     "metadata": {},
     "output_type": "execute_result"
    }
   ],
   "execution_count": 76
  },
  {
   "metadata": {
    "ExecuteTime": {
     "end_time": "2024-12-16T14:19:17.808913Z",
     "start_time": "2024-12-16T14:19:17.797032Z"
    }
   },
   "cell_type": "code",
   "source": "np.ones((2, 3)) * 8",
   "id": "d1cba3b8b1e2934a",
   "outputs": [
    {
     "data": {
      "text/plain": [
       "array([[8., 8., 8.],\n",
       "       [8., 8., 8.]])"
      ]
     },
     "execution_count": 79,
     "metadata": {},
     "output_type": "execute_result"
    }
   ],
   "execution_count": 79
  },
  {
   "metadata": {
    "ExecuteTime": {
     "end_time": "2024-12-16T14:23:27.507462Z",
     "start_time": "2024-12-16T14:23:27.496873Z"
    }
   },
   "cell_type": "code",
   "source": "np.eye(3,3)",
   "id": "ec203c413d2937af",
   "outputs": [
    {
     "data": {
      "text/plain": [
       "array([[1., 0., 0.],\n",
       "       [0., 1., 0.],\n",
       "       [0., 0., 1.]])"
      ]
     },
     "execution_count": 81,
     "metadata": {},
     "output_type": "execute_result"
    }
   ],
   "execution_count": 81
  },
  {
   "metadata": {
    "ExecuteTime": {
     "end_time": "2024-12-16T14:24:16.662602Z",
     "start_time": "2024-12-16T14:24:16.646535Z"
    }
   },
   "cell_type": "code",
   "source": "np.eye(5,5,dtype=np.int16)",
   "id": "fbebfe1cf2158ecf",
   "outputs": [
    {
     "data": {
      "text/plain": [
       "array([[1, 0, 0, 0, 0],\n",
       "       [0, 1, 0, 0, 0],\n",
       "       [0, 0, 1, 0, 0],\n",
       "       [0, 0, 0, 1, 0],\n",
       "       [0, 0, 0, 0, 1]], dtype=int16)"
      ]
     },
     "execution_count": 84,
     "metadata": {},
     "output_type": "execute_result"
    }
   ],
   "execution_count": 84
  },
  {
   "metadata": {
    "ExecuteTime": {
     "end_time": "2024-12-16T14:24:49.862910Z",
     "start_time": "2024-12-16T14:24:49.847797Z"
    }
   },
   "cell_type": "code",
   "source": "np.eye(5,5,1)",
   "id": "e0153467ad0624ba",
   "outputs": [
    {
     "data": {
      "text/plain": [
       "array([[0., 1., 0., 0., 0.],\n",
       "       [0., 0., 1., 0., 0.],\n",
       "       [0., 0., 0., 1., 0.],\n",
       "       [0., 0., 0., 0., 1.],\n",
       "       [0., 0., 0., 0., 0.]])"
      ]
     },
     "execution_count": 86,
     "metadata": {},
     "output_type": "execute_result"
    }
   ],
   "execution_count": 86
  },
  {
   "metadata": {
    "ExecuteTime": {
     "end_time": "2024-12-16T14:25:01.803385Z",
     "start_time": "2024-12-16T14:25:01.795901Z"
    }
   },
   "cell_type": "code",
   "source": "np.eye(5,5,-1)",
   "id": "154c1adbf7fffe2c",
   "outputs": [
    {
     "data": {
      "text/plain": [
       "array([[0., 0., 0., 0., 0.],\n",
       "       [1., 0., 0., 0., 0.],\n",
       "       [0., 1., 0., 0., 0.],\n",
       "       [0., 0., 1., 0., 0.],\n",
       "       [0., 0., 0., 1., 0.]])"
      ]
     },
     "execution_count": 87,
     "metadata": {},
     "output_type": "execute_result"
    }
   ],
   "execution_count": 87
  },
  {
   "metadata": {
    "ExecuteTime": {
     "end_time": "2024-12-16T14:57:12.869557Z",
     "start_time": "2024-12-16T14:57:12.852032Z"
    }
   },
   "cell_type": "code",
   "source": "np.random.rand(2,3)",
   "id": "929949d005f6c022",
   "outputs": [
    {
     "data": {
      "text/plain": [
       "array([[0.59982264, 0.17888863, 0.21515008],\n",
       "       [0.21901818, 0.54717456, 0.46064143]])"
      ]
     },
     "execution_count": 91,
     "metadata": {},
     "output_type": "execute_result"
    }
   ],
   "execution_count": 91
  },
  {
   "metadata": {
    "ExecuteTime": {
     "end_time": "2024-12-16T14:58:40.682929Z",
     "start_time": "2024-12-16T14:58:40.659835Z"
    }
   },
   "cell_type": "code",
   "source": "np.random.rand(2,3,4) * 10",
   "id": "4cb9a06a2d3c8413",
   "outputs": [
    {
     "data": {
      "text/plain": [
       "array([[[8.71481185, 1.67018679, 5.47465968, 9.08742201],\n",
       "        [5.39721322, 3.6538884 , 2.08784691, 3.68769961],\n",
       "        [8.01655617, 3.99212417, 0.546892  , 1.72731418]],\n",
       "\n",
       "       [[8.38075436, 6.26492545, 4.46757021, 7.77506761],\n",
       "        [6.26129871, 0.98903824, 8.2613854 , 7.03840418],\n",
       "        [4.78286731, 9.94745314, 1.1643944 , 5.05124313]]])"
      ]
     },
     "execution_count": 96,
     "metadata": {},
     "output_type": "execute_result"
    }
   ],
   "execution_count": 96
  },
  {
   "metadata": {
    "ExecuteTime": {
     "end_time": "2024-12-16T14:59:28.232808Z",
     "start_time": "2024-12-16T14:59:28.219917Z"
    }
   },
   "cell_type": "code",
   "source": "np.random.randint(5)\n",
   "id": "f6b46cb197f69252",
   "outputs": [
    {
     "data": {
      "text/plain": [
       "4"
      ]
     },
     "execution_count": 98,
     "metadata": {},
     "output_type": "execute_result"
    }
   ],
   "execution_count": 98
  },
  {
   "metadata": {
    "ExecuteTime": {
     "end_time": "2024-12-16T14:59:59.356504Z",
     "start_time": "2024-12-16T14:59:59.346396Z"
    }
   },
   "cell_type": "code",
   "source": "np.random.randint(low=3, high=10, size=(7,3))",
   "id": "498c7a618eed3545",
   "outputs": [
    {
     "data": {
      "text/plain": [
       "array([[6, 6, 8],\n",
       "       [6, 3, 7],\n",
       "       [7, 5, 5],\n",
       "       [4, 3, 7],\n",
       "       [8, 6, 3],\n",
       "       [6, 7, 6],\n",
       "       [5, 5, 4]], dtype=int32)"
      ]
     },
     "execution_count": 100,
     "metadata": {},
     "output_type": "execute_result"
    }
   ],
   "execution_count": 100
  },
  {
   "metadata": {
    "ExecuteTime": {
     "end_time": "2024-12-16T15:19:47.370128Z",
     "start_time": "2024-12-16T15:19:47.342449Z"
    }
   },
   "cell_type": "code",
   "source": [
    "# NumPy array # NumPy array upcast data type of all elements to bigger datatype in case of different types\n",
    "import numpy as np\n",
    "array1 = np.array([3.5, True, 9, 2.7, False])\n",
    "print(array1)\n",
    "print(type(array1))\n",
    "print(type(array1[1]))\n"
   ],
   "id": "1ddf786652260574",
   "outputs": [
    {
     "name": "stdout",
     "output_type": "stream",
     "text": [
      "[3.5 1.  9.  2.7 0. ]\n",
      "<class 'numpy.ndarray'>\n",
      "<class 'numpy.float64'>\n"
     ]
    }
   ],
   "execution_count": 103
  },
  {
   "metadata": {
    "ExecuteTime": {
     "end_time": "2024-12-16T15:20:49.824874Z",
     "start_time": "2024-12-16T15:20:49.811701Z"
    }
   },
   "cell_type": "code",
   "source": [
    "# NumPy array upcast data type of all elements to bigger datatype in case of different types\n",
    "import numpy as np\n",
    "array1 = np.array([3.5, True, 9, 2.7, False], dtype=int)\n",
    "print(array1)\n",
    "print(type(array1))\n",
    "print(type(array1[1]))"
   ],
   "id": "265f46b1d6a30f",
   "outputs": [
    {
     "name": "stdout",
     "output_type": "stream",
     "text": [
      "[3 1 9 2 0]\n",
      "<class 'numpy.ndarray'>\n",
      "<class 'numpy.int64'>\n"
     ]
    }
   ],
   "execution_count": 106
  },
  {
   "metadata": {
    "ExecuteTime": {
     "end_time": "2024-12-16T15:22:40.808252Z",
     "start_time": "2024-12-16T15:22:40.798088Z"
    }
   },
   "cell_type": "code",
   "source": [
    "from array import array\n",
    "array('i', [1, 2, 3, 4, 5])"
   ],
   "id": "24136f9bca2f90c1",
   "outputs": [
    {
     "data": {
      "text/plain": [
       "array('i', [1, 2, 3, 4, 5])"
      ]
     },
     "execution_count": 109,
     "metadata": {},
     "output_type": "execute_result"
    }
   ],
   "execution_count": 109
  },
  {
   "metadata": {
    "ExecuteTime": {
     "end_time": "2024-12-16T15:23:04.736834Z",
     "start_time": "2024-12-16T15:23:04.721192Z"
    }
   },
   "cell_type": "code",
   "source": "array(\"f\", [3, 6, 9, 2])  ",
   "id": "f3629427887b04a1",
   "outputs": [
    {
     "data": {
      "text/plain": [
       "array('f', [3.0, 6.0, 9.0, 2.0])"
      ]
     },
     "execution_count": 112,
     "metadata": {},
     "output_type": "execute_result"
    }
   ],
   "execution_count": 112
  },
  {
   "metadata": {
    "ExecuteTime": {
     "end_time": "2024-12-16T15:26:47.737785Z",
     "start_time": "2024-12-16T15:26:47.682601Z"
    }
   },
   "cell_type": "code",
   "source": "array(\"d\", [3, 6, 9, 2])",
   "id": "7085acc6def35a9d",
   "outputs": [
    {
     "data": {
      "text/plain": [
       "array('d', [3.0, 6.0, 9.0, 2.0])"
      ]
     },
     "execution_count": 114,
     "metadata": {},
     "output_type": "execute_result"
    }
   ],
   "execution_count": 114
  },
  {
   "metadata": {
    "ExecuteTime": {
     "end_time": "2024-12-16T15:57:38.113265Z",
     "start_time": "2024-12-16T15:57:37.548422Z"
    }
   },
   "cell_type": "code",
   "source": "np.array([3, 6, 9, 2], dtype=np.float32) + 7",
   "id": "f91324f0ed2ee778",
   "outputs": [
    {
     "data": {
      "text/plain": [
       "array([10., 13., 16.,  9.], dtype=float32)"
      ]
     },
     "execution_count": 118,
     "metadata": {},
     "output_type": "execute_result"
    }
   ],
   "execution_count": 118
  },
  {
   "metadata": {},
   "cell_type": "code",
   "outputs": [],
   "execution_count": null,
   "source": "",
   "id": "f7de57d6cabc0db4"
  }
 ],
 "metadata": {
  "kernelspec": {
   "display_name": "Python 3",
   "language": "python",
   "name": "python3"
  },
  "language_info": {
   "codemirror_mode": {
    "name": "ipython",
    "version": 2
   },
   "file_extension": ".py",
   "mimetype": "text/x-python",
   "name": "python",
   "nbconvert_exporter": "python",
   "pygments_lexer": "ipython2",
   "version": "2.7.6"
  }
 },
 "nbformat": 4,
 "nbformat_minor": 5
}
