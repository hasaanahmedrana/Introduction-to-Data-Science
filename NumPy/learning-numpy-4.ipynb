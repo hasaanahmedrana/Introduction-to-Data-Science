{
 "cells": [
  {
   "metadata": {},
   "cell_type": "markdown",
   "source": "# Scenerio Based Practice",
   "id": "4a96d82bedb9cbc2"
  },
  {
   "metadata": {},
   "cell_type": "markdown",
   "source": [
    "## Scenerio 1:\n",
    "Create a 2D array representing sales data for 7 days across 3 stores. Use array creation functions to initialize the data. \n",
    "###### Compute:\n",
    " 1- Total sales per store. <br>\n",
    " 2- Day with maximum total sales. <br>\n",
    " 3- Average sales across all stores.<br>"
   ],
   "id": "116142fc37250e8"
  },
  {
   "cell_type": "code",
   "id": "initial_id",
   "metadata": {
    "collapsed": true,
    "ExecuteTime": {
     "end_time": "2024-12-16T16:05:25.126204Z",
     "start_time": "2024-12-16T16:05:25.102676Z"
    }
   },
   "source": [
    "import numpy as np\n",
    "sales_data = np.random.randint(100, 500, size=(7, 3))\n",
    "print(\"Sales Data:\\n\", sales_data)\n",
    "total_sales_per_store = np.sum(sales_data, axis=0)\n",
    "print(\"Total Sales per Store:\", total_sales_per_store)\n",
    "total_sales_per_day = np.sum(sales_data, axis=1)\n",
    "day_with_max_sales = max(total_sales_per_day)\n",
    "print(\"Day with Maximum Total Sales:\", day_with_max_sales)\n",
    "average_sales = np.mean(sales_data)\n",
    "print(\"Average Sales across All Stores:\", average_sales)"
   ],
   "outputs": [
    {
     "name": "stdout",
     "output_type": "stream",
     "text": [
      "Sales Data:\n",
      " [[411 210 312]\n",
      " [372 151 451]\n",
      " [449 292 197]\n",
      " [234 227 318]\n",
      " [296 296 497]\n",
      " [298 194 218]\n",
      " [121 177 320]]\n",
      "Total Sales per Store: [2181 1547 2313]\n",
      "Day with Maximum Total Sales: 1089\n",
      "Average Sales across All Stores: 287.6666666666667\n"
     ]
    }
   ],
   "execution_count": 3
  },
  {
   "metadata": {
    "ExecuteTime": {
     "end_time": "2024-12-16T16:10:56.047286Z",
     "start_time": "2024-12-16T16:10:56.024376Z"
    }
   },
   "cell_type": "code",
   "source": [
    "all_sum = 0\n",
    "for i in range(3):\n",
    "    summ = 0\n",
    "    for j in range(7):\n",
    "        summ += sales_data[j][i]\n",
    "    print(\"Total Sales for Store\", i+1, \":\", summ)\n",
    "    all_sum += summ\n",
    "print(f\"Average Sales across All Stores: {(all_sum/21)}\")\n",
    "\n",
    "transpose = [[sales_data[j][i] for j in range(7)] for i in range(3)]\n",
    "col_sums = [sum(col) for col in transpose]\n",
    "print(\"Maximum Sales in a Day:\", col_sums.index(max(col_sums)))\n",
    "    "
   ],
   "id": "dd5f38f3a3383335",
   "outputs": [
    {
     "name": "stdout",
     "output_type": "stream",
     "text": [
      "Total Sales for Store 1 : 2181\n",
      "Total Sales for Store 2 : 1547\n",
      "Total Sales for Store 3 : 2313\n",
      "Average Sales across All Stores: 287.6666666666667\n",
      "Maximum Sales in a Day: 2\n"
     ]
    }
   ],
   "execution_count": 10
  },
  {
   "metadata": {},
   "cell_type": "markdown",
   "source": [
    "## Scenerio 2:\n",
    "Scenario 2: Temperature Recording\n",
    "Generate a NumPy array to simulate hourly temperature readings (24 hours) for a week.\n",
    "###### Compute:\n",
    "\n",
    "1- Identify the hour with the highest temperature each day. <br>\n",
    "2- Calculate the daily average temperature.\n"
   ],
   "id": "de8955f52304b117"
  },
  {
   "metadata": {
    "ExecuteTime": {
     "end_time": "2024-12-16T16:15:40.222845Z",
     "start_time": "2024-12-16T16:15:40.184942Z"
    }
   },
   "cell_type": "code",
   "source": [
    "import numpy as np\n",
    "array = np.random.uniform(low=10, high= 45, size=(7,24))\n",
    "print(\"Temperature Data:\\n\", array)\n",
    "hourly_max = np.max(array, axis=1)\n",
    "print(\"Hourly Max Temp:\", hourly_max)\n",
    "hourly_max_index = np.argmax(array, axis=1)\n",
    "print(\"Hourly Max Temp Index:\", hourly_max_index)\n",
    "daily_avg = np.mean(array, axis=1)\n",
    "print(\"Daily Average Temp:\", daily_avg)\n"
   ],
   "id": "c5d52dbac0a324d1",
   "outputs": [
    {
     "name": "stdout",
     "output_type": "stream",
     "text": [
      "Temperature Data:\n",
      " [[25.64047557 19.55828055 33.92941859 37.16737068 29.02746005 14.32965033\n",
      "  34.10949318 38.25511771 30.82749869 42.85463147 34.91584987 11.57552388\n",
      "  34.05141225 42.94709485 18.3167464  23.35772185 23.13300296 19.30471594\n",
      "  33.37503853 18.12923228 40.91292996 23.76065183 22.91187269 35.35691698]\n",
      " [33.00748762 31.93707195 43.99329571 18.2540545  19.98306721 31.99376211\n",
      "  19.18260036 21.80823334 40.54229869 40.25533593 32.64926882 23.29875322\n",
      "  33.81157019 35.44905529 25.66213855 19.17487641 35.97858745 34.40635827\n",
      "  37.00415795 24.31475359 44.29258571 16.5426449  43.94020019 17.93747315]\n",
      " [35.90178508 34.21237875 27.06069553 16.35925806 24.73634599 34.38351372\n",
      "  19.99485401 43.18906724 31.48295513 25.55945715 20.61704362 26.67399216\n",
      "  19.2159232  17.99357813 20.90559206 12.15121435 13.67119318 20.35708037\n",
      "  23.88557491 31.72115198 12.87962728 31.29015321 37.72373513 15.93941206]\n",
      " [39.0347204  16.33580285 25.18007973 14.87732598 26.52449664 35.58516378\n",
      "  34.71658842 34.30995546 39.57649711 37.98101094 30.78443218 38.10847477\n",
      "  25.64188984 18.31729353 35.71540183 12.63189062 38.37062398 12.58387535\n",
      "  14.5639113  32.96952723 38.81028928 35.88952971 16.34083803 15.17928865]\n",
      " [24.59880291 21.90282707 41.32084004 29.22891629 30.19118621 44.92114879\n",
      "  36.32991564 16.49977841 15.44980818 36.85284512 19.03243368 30.35493812\n",
      "  44.26552032 36.51045479 43.21468354 44.51450254 33.89026551 32.77692216\n",
      "  39.14185976 31.90097117 18.92476686 14.7770937  43.66220527 11.1764958 ]\n",
      " [15.59093902 40.39787942 34.83873846 33.23986065 14.20386712 32.81700496\n",
      "  20.32263145 37.8529648  33.04461941 17.33656494 44.36956838 12.71060958\n",
      "  42.9453178  40.50035878 16.4235134  42.19022615 37.7557999  19.55344778\n",
      "  11.25040478 41.29239939 32.15075342 43.45863918 35.84521623 16.11597035]\n",
      " [12.06388147 22.54414241 22.84152442 12.41682185 43.50288152 13.38744146\n",
      "  13.93335404 34.0293904  23.36404526 21.10262043 33.19556166 15.06755849\n",
      "  15.87181909 38.57858836 12.81530882 42.98918287 39.53581959 43.38882789\n",
      "  35.59714004 19.09539273 17.0626274  36.5994654  34.31470537 33.2454558 ]]\n",
      "Hourly Max Temp: [42.94709485 44.29258571 43.18906724 39.57649711 44.92114879 44.36956838\n",
      " 43.50288152]\n",
      "Hourly Max Temp Index: [13 20  7  8  5 10  4]\n",
      "Daily Average Temp: [28.65617113 30.22581796 24.9127326  27.91787115 30.89329925 29.84197064\n",
      " 26.5226482 ]\n"
     ]
    }
   ],
   "execution_count": 13
  }
 ],
 "metadata": {
  "kernelspec": {
   "display_name": "Python 3",
   "language": "python",
   "name": "python3"
  },
  "language_info": {
   "codemirror_mode": {
    "name": "ipython",
    "version": 2
   },
   "file_extension": ".py",
   "mimetype": "text/x-python",
   "name": "python",
   "nbconvert_exporter": "python",
   "pygments_lexer": "ipython2",
   "version": "2.7.6"
  }
 },
 "nbformat": 4,
 "nbformat_minor": 5
}
