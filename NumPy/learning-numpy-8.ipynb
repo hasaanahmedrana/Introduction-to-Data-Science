{
 "cells": [
  {
   "cell_type": "code",
   "execution_count": 2,
   "id": "c22d47e9",
   "metadata": {},
   "outputs": [
    {
     "name": "stdout",
     "output_type": "stream",
     "text": [
      "Original Array \n",
      " [21 64 42 91 22 79 40 84 91 92]\n",
      "Updated Array \n",
      " [ 21  64 333  91  22  79  40  84  91 777]\n"
     ]
    }
   ],
   "source": [
    "import numpy as np\n",
    "arr = np.random.randint(low = 1, high = 100, size = 10)\n",
    "print(\"Original Array \\n\", arr)\n",
    "arr[2] = 333\n",
    "arr[-1] = 777\n",
    "print(\"Updated Array \\n\", arr)"
   ]
  },
  {
   "cell_type": "code",
   "execution_count": 3,
   "id": "3e3b0f21",
   "metadata": {},
   "outputs": [
    {
     "name": "stdout",
     "output_type": "stream",
     "text": [
      "Original Array \n",
      " [[7 4 7 1]\n",
      " [3 9 2 3]\n",
      " [7 4 8 5]\n",
      " [4 5 5 9]]\n",
      "Updated Array \n",
      " [[ 7 77  7  1]\n",
      " [ 3  9 66  3]\n",
      " [ 7  4  8 22]\n",
      " [ 4  5  5  9]]\n"
     ]
    }
   ],
   "source": [
    "arr = np.random.randint(low = 1, high = 10, size = (4, 4))\n",
    "print(\"Original Array \\n\", arr)\n",
    "arr[0][1] = 77\n",
    "arr[1][2] = 66\n",
    "arr[2][-1] = 22\n",
    "print(\"Updated Array \\n\", arr)"
   ]
  },
  {
   "cell_type": "markdown",
   "id": "c7b21ead",
   "metadata": {},
   "source": [
    "## 2. Append New Elements to Numpy Arrays\n",
    "- The `np.append()` method allows us to insert new values at the end of a NumPy array.\n",
    "- The method always returns a copy of the existing numpy array with the values appended to the given axis.\n",
    "```\n",
    "np.append(arr, values, axis=None)\n",
    "```\n",
    "- Where,\n",
    "    - `arr` is the array in which we want to append\n",
    "    - `values` must be of the correct shape (the same shape as `arr` excluding `axis`)\n",
    "    - If `axis` is not specified, both `arr` and `values` are flattened before use.\n",
    "    - If `axis` is specified, then `values` must be of the correct shape (the same shape as `arr` excluding `axis`)\n",
    "- The original array remains as such, as it does not occur in-place."
   ]
  },
  {
   "cell_type": "code",
   "id": "22b89811",
   "metadata": {
    "ExecuteTime": {
     "end_time": "2024-12-16T21:01:49.582110Z",
     "start_time": "2024-12-16T21:01:49.231960Z"
    }
   },
   "source": [
    "import numpy as np\n",
    "arr1 = np.random.randint(low = 1, high = 100, size = 10)\n",
    "print(\"arr1 = \", arr1)"
   ],
   "outputs": [
    {
     "name": "stdout",
     "output_type": "stream",
     "text": [
      "arr1 =  [ 4 52 36 31 93 91 29 78  1 89]\n"
     ]
    }
   ],
   "execution_count": 3
  },
  {
   "cell_type": "code",
   "id": "b966077f",
   "metadata": {
    "ExecuteTime": {
     "end_time": "2024-12-16T21:01:50.485277Z",
     "start_time": "2024-12-16T21:01:50.469807Z"
    }
   },
   "source": [
    "# You can add a scalar value or a list of values at the end of a 1-D array\n",
    "arr2 = np.append(arr1, [101, 202,303])\n",
    "print(\"After append:\")\n",
    "print(\"arr1 = \", arr1)\n",
    "print(\"arr2 = \", arr2)"
   ],
   "outputs": [
    {
     "name": "stdout",
     "output_type": "stream",
     "text": [
      "After append:\n",
      "arr1 =  [ 4 52 36 31 93 91 29 78  1 89]\n",
      "arr2 =  [  4  52  36  31  93  91  29  78   1  89 101 202 303]\n"
     ]
    }
   ],
   "execution_count": 4
  },
  {
   "cell_type": "code",
   "id": "f809838c",
   "metadata": {
    "ExecuteTime": {
     "end_time": "2024-12-16T21:01:52.153152Z",
     "start_time": "2024-12-16T21:01:52.148537Z"
    }
   },
   "source": [
    "print(id(arr1))\n",
    "print(id(arr2))"
   ],
   "outputs": [
    {
     "name": "stdout",
     "output_type": "stream",
     "text": [
      "1875357014736\n",
      "1875357017520\n"
     ]
    }
   ],
   "execution_count": 5
  },
  {
   "cell_type": "markdown",
   "id": "b71d3c60",
   "metadata": {},
   "source": [
    "### b. Appending Elements in 2-D Arrays"
   ]
  },
  {
   "cell_type": "markdown",
   "id": "94d9cf4a",
   "metadata": {},
   "source": [
    "**Example:** In case of 2-D Arrays if `axis` is not mentioned both `arr` and `values` are flattened before use"
   ]
  },
  {
   "cell_type": "code",
   "id": "9fdcd017",
   "metadata": {
    "ExecuteTime": {
     "end_time": "2024-12-16T21:02:03.405461Z",
     "start_time": "2024-12-16T21:02:03.394776Z"
    }
   },
   "source": [
    "arr1 = np.random.randint(low = 1, high = 10, size = (3,3))\n",
    "print(\"arr1 = \\n\", arr1)"
   ],
   "outputs": [
    {
     "name": "stdout",
     "output_type": "stream",
     "text": [
      "arr1 = \n",
      " [[8 7 1]\n",
      " [7 7 4]\n",
      " [4 6 7]]\n"
     ]
    }
   ],
   "execution_count": 6
  },
  {
   "cell_type": "code",
   "id": "dfdb6a95",
   "metadata": {
    "ExecuteTime": {
     "end_time": "2024-12-16T21:02:04.914805Z",
     "start_time": "2024-12-16T21:02:04.906690Z"
    }
   },
   "source": [
    "# If the axis is not mentioned, values can be of any shape and both `arr` and `values` are flattened before use.\n",
    "arr2 = np.append(arr1, [101, 202,303, 404, 505])\n",
    "print(\"After append:\")\n",
    "print(\"arr1 = \\n\", arr1)\n",
    "print(\"arr2 = \", arr2)"
   ],
   "outputs": [
    {
     "name": "stdout",
     "output_type": "stream",
     "text": [
      "After append:\n",
      "arr1 = \n",
      " [[8 7 1]\n",
      " [7 7 4]\n",
      " [4 6 7]]\n",
      "arr2 =  [  8   7   1   7   7   4   4   6   7 101 202 303 404 505]\n"
     ]
    }
   ],
   "execution_count": 7
  },
  {
   "cell_type": "code",
   "id": "469af8c2",
   "metadata": {
    "ExecuteTime": {
     "end_time": "2024-12-16T21:02:23.041715Z",
     "start_time": "2024-12-16T21:02:23.032229Z"
    }
   },
   "source": [
    "arr1 = np.random.randint(low = 1, high = 10, size = (4,3))\n",
    "print(\"arr1 = \\n\", arr1)\n",
    "print(\"shape: \", arr1.shape)"
   ],
   "outputs": [
    {
     "name": "stdout",
     "output_type": "stream",
     "text": [
      "arr1 = \n",
      " [[2 7 6]\n",
      " [2 5 1]\n",
      " [9 6 2]\n",
      " [3 9 7]]\n",
      "shape:  (4, 3)\n"
     ]
    }
   ],
   "execution_count": 8
  },
  {
   "cell_type": "code",
   "id": "43aea3c8",
   "metadata": {
    "ExecuteTime": {
     "end_time": "2024-12-16T21:02:27.174130Z",
     "start_time": "2024-12-16T21:02:27.160511Z"
    }
   },
   "source": [
    "# For appending at axis 0, the values argument must the same shape as `arr` excluding `axis`\n",
    "# so the values should be a row vector, and in this case of shape (1,3), having 1 row and 3 columns\n",
    "arr2 = np.append(arr1, [[101, 202,303]], axis=0)\n",
    "print(\"After append:\")\n",
    "print(\"arr1 = \\n\", arr1)\n",
    "print(\"arr2 = \\n\", arr2)"
   ],
   "outputs": [
    {
     "name": "stdout",
     "output_type": "stream",
     "text": [
      "After append:\n",
      "arr1 = \n",
      " [[2 7 6]\n",
      " [2 5 1]\n",
      " [9 6 2]\n",
      " [3 9 7]]\n",
      "arr2 = \n",
      " [[  2   7   6]\n",
      " [  2   5   1]\n",
      " [  9   6   2]\n",
      " [  3   9   7]\n",
      " [101 202 303]]\n"
     ]
    }
   ],
   "execution_count": 9
  },
  {
   "cell_type": "code",
   "id": "70c4b2dc",
   "metadata": {
    "ExecuteTime": {
     "end_time": "2024-12-16T21:02:50.899040Z",
     "start_time": "2024-12-16T21:02:50.881368Z"
    }
   },
   "source": [
    "arr1 = np.random.randint(low = 1, high = 10, size = (4,3))\n",
    "print(\"arr1 = \\n\", arr1)\n",
    "print(\"shape: \", arr1.shape)"
   ],
   "outputs": [
    {
     "name": "stdout",
     "output_type": "stream",
     "text": [
      "arr1 = \n",
      " [[3 5 4]\n",
      " [7 3 6]\n",
      " [5 5 3]\n",
      " [9 4 9]]\n",
      "shape:  (4, 3)\n"
     ]
    }
   ],
   "execution_count": 10
  },
  {
   "cell_type": "code",
   "id": "4d32417b",
   "metadata": {
    "ExecuteTime": {
     "end_time": "2024-12-16T21:02:53.718098Z",
     "start_time": "2024-12-16T21:02:53.712362Z"
    }
   },
   "source": [
    "# For appending at axis 1, the values argument must the same shape as `arr` excluding `axis`\n",
    "# so the values should be a column vector of shape (4,1), having 4 rows and 1 column\n",
    "arr2 = np.append(arr1, [[101], [202], [303], [404]], axis=1)\n",
    "print(\"After append:\")\n",
    "print(\"arr1 = \\n\", arr1)\n",
    "print(\"arr2 = \\n\", arr2)"
   ],
   "outputs": [
    {
     "name": "stdout",
     "output_type": "stream",
     "text": [
      "After append:\n",
      "arr1 = \n",
      " [[3 5 4]\n",
      " [7 3 6]\n",
      " [5 5 3]\n",
      " [9 4 9]]\n",
      "arr2 = \n",
      " [[  3   5   4 101]\n",
      " [  7   3   6 202]\n",
      " [  5   5   3 303]\n",
      " [  9   4   9 404]]\n"
     ]
    }
   ],
   "execution_count": 11
  },
  {
   "cell_type": "markdown",
   "id": "66964303",
   "metadata": {},
   "source": [
    "## 3. Inserting New Elements in Numpy Arrays\n",
    "- The `np.insert()` method allows us to insert new values along the given axis before the given index.\n",
    "- The method always returns a copy of the existing numpy array with the values inserted to the given axis.\n",
    "```\n",
    "np.insert(arr, index, values, axis=None)\n",
    "```\n",
    "- Where,\n",
    "    - `arr` is the array in which we want to insert\n",
    "    - `index` is the index before which we want to insert\n",
    "    - `values` [array_like] values to be added in the `arr`\n",
    "    - If `axis` is not specified, both `arr` and `values` are flattened before use.\n",
    "    - If `axis` is zero, a row is inserted (For 2-D arrays)\n",
    "    - If `axis` is one, a column is inserted (For 2-D arrays)\n",
    "- The original array remains as such, as it does not occur in-place."
   ]
  },
  {
   "cell_type": "markdown",
   "id": "962d7c69",
   "metadata": {},
   "source": [
    "### a. Inserting Elements in 1-D Arrays"
   ]
  },
  {
   "cell_type": "code",
   "id": "668f2e4a",
   "metadata": {
    "ExecuteTime": {
     "end_time": "2024-12-16T21:04:26.150059Z",
     "start_time": "2024-12-16T21:04:26.077468Z"
    }
   },
   "source": [
    "arr1 = np.random.randint(low = 1, high = 100, size = 5)\n",
    "print(\"arr1 = \", arr1)"
   ],
   "outputs": [
    {
     "name": "stdout",
     "output_type": "stream",
     "text": [
      "arr1 =  [47 86 59 86 89]\n"
     ]
    }
   ],
   "execution_count": 12
  },
  {
   "cell_type": "code",
   "id": "a6c59fdd",
   "metadata": {
    "ExecuteTime": {
     "end_time": "2024-12-16T21:04:40.643352Z",
     "start_time": "2024-12-16T21:04:40.622323Z"
    }
   },
   "source": [
    "# You can insert a scalar value or a list of values in between array elements before the mentioned index\n",
    "arr2 = np.insert(arr1, 3, [55, 66,77])\n",
    "print(\"After insert:\")\n",
    "print(\"arr1 = \", arr1)\n",
    "print(\"arr2 = \", arr2)"
   ],
   "outputs": [
    {
     "name": "stdout",
     "output_type": "stream",
     "text": [
      "After insert:\n",
      "arr1 =  [47 86 59 86 89]\n",
      "arr2 =  [47 86 59 55 66 77 86 89]\n"
     ]
    }
   ],
   "execution_count": 13
  },
  {
   "cell_type": "markdown",
   "id": "06a5cb18",
   "metadata": {},
   "source": [
    "### b. Inserting Elements in 2-D Arrays"
   ]
  },
  {
   "cell_type": "markdown",
   "id": "de9ed861",
   "metadata": {},
   "source": [
    "**Example:** In case of 2-D array, if `axis` is not mentioned the array is flattened first"
   ]
  },
  {
   "cell_type": "code",
   "id": "3284a269",
   "metadata": {
    "ExecuteTime": {
     "end_time": "2024-12-16T21:05:10.026386Z",
     "start_time": "2024-12-16T21:05:10.007267Z"
    }
   },
   "source": [
    "arr1 = np.random.randint(low = 1, high = 10, size = (3,4))\n",
    "print(\"arr1 = \\n\", arr1)"
   ],
   "outputs": [
    {
     "name": "stdout",
     "output_type": "stream",
     "text": [
      "arr1 = \n",
      " [[4 4 1 4]\n",
      " [2 8 9 1]\n",
      " [7 2 9 6]]\n"
     ]
    }
   ],
   "execution_count": 14
  },
  {
   "cell_type": "code",
   "id": "cfad3dcf",
   "metadata": {
    "ExecuteTime": {
     "end_time": "2024-12-16T21:05:18.873258Z",
     "start_time": "2024-12-16T21:05:18.857912Z"
    }
   },
   "source": [
    "# Inserting a single value\n",
    "arr2 = np.insert(arr1, 4, 55)\n",
    "print(\"After insert:\")\n",
    "print(\"arr1 = \\n\", arr1)\n",
    "print(\"arr2 = \", arr2)"
   ],
   "outputs": [
    {
     "name": "stdout",
     "output_type": "stream",
     "text": [
      "After insert:\n",
      "arr1 = \n",
      " [[4 4 1 4]\n",
      " [2 8 9 1]\n",
      " [7 2 9 6]]\n",
      "arr2 =  [ 4  4  1  4 55  2  8  9  1  7  2  9  6]\n"
     ]
    }
   ],
   "execution_count": 15
  },
  {
   "cell_type": "code",
   "id": "40317d8a",
   "metadata": {
    "ExecuteTime": {
     "end_time": "2024-12-16T21:05:33.812331Z",
     "start_time": "2024-12-16T21:05:33.798626Z"
    }
   },
   "source": [
    "# Inserting a multiple values\n",
    "arr2 = np.insert(arr1, 4, [55, 66])\n",
    "print(\"After insert:\")\n",
    "print(\"arr1 = \\n\", arr1)\n",
    "print(\"arr2 = \", arr2)"
   ],
   "outputs": [
    {
     "name": "stdout",
     "output_type": "stream",
     "text": [
      "After insert:\n",
      "arr1 = \n",
      " [[4 4 1 4]\n",
      " [2 8 9 1]\n",
      " [7 2 9 6]]\n",
      "arr2 =  [ 4  4  1  4 55 66  2  8  9  1  7  2  9  6]\n"
     ]
    }
   ],
   "execution_count": 17
  },
  {
   "cell_type": "markdown",
   "id": "f2a9adba",
   "metadata": {},
   "source": [
    "**Example:** If axis=0, value(s) are added as a row before mentioned index"
   ]
  },
  {
   "cell_type": "code",
   "id": "fc4f9a6b",
   "metadata": {
    "ExecuteTime": {
     "end_time": "2024-12-16T21:05:54.362418Z",
     "start_time": "2024-12-16T21:05:54.348189Z"
    }
   },
   "source": [
    "arr1 = np.random.randint(low = 1, high = 10, size = (3,4))\n",
    "print(\"arr1 = \\n\", arr1)"
   ],
   "outputs": [
    {
     "name": "stdout",
     "output_type": "stream",
     "text": [
      "arr1 = \n",
      " [[8 7 1 7]\n",
      " [8 4 6 5]\n",
      " [6 1 9 3]]\n"
     ]
    }
   ],
   "execution_count": 18
  },
  {
   "cell_type": "code",
   "id": "a11a09b7",
   "metadata": {
    "ExecuteTime": {
     "end_time": "2024-12-16T21:06:17.072560Z",
     "start_time": "2024-12-16T21:06:17.062763Z"
    }
   },
   "source": [
    "# For axis = 0, note how the scalar value is replicated before insertion\n",
    "arr2 = np.insert(arr1, 2, 55, axis=0)\n",
    "print(\"After insert:\")\n",
    "print(\"arr1 = \\n\", arr1)\n",
    "print(\"arr2 = \\n\", arr2)"
   ],
   "outputs": [
    {
     "name": "stdout",
     "output_type": "stream",
     "text": [
      "After insert:\n",
      "arr1 = \n",
      " [[8 7 1 7]\n",
      " [8 4 6 5]\n",
      " [6 1 9 3]]\n",
      "arr2 = \n",
      " [[ 8  7  1  7]\n",
      " [ 8  4  6  5]\n",
      " [55 55 55 55]\n",
      " [ 6  1  9  3]]\n"
     ]
    }
   ],
   "execution_count": 19
  },
  {
   "cell_type": "code",
   "id": "49fbdaad",
   "metadata": {
    "ExecuteTime": {
     "end_time": "2024-12-16T21:06:18.134503Z",
     "start_time": "2024-12-16T21:06:18.122702Z"
    }
   },
   "source": [
    "# For axis=0, note the size of values has to be 4 in this case (equal to number of columns)\n",
    "arr2 = np.insert(arr1, 2, [55, 66, 77, 88], axis=0)\n",
    "print(\"After insert:\")\n",
    "print(\"arr1 = \\n\", arr1)\n",
    "print(\"arr2 = \\n\", arr2)"
   ],
   "outputs": [
    {
     "name": "stdout",
     "output_type": "stream",
     "text": [
      "After insert:\n",
      "arr1 = \n",
      " [[8 7 1 7]\n",
      " [8 4 6 5]\n",
      " [6 1 9 3]]\n",
      "arr2 = \n",
      " [[ 8  7  1  7]\n",
      " [ 8  4  6  5]\n",
      " [55 66 77 88]\n",
      " [ 6  1  9  3]]\n"
     ]
    }
   ],
   "execution_count": 20
  },
  {
   "cell_type": "markdown",
   "id": "87670040",
   "metadata": {},
   "source": [
    "**Example:** If axis=1, value(s) are added as a column at mentioned index"
   ]
  },
  {
   "cell_type": "code",
   "id": "a92e0c42",
   "metadata": {
    "ExecuteTime": {
     "end_time": "2024-12-16T21:06:30.617512Z",
     "start_time": "2024-12-16T21:06:30.609012Z"
    }
   },
   "source": [
    "arr1 = np.random.randint(low = 1, high = 10, size = (3,4))\n",
    "print(\"arr1 = \\n\", arr1)"
   ],
   "outputs": [
    {
     "name": "stdout",
     "output_type": "stream",
     "text": [
      "arr1 = \n",
      " [[1 7 6 2]\n",
      " [8 3 1 9]\n",
      " [3 6 2 3]]\n"
     ]
    }
   ],
   "execution_count": 21
  },
  {
   "cell_type": "code",
   "id": "e6d02c09",
   "metadata": {
    "ExecuteTime": {
     "end_time": "2024-12-16T21:06:37.053221Z",
     "start_time": "2024-12-16T21:06:37.042303Z"
    }
   },
   "source": [
    "# For axis = 1, note how the scalar value is replicated before insertion\n",
    "arr2 = np.insert(arr1, 2, 55, axis=1)\n",
    "print(\"After insert:\")\n",
    "print(\"arr1 = \\n\", arr1)\n",
    "print(\"arr2 = \\n\", arr2)"
   ],
   "outputs": [
    {
     "name": "stdout",
     "output_type": "stream",
     "text": [
      "After insert:\n",
      "arr1 = \n",
      " [[1 7 6 2]\n",
      " [8 3 1 9]\n",
      " [3 6 2 3]]\n",
      "arr2 = \n",
      " [[ 1  7 55  6  2]\n",
      " [ 8  3 55  1  9]\n",
      " [ 3  6 55  2  3]]\n"
     ]
    }
   ],
   "execution_count": 22
  },
  {
   "cell_type": "code",
   "id": "08c536be",
   "metadata": {
    "ExecuteTime": {
     "end_time": "2024-12-16T21:07:01.428242Z",
     "start_time": "2024-12-16T21:07:01.417827Z"
    }
   },
   "source": [
    "# For axis=1, note the size of values has to be 3 in this case (equal to number of rows)\n",
    "arr2 = np.insert(arr1, 2, [55, 66, 77], axis=1)\n",
    "print(\"After insert:\")\n",
    "print(\"arr1 = \\n\", arr1)\n",
    "print(\"arr2 = \\n\", arr2)"
   ],
   "outputs": [
    {
     "name": "stdout",
     "output_type": "stream",
     "text": [
      "After insert:\n",
      "arr1 = \n",
      " [[1 7 6 2]\n",
      " [8 3 1 9]\n",
      " [3 6 2 3]]\n",
      "arr2 = \n",
      " [[ 1  7 55  6  2]\n",
      " [ 8  3 66  1  9]\n",
      " [ 3  6 77  2  3]]\n"
     ]
    }
   ],
   "execution_count": 23
  },
  {
   "cell_type": "markdown",
   "id": "835da82c",
   "metadata": {},
   "source": [
    "## 4. Deleting  Elements of Numpy Arrays\n",
    "- The `np.delete()` method allows us to delete value(s) from an array at the given index\n",
    "- This function always returns a copy of the existing numpy array with the values deleted from the given axis.\n",
    "- If axis is not specified, values can be of any shape and will be flattened before use\n",
    "```\n",
    "np.delete(arr, index, axis=None)\n",
    "```\n",
    "- The original array remains as such, as it does not occur in-place."
   ]
  },
  {
   "cell_type": "markdown",
   "id": "8179e2e5",
   "metadata": {},
   "source": [
    "### a. Deleting Elements from a 1-D Arrays"
   ]
  },
  {
   "cell_type": "code",
   "id": "fe38b972",
   "metadata": {
    "ExecuteTime": {
     "end_time": "2024-12-16T21:07:52.227479Z",
     "start_time": "2024-12-16T21:07:52.213891Z"
    }
   },
   "source": [
    "arr1 = np.random.randint(low = 1, high = 10, size = 5)\n",
    "print(\"arr1 = \", arr1)"
   ],
   "outputs": [
    {
     "name": "stdout",
     "output_type": "stream",
     "text": [
      "arr1 =  [7 4 5 9 9]\n"
     ]
    }
   ],
   "execution_count": 24
  },
  {
   "cell_type": "code",
   "id": "e988364b",
   "metadata": {
    "ExecuteTime": {
     "end_time": "2024-12-16T21:07:53.623748Z",
     "start_time": "2024-12-16T21:07:53.604445Z"
    }
   },
   "source": [
    "# You can delete a scalar value from a specific index\n",
    "arr2 = np.delete(arr1, 3)\n",
    "print(\"After delete:\")\n",
    "print(\"arr1 = \", arr1)\n",
    "print(\"arr2 = \", arr2)"
   ],
   "outputs": [
    {
     "name": "stdout",
     "output_type": "stream",
     "text": [
      "After delete:\n",
      "arr1 =  [7 4 5 9 9]\n",
      "arr2 =  [7 4 5 9]\n"
     ]
    }
   ],
   "execution_count": 25
  },
  {
   "cell_type": "code",
   "id": "e1911555",
   "metadata": {
    "ExecuteTime": {
     "end_time": "2024-12-16T21:08:23.600321Z",
     "start_time": "2024-12-16T21:08:23.577203Z"
    }
   },
   "source": [
    "arr1 = np.random.randint(low = 1, high = 100, size = 10)\n",
    "print(\"arr1 = \", arr1)"
   ],
   "outputs": [
    {
     "name": "stdout",
     "output_type": "stream",
     "text": [
      "arr1 =  [93  3 28  5 97  8 51 32 15 83]\n"
     ]
    }
   ],
   "execution_count": 26
  },
  {
   "cell_type": "code",
   "id": "73ce969a",
   "metadata": {
    "ExecuteTime": {
     "end_time": "2024-12-16T21:08:32.346482Z",
     "start_time": "2024-12-16T21:08:32.331390Z"
    }
   },
   "source": [
    "# You can delete a list of values in between array elements from specific indices\n",
    "arr2 = np.delete(arr1, [2,5])\n",
    "print(\"After delete:\")\n",
    "print(\"arr1 = \", arr1)\n",
    "print(\"arr2 = \", arr2)"
   ],
   "outputs": [
    {
     "name": "stdout",
     "output_type": "stream",
     "text": [
      "After delete:\n",
      "arr1 =  [93  3 28  5 97  8 51 32 15 83]\n",
      "arr2 =  [93  3  5 97 51 32 15 83]\n"
     ]
    }
   ],
   "execution_count": 27
  },
  {
   "cell_type": "markdown",
   "id": "9fd1c3ac",
   "metadata": {},
   "source": [
    "### b. Deleting Elements from a 2-D Arrays"
   ]
  },
  {
   "cell_type": "markdown",
   "id": "6bc492dc",
   "metadata": {},
   "source": [
    "**Example:** Delete a specific element from a 2-D array, don't mention the axis. The resulting array is flattened before use"
   ]
  },
  {
   "cell_type": "code",
   "id": "3b859729",
   "metadata": {
    "ExecuteTime": {
     "end_time": "2024-12-16T21:09:40.350467Z",
     "start_time": "2024-12-16T21:09:40.343244Z"
    }
   },
   "source": [
    "arr1 = np.random.randint(low = 1, high = 10, size = (3,3))\n",
    "print(\"arr1 = \\n\", arr1)"
   ],
   "outputs": [
    {
     "name": "stdout",
     "output_type": "stream",
     "text": [
      "arr1 = \n",
      " [[6 3 4]\n",
      " [6 6 7]\n",
      " [2 4 3]]\n"
     ]
    }
   ],
   "execution_count": 28
  },
  {
   "cell_type": "code",
   "id": "fe24666f",
   "metadata": {
    "ExecuteTime": {
     "end_time": "2024-12-16T21:09:45.562392Z",
     "start_time": "2024-12-16T21:09:45.553303Z"
    }
   },
   "source": [
    "arr2 = np.delete(arr1, 5)\n",
    "print(\"After delete:\")\n",
    "print(\"arr1 = \\n\", arr1)\n",
    "print(\"arr2 = \", arr2)"
   ],
   "outputs": [
    {
     "name": "stdout",
     "output_type": "stream",
     "text": [
      "After delete:\n",
      "arr1 = \n",
      " [[6 3 4]\n",
      " [6 6 7]\n",
      " [2 4 3]]\n",
      "arr2 =  [6 3 4 6 6 2 4 3]\n"
     ]
    }
   ],
   "execution_count": 29
  },
  {
   "cell_type": "markdown",
   "id": "572970be",
   "metadata": {},
   "source": [
    "**Example:**  Delete a specific row from an existing 2-D array"
   ]
  },
  {
   "cell_type": "code",
   "id": "9c787db6",
   "metadata": {
    "ExecuteTime": {
     "end_time": "2024-12-16T21:09:56.956822Z",
     "start_time": "2024-12-16T21:09:56.944408Z"
    }
   },
   "source": [
    "arr1 = np.random.randint(low = 1, high = 10, size = (4,4))\n",
    "print(\"arr1 = \\n\", arr1)"
   ],
   "outputs": [
    {
     "name": "stdout",
     "output_type": "stream",
     "text": [
      "arr1 = \n",
      " [[4 2 3 4]\n",
      " [4 5 2 9]\n",
      " [9 7 2 6]\n",
      " [6 3 1 7]]\n"
     ]
    }
   ],
   "execution_count": 30
  },
  {
   "cell_type": "code",
   "id": "9aa44191",
   "metadata": {
    "ExecuteTime": {
     "end_time": "2024-12-16T21:09:59.381253Z",
     "start_time": "2024-12-16T21:09:59.369038Z"
    }
   },
   "source": [
    "arr2 = np.delete(arr1, 2, axis=0)\n",
    "print(\"After delete:\")\n",
    "print(\"arr1 = \\n\", arr1)\n",
    "print(\"arr2 = \\n\", arr2)"
   ],
   "outputs": [
    {
     "name": "stdout",
     "output_type": "stream",
     "text": [
      "After delete:\n",
      "arr1 = \n",
      " [[4 2 3 4]\n",
      " [4 5 2 9]\n",
      " [9 7 2 6]\n",
      " [6 3 1 7]]\n",
      "arr2 = \n",
      " [[4 2 3 4]\n",
      " [4 5 2 9]\n",
      " [6 3 1 7]]\n"
     ]
    }
   ],
   "execution_count": 31
  },
  {
   "cell_type": "markdown",
   "id": "a67df0fe",
   "metadata": {},
   "source": [
    "**Example:**  Delete a specific column from an existing 2-D array"
   ]
  },
  {
   "cell_type": "code",
   "id": "3e08589e",
   "metadata": {
    "ExecuteTime": {
     "end_time": "2024-12-16T21:10:06.349851Z",
     "start_time": "2024-12-16T21:10:06.339851Z"
    }
   },
   "source": [
    "arr1 = np.random.randint(low = 1, high = 10, size = (4,4))\n",
    "print(\"arr1 = \\n\", arr1)"
   ],
   "outputs": [
    {
     "name": "stdout",
     "output_type": "stream",
     "text": [
      "arr1 = \n",
      " [[6 9 8 4]\n",
      " [7 3 1 5]\n",
      " [4 7 7 6]\n",
      " [9 3 8 2]]\n"
     ]
    }
   ],
   "execution_count": 32
  },
  {
   "cell_type": "code",
   "id": "e6da91c2",
   "metadata": {
    "ExecuteTime": {
     "end_time": "2024-12-16T21:10:13.405394Z",
     "start_time": "2024-12-16T21:10:13.394169Z"
    }
   },
   "source": [
    "arr2 = np.delete(arr1, 2, axis=1)\n",
    "print(\"After delete:\")\n",
    "print(\"arr1 = \\n\", arr1)\n",
    "print(\"arr2 = \\n\", arr2)"
   ],
   "outputs": [
    {
     "name": "stdout",
     "output_type": "stream",
     "text": [
      "After delete:\n",
      "arr1 = \n",
      " [[6 9 8 4]\n",
      " [7 3 1 5]\n",
      " [4 7 7 6]\n",
      " [9 3 8 2]]\n",
      "arr2 = \n",
      " [[6 9 4]\n",
      " [7 3 5]\n",
      " [4 7 6]\n",
      " [9 3 2]]\n"
     ]
    }
   ],
   "execution_count": 33
  },
  {
   "cell_type": "markdown",
   "id": "7f00bded",
   "metadata": {},
   "source": [
    "## 5. Assigning vs Coping NumPy Arrays"
   ]
  },
  {
   "cell_type": "markdown",
   "id": "8e0e6a49",
   "metadata": {},
   "source": [
    "### a. Assigning two NumPy Arrays (Create an alias)"
   ]
  },
  {
   "cell_type": "code",
   "id": "382c3f2c",
   "metadata": {
    "ExecuteTime": {
     "end_time": "2024-12-16T21:10:27.031082Z",
     "start_time": "2024-12-16T21:10:27.023939Z"
    }
   },
   "source": [
    "arr1 = np.random.randint(low = 1, high = 10, size = 10)\n",
    "\n",
    "# Creating a copy using assignment operator, both variables point at the same array\n",
    "arr2 = arr1\n",
    "\n",
    "print(\"arr1 = \", arr1)\n",
    "print(\"arr2 = \", arr2)\n",
    "print(id(arr1))\n",
    "print(id(arr2))"
   ],
   "outputs": [
    {
     "name": "stdout",
     "output_type": "stream",
     "text": [
      "arr1 =  [6 3 3 8 7 4 2 8 6 7]\n",
      "arr2 =  [6 3 3 8 7 4 2 8 6 7]\n",
      "1875357014736\n",
      "1875357014736\n"
     ]
    }
   ],
   "execution_count": 34
  },
  {
   "cell_type": "code",
   "id": "2ec4f294",
   "metadata": {
    "ExecuteTime": {
     "end_time": "2024-12-16T21:10:28.309984Z",
     "start_time": "2024-12-16T21:10:28.300475Z"
    }
   },
   "source": [
    "# Change value in arr1 will also occur in arr2\n",
    "arr2[2] = 55\n",
    "print(\"arr1 = \", arr1)\n",
    "print(\"arr2 = \", arr2)\n"
   ],
   "outputs": [
    {
     "name": "stdout",
     "output_type": "stream",
     "text": [
      "arr1 =  [ 6  3 55  8  7  4  2  8  6  7]\n",
      "arr2 =  [ 6  3 55  8  7  4  2  8  6  7]\n"
     ]
    }
   ],
   "execution_count": 35
  },
  {
   "cell_type": "markdown",
   "id": "d6aa14c7",
   "metadata": {},
   "source": [
    "### b. View/Shallow Copy\n",
    "Arrays that share some data. The view method creates an object looking at the same data. Slicing an array returns a view of that array."
   ]
  },
  {
   "cell_type": "code",
   "id": "670adc44",
   "metadata": {
    "ExecuteTime": {
     "end_time": "2024-12-16T21:10:34.495485Z",
     "start_time": "2024-12-16T21:10:34.481002Z"
    }
   },
   "source": [
    "import numpy as np\n",
    "arr1 = np.random.randint(low = 1, high = 10, size = 10)\n",
    "\n",
    "# Creating a shallow copy (view) using slice operator\n",
    "arr2 = arr1[:]\n",
    "\n",
    "print(\"arr1 = \", arr1)\n",
    "print(\"arr2 = \", arr2)\n",
    "print(id(arr1))\n",
    "print(id(arr2))"
   ],
   "outputs": [
    {
     "name": "stdout",
     "output_type": "stream",
     "text": [
      "arr1 =  [4 9 9 7 1 7 9 4 3 1]\n",
      "arr2 =  [4 9 9 7 1 7 9 4 3 1]\n",
      "1875357018288\n",
      "1874984593392\n"
     ]
    }
   ],
   "execution_count": 36
  },
  {
   "cell_type": "code",
   "id": "ede79da2",
   "metadata": {
    "ExecuteTime": {
     "end_time": "2024-12-16T21:10:41.594101Z",
     "start_time": "2024-12-16T21:10:41.573308Z"
    }
   },
   "source": [
    "# Change value in arr1 will occur in arr2\n",
    "arr2[2] = 55\n",
    "\n",
    "print(\"arr1 = \", arr1)\n",
    "print(\"arr2 = \", arr2)"
   ],
   "outputs": [
    {
     "name": "stdout",
     "output_type": "stream",
     "text": [
      "arr1 =  [ 4  9 55  7  1  7  9  4  3  1]\n",
      "arr2 =  [ 4  9 55  7  1  7  9  4  3  1]\n"
     ]
    }
   ],
   "execution_count": 37
  },
  {
   "cell_type": "markdown",
   "id": "3f007f4f",
   "metadata": {},
   "source": [
    "### c. Deep Copy"
   ]
  },
  {
   "cell_type": "code",
   "id": "1abe5e75",
   "metadata": {
    "ExecuteTime": {
     "end_time": "2024-12-16T21:11:02.059704Z",
     "start_time": "2024-12-16T21:11:02.048972Z"
    }
   },
   "source": [
    "arr1 = np.random.randint(low = 1, high = 10, size = 10)\n",
    "\n",
    "# Create a Deep copy using copy() method, which will create a new copy of the array\n",
    "arr2 = arr1.copy()\n",
    "print(\"arr1 = \", arr1)\n",
    "print(\"arr2 = \", arr2)\n",
    "print(id(arr1))\n",
    "print(id(arr2))"
   ],
   "outputs": [
    {
     "name": "stdout",
     "output_type": "stream",
     "text": [
      "arr1 =  [4 1 4 3 8 3 4 5 7 7]\n",
      "arr2 =  [4 1 4 3 8 3 4 5 7 7]\n",
      "1875357018480\n",
      "1875357017616\n"
     ]
    }
   ],
   "execution_count": 38
  },
  {
   "cell_type": "code",
   "id": "5b11e005",
   "metadata": {
    "ExecuteTime": {
     "end_time": "2024-12-16T21:11:05.053830Z",
     "start_time": "2024-12-16T21:11:05.041748Z"
    }
   },
   "source": [
    "# Change value in array 1 will NOT occur in array 2\n",
    "arr2[2] = 55\n",
    "\n",
    "print(\"arr1 = \", arr1)\n",
    "print(\"arr2 = \", arr2)"
   ],
   "outputs": [
    {
     "name": "stdout",
     "output_type": "stream",
     "text": [
      "arr1 =  [4 1 4 3 8 3 4 5 7 7]\n",
      "arr2 =  [ 4  1 55  3  8  3  4  5  7  7]\n"
     ]
    }
   ],
   "execution_count": 39
  },
  {
   "metadata": {
    "jupyter": {
     "is_executing": true
    }
   },
   "cell_type": "code",
   "source": "",
   "id": "d6c614df1129805e",
   "outputs": [],
   "execution_count": null
  },
  {
   "metadata": {},
   "cell_type": "code",
   "outputs": [],
   "execution_count": null,
   "source": "",
   "id": "9c6ab526c802c135"
  }
 ],
 "metadata": {
  "kernelspec": {
   "display_name": "Python 3 (ipykernel)",
   "language": "python",
   "name": "python3"
  },
  "language_info": {
   "codemirror_mode": {
    "name": "ipython",
    "version": 3
   },
   "file_extension": ".py",
   "mimetype": "text/x-python",
   "name": "python",
   "nbconvert_exporter": "python",
   "pygments_lexer": "ipython3",
   "version": "3.9.7"
  }
 },
 "nbformat": 4,
 "nbformat_minor": 5
}
