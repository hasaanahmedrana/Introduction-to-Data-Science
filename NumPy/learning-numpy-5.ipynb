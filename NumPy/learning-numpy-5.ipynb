{
 "cells": [
  {
   "cell_type": "code",
   "id": "initial_id",
   "metadata": {
    "collapsed": true
   },
   "source": [
    "import numpy as np\n",
    "# Create a 1-D array having 4 random integers from 1 to 9\n",
    "arr = np.random.randint(1,10, size=(2,2))\n",
    "print(\"arr: \", arr)\n",
    "\n",
    "# After the operation a new `ndarray` is returned\n",
    "print(\"np.add(arr,2): \",      arr + 2)             # np.add(arr, 2))\n",
    "print(\"np.subtract(arr,2): \", arr - 2)            # np.subtract(arr, 2))\n",
    "print(\"np.multiply(arr,2): \", arr * 2)            # np.multiply(arr, 2))\n",
    "print(\"np.divide(arr,2): \",   arr / 2)            # np.divide(arr, 2))\n",
    "print(\"np.mod(arr,2): \",      arr % 2)            # np.mod(arr, 2))\n",
    "\n",
    "arr3 = arr + 9\n",
    "print(id(arr), id(arr3))"
   ],
   "outputs": [],
   "execution_count": null
  },
  {
   "metadata": {},
   "cell_type": "code",
   "source": [
    "import numpy as np\n",
    "# Create a 2x2 matrix with random integers  between 1 to 9\n",
    "matrix = np.random.randint(1,10, size=(2, 2))\n",
    "print(\"Original matrix:\\n\", matrix)\n",
    "\n",
    "# After the operation a new `ndarray` is returned\n",
    "print(\"np.add(matrix,2): \\n\",      matrix + 2)            # np.add(matrix, 2))\n",
    "print(\"np.subtract(matrix,2): \\n\", matrix - 2)            # np.subtract(matrix, 2))\n",
    "print(\"np.multiply(matrix,2): \\n\", matrix * 2)            # np.multiply(matrix, 2))\n",
    "print(\"np.divide(matrix,2): \\n\",   matrix / 2)            # np.divide(matrix, 2))\n",
    "print(\"np.mod(matrix,2): \\n\",      matrix % 2)            # np.mod(matrix, 2))"
   ],
   "id": "921de017fea022d3",
   "outputs": [],
   "execution_count": null
  },
  {
   "metadata": {},
   "cell_type": "code",
   "source": [
    "import numpy as np\n",
    "# Create two 1-D arrays each having 4 random integers from 1 to 9\n",
    "arr1 = np.random.randint(1,10, size=4)\n",
    "arr2 = np.random.randint(1,10, size=4)\n",
    "print(\"arr1: \", arr1)\n",
    "print(\"arr2: \", arr2)\n",
    "\n",
    "# After the operation a new `ndarray` is returned\n",
    "print(\"np.add(arr1, arr2) = \",      arr1 + arr2)     # np.add(arr1, arr2)\n",
    "print(\"np.subtract(arr1, arr2) = \", arr1 - arr2)     # np.subtract(arr1, arr2)\n",
    "print(\"np.multiply(arr1, arr2) = \", arr1 * arr2)     # np.multiply(arr1, arr2)\n",
    "print(\"np.divide(arr1, arr2) = \",   arr1  / arr2)    # np.divide(arr1, arr2)\n",
    "print(\"np.mod(arr1, arr2) = \",      arr1  % arr2)    # np.mod(arr1, arr2) # np.remainder(arr1, arr2)"
   ],
   "id": "c0cfcfbbe531e2fd",
   "outputs": [],
   "execution_count": null
  },
  {
   "metadata": {},
   "cell_type": "code",
   "source": "np.multiply(arr1, arr2)",
   "id": "5622799b25fcfa77",
   "outputs": [],
   "execution_count": null
  },
  {
   "metadata": {},
   "cell_type": "code",
   "source": [
    "# Creating 1-D array of 5 elements of random floats between 1 and 10\n",
    "arr = np.random.randint(1,50, size=5)\n",
    "print(\"Original ndarray: \", arr)\n",
    "\n",
    "\n",
    "# After the operation a new `ndarray` is returned, which is a copy of the original array with the operation performed\n",
    "print(\"np.abs(arr) = \", np.abs(arr))\n",
    "print(\"np.square(arr) = \", np.square(arr))\n",
    "print(\"np.sqrt(arr) = \", np.sqrt(arr))\n",
    "print(\"np.cbrt(arr) = \", np.cbrt(arr))\n",
    "print(\"np.log(arr) = \", np.log(arr))\n",
    "print(\"np.log2(arr) = \", np.log2(arr))\n",
    "print(\"np.log10(arr) = \", np.log10(arr))\n",
    "print(\"np.isnan(arr) = \", np.isnan(arr))\n",
    "print(\"np.ceil(arr) = \", np.ceil(arr))\n",
    "print(\"np.floor(arr) = \", np.floor(arr))\n",
    "print(\"np.cumsum(arr) = \", np.cumsum(arr))import numpy as np\n"
   ],
   "id": "638c0f08526244fd",
   "outputs": [],
   "execution_count": null
  },
  {
   "metadata": {},
   "cell_type": "code",
   "source": [
    "import numpy as np\n",
    "\n",
    "# Create a 1D array\n",
    "arr = np.array([1, 2, 3, 4, 5])\n",
    "\n",
    "# Compute the cumulative sum\n",
    "cumsum_arr = np.cumsum(arr)\n",
    "print(\"Cumulative Sum of 1D array:\", cumsum_arr)\n",
    "\n",
    "# Create a 2D array\n",
    "matrix = np.array([[1, 2, 3], [4, 5, 6]])\n",
    "\n",
    "# Compute the cumulative sum along the default axis (flattened array)\n",
    "cumsum_matrix_default = np.cumsum(matrix)\n",
    "print(\"Cumulative Sum of 2D array (flattened):\", cumsum_matrix_default)\n",
    "\n",
    "# Compute the cumulative sum along axis 0 (column-wise)\n",
    "cumsum_matrix_axis0 = np.cumsum(matrix, axis=0)\n",
    "print(\"Cumulative Sum of 2D array (column-wise):\", cumsum_matrix_axis0)\n",
    "\n",
    "# Compute the cumulative sum along axis 1 (row-wise)\n",
    "cumsum_matrix_axis1 = np.cumsum(matrix, axis=1)\n",
    "print(\"Cumulative Sum of 2D array (row-wise):\", cumsum_matrix_axis1)"
   ],
   "id": "fb1fe48a2099a55d",
   "outputs": [],
   "execution_count": null
  },
  {
   "metadata": {},
   "cell_type": "code",
   "source": [
    "import numpy as np\n",
    "# Create a 2x2 matrix with random integers  between 1 to 9\n",
    "matrix = np.random.randint(1,10, size=(2, 2))\n",
    "print(\"matrix: \\n\", matrix)\n",
    "\n",
    "# After the operation a new `ndarray` is returned, which is a copy of the original array with the operation performed\n",
    "print(\"np.square(matrix) = \\n\", np.square(matrix))\n",
    "print(\"np.sqrt(matrix) = \\n\", np.sqrt(matrix))\n",
    "print(\"np.log2(matrix) = \\n\", np.log2(matrix))\n",
    "print(\"np.isnan(matrix) = \\n\", np.isnan(matrix))\n",
    "print(\"np.ceil(matrix) = \\n\", np.ceil(matrix))\n",
    "print(\"np.floor(matrix) = \\n\", np.floor(matrix))\n",
    "print(\"np.cumsum(matrix) = \\n\", np.cumsum(matrix))"
   ],
   "id": "850b1ef0e7f0345c",
   "outputs": [],
   "execution_count": null
  },
  {
   "metadata": {},
   "cell_type": "code",
   "source": [
    "# Create a 1-D array having 5 random integers from 1 to 9\n",
    "arr = np.random.randint(1, 10, size=(2,5))\n",
    "print(\"arr: \", arr)\n",
    "\n",
    "#Arithmetic mean is the sum of elements along an axis divided by the number of elements. \n",
    "print(\"np.mean(arr) = \",    np.mean(arr))\n",
    "\n",
    "# The np.average() function computes the weighted average, by multiplying of each array element by its weight\n",
    "# The np.average() is same as np.mean(), when weight is not specified\n",
    "print(\"np.average(arr) = \", np.average(arr))\n",
    "\n",
    "# Considering an array [1,2,3,4] and corresponding weights [4,3,2,1], the weighted average is calculated by \n",
    "# adding the product of the corresponding elements and dividing the sum by the sum of weights.\n",
    "#             Weighted average = (1*4+2*3+3*2+4*1)/(4+3+2+1)\n",
    "\n",
    "arr1 = np.array([1,2,3,4])\n",
    "wts = np.array([4,3,2,1])\n",
    "print(\"\\narr1: \", arr1)\n",
    "print(\"wts:  \", wts)\n",
    "print(\"np.average(arr1, weights=wts) = \", np.average(arr1, weights= wts))"
   ],
   "id": "b3b6ed480e76b5a1",
   "outputs": [],
   "execution_count": null
  },
  {
   "metadata": {},
   "cell_type": "code",
   "source": [
    "import numpy as np\n",
    "# Create a 3x3 (2-D array) initialized with random integers from 1 to 9\n",
    "matrix = np.random.randint(1,10, size=(3, 3))\n",
    "print(\"matrix: \\n\", matrix)\n",
    "\n",
    "print(\"np.sum(matrix, axis=0) = \",     np.sum(matrix))\n",
    "print(\"np.sum(matrix, axis=1) = \",     np.sum(matrix, axis=1))"
   ],
   "id": "6e37197f64353762",
   "outputs": [],
   "execution_count": null
  },
  {
   "metadata": {},
   "cell_type": "code",
   "source": [
    "import numpy as np\n",
    "arr = np.array([1, 2, 3, 4, 5, 6, 7, 8])\n",
    "t1 = np.where(arr%2 == 0)\n",
    "print(t1)"
   ],
   "id": "f6b88cb480cf6811",
   "outputs": [],
   "execution_count": null
  },
  {
   "metadata": {},
   "cell_type": "code",
   "source": "",
   "id": "d8a1ecc0da7a2958",
   "outputs": [],
   "execution_count": null
  }
 ],
 "metadata": {
  "kernelspec": {
   "display_name": "Python 3",
   "language": "python",
   "name": "python3"
  },
  "language_info": {
   "codemirror_mode": {
    "name": "ipython",
    "version": 2
   },
   "file_extension": ".py",
   "mimetype": "text/x-python",
   "name": "python",
   "nbconvert_exporter": "python",
   "pygments_lexer": "ipython2",
   "version": "2.7.6"
  }
 },
 "nbformat": 4,
 "nbformat_minor": 5
}
