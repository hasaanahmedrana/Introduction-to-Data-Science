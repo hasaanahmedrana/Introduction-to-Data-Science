{
 "cells": [
  {
   "cell_type": "code",
   "id": "initial_id",
   "metadata": {
    "collapsed": true,
    "ExecuteTime": {
     "end_time": "2024-12-16T16:20:15.105740Z",
     "start_time": "2024-12-16T16:20:15.083180Z"
    }
   },
   "source": [
    "import numpy as np\n",
    "# Create a 1-D array having 4 random integers from 1 to 9\n",
    "arr = np.random.randint(1,10, size=(2,2))\n",
    "print(\"arr: \", arr)\n",
    "\n",
    "# After the operation a new `ndarray` is returned\n",
    "print(\"np.add(arr,2): \",      arr + 2)             # np.add(arr, 2))\n",
    "print(\"np.subtract(arr,2): \", arr - 2)            # np.subtract(arr, 2))\n",
    "print(\"np.multiply(arr,2): \", arr * 2)            # np.multiply(arr, 2))\n",
    "print(\"np.divide(arr,2): \",   arr / 2)            # np.divide(arr, 2))\n",
    "print(\"np.mod(arr,2): \",      arr % 2)            # np.mod(arr, 2))\n",
    "\n",
    "arr3 = arr + 9\n",
    "print(id(arr), id(arr3))"
   ],
   "outputs": [
    {
     "name": "stdout",
     "output_type": "stream",
     "text": [
      "arr:  [[9 5]\n",
      " [7 7]]\n",
      "np.add(arr,2):       [[11  7]\n",
      " [ 9  9]]\n",
      "\n",
      "np.subtract(arr,2):  [[7 3]\n",
      " [5 5]]\n",
      "\n",
      "np.multiply(arr,2):  [[18 10]\n",
      " [14 14]]\n",
      "np.divide(arr,2):  [[4.5 2.5]\n",
      " [3.5 3.5]]\n",
      "np.mod(arr,2):  [[1 1]\n",
      " [1 1]]\n",
      "2351536147792 2351533586736\n"
     ]
    }
   ],
   "execution_count": 4
  },
  {
   "metadata": {},
   "cell_type": "code",
   "outputs": [],
   "execution_count": null,
   "source": "",
   "id": "921de017fea022d3"
  }
 ],
 "metadata": {
  "kernelspec": {
   "display_name": "Python 3",
   "language": "python",
   "name": "python3"
  },
  "language_info": {
   "codemirror_mode": {
    "name": "ipython",
    "version": 2
   },
   "file_extension": ".py",
   "mimetype": "text/x-python",
   "name": "python",
   "nbconvert_exporter": "python",
   "pygments_lexer": "ipython2",
   "version": "2.7.6"
  }
 },
 "nbformat": 4,
 "nbformat_minor": 5
}
