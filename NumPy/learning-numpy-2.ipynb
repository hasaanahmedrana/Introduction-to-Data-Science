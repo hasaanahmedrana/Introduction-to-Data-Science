{
 "cells": [
  {
   "cell_type": "code",
   "execution_count": 1,
   "id": "445cccc4",
   "metadata": {
    "_cell_guid": "b1076dfc-b9ad-4769-8c92-a6c4dae69d19",
    "_uuid": "8f2839f25d086af736a60e9eeb907d3b93b6e0e5",
    "execution": {
     "iopub.execute_input": "2024-11-12T20:47:08.978540Z",
     "iopub.status.busy": "2024-11-12T20:47:08.975987Z",
     "iopub.status.idle": "2024-11-12T20:47:08.989993Z",
     "shell.execute_reply": "2024-11-12T20:47:08.988949Z"
    },
    "papermill": {
     "duration": 0.026092,
     "end_time": "2024-11-12T20:47:08.992998",
     "exception": false,
     "start_time": "2024-11-12T20:47:08.966906",
     "status": "completed"
    },
    "tags": []
   },
   "outputs": [],
   "source": [
    "import numpy as np "
   ]
  },
  {
   "cell_type": "markdown",
   "id": "f6fbbd8f",
   "metadata": {
    "papermill": {
     "duration": 0.004923,
     "end_time": "2024-11-12T20:47:09.003717",
     "exception": false,
     "start_time": "2024-11-12T20:47:08.998794",
     "status": "completed"
    },
    "tags": []
   },
   "source": [
    "# Numpy Array VS Python arrays or lists.\n",
    "\n",
    "- Numpy arrays have contagious space in memory that is why they are more effiecient, on the other hand lists have non contagious memory allocation and python arrays also have contagious memory allocation. \n",
    "- Numpy arrays have homogenous data elements only; it typecast different data type during creation into bigger data types or the data type which is mentioned, on the other hands python list can store hetergenous elements, and python array also contain homogenous elements only and perform typecasting. \n",
    "- Numpy arrays are highly efficient and show high flexibility , while python arrays are also efficient  and flexible than the python list.\n",
    "- Numpy arrays take less space in memory than Python arrays or list.\n",
    "- Numoy arrays can not be grown while python arrays ans list are dynamic\n"
   ]
  },
  {
   "cell_type": "code",
   "execution_count": 2,
   "id": "0e07c0ec",
   "metadata": {
    "execution": {
     "iopub.execute_input": "2024-11-12T20:47:09.016185Z",
     "iopub.status.busy": "2024-11-12T20:47:09.015788Z",
     "iopub.status.idle": "2024-11-12T20:47:09.025083Z",
     "shell.execute_reply": "2024-11-12T20:47:09.023926Z"
    },
    "papermill": {
     "duration": 0.018493,
     "end_time": "2024-11-12T20:47:09.027667",
     "exception": false,
     "start_time": "2024-11-12T20:47:09.009174",
     "status": "completed"
    },
    "tags": []
   },
   "outputs": [
    {
     "data": {
      "text/plain": [
       "array(['123', '1', '2', '2.4', 'False', '1', 'abc'], dtype='<U32')"
      ]
     },
     "execution_count": 2,
     "metadata": {},
     "output_type": "execute_result"
    }
   ],
   "source": [
    "np_array = np.array([123,1,2,2.4, False,1 ,'abc'])\n",
    "np_array"
   ]
  },
  {
   "cell_type": "code",
   "execution_count": 3,
   "id": "cc61740f",
   "metadata": {
    "execution": {
     "iopub.execute_input": "2024-11-12T20:47:09.040075Z",
     "iopub.status.busy": "2024-11-12T20:47:09.039642Z",
     "iopub.status.idle": "2024-11-12T20:47:09.429549Z",
     "shell.execute_reply": "2024-11-12T20:47:09.428051Z"
    },
    "papermill": {
     "duration": 0.398606,
     "end_time": "2024-11-12T20:47:09.431671",
     "exception": true,
     "start_time": "2024-11-12T20:47:09.033065",
     "status": "failed"
    },
    "tags": []
   },
   "outputs": [
    {
     "ename": "ValueError",
     "evalue": "bad typecode (must be b, B, u, h, H, i, I, l, L, q, Q, f or d)",
     "output_type": "error",
     "traceback": [
      "\u001B[0;31m---------------------------------------------------------------------------\u001B[0m",
      "\u001B[0;31mValueError\u001B[0m                                Traceback (most recent call last)",
      "Cell \u001B[0;32mIn[3], line 2\u001B[0m\n\u001B[1;32m      1\u001B[0m \u001B[38;5;28;01mimport\u001B[39;00m \u001B[38;5;21;01marray\u001B[39;00m\n\u001B[0;32m----> 2\u001B[0m py_arr \u001B[38;5;241m=\u001B[39m \u001B[43marray\u001B[49m\u001B[38;5;241;43m.\u001B[39;49m\u001B[43marray\u001B[49m\u001B[43m(\u001B[49m\u001B[38;5;124;43m'\u001B[39;49m\u001B[38;5;124;43mF\u001B[39;49m\u001B[38;5;124;43m'\u001B[39;49m\u001B[43m,\u001B[49m\u001B[43m[\u001B[49m\u001B[38;5;241;43m12\u001B[39;49m\u001B[43m,\u001B[49m\u001B[38;5;241;43m3\u001B[39;49m\u001B[43m,\u001B[49m\u001B[38;5;241;43m4\u001B[39;49m\u001B[43m,\u001B[49m\u001B[38;5;241;43m5\u001B[39;49m\u001B[43m]\u001B[49m\u001B[43m)\u001B[49m\n\u001B[1;32m      3\u001B[0m py_arr\n",
      "\u001B[0;31mValueError\u001B[0m: bad typecode (must be b, B, u, h, H, i, I, l, L, q, Q, f or d)"
     ]
    }
   ],
   "source": [
    "import array\n",
    "py_arr = array.array('i',[12,3,4,5])\n",
    "py_arr"
   ]
  },
  {
   "cell_type": "code",
   "execution_count": null,
   "id": "859cc6d4",
   "metadata": {
    "execution": {
     "iopub.execute_input": "2024-11-12T20:24:18.043408Z",
     "iopub.status.busy": "2024-11-12T20:24:18.042992Z",
     "iopub.status.idle": "2024-11-12T20:24:18.051197Z",
     "shell.execute_reply": "2024-11-12T20:24:18.050050Z",
     "shell.execute_reply.started": "2024-11-12T20:24:18.043370Z"
    },
    "papermill": {
     "duration": null,
     "end_time": null,
     "exception": null,
     "start_time": null,
     "status": "pending"
    },
    "tags": []
   },
   "outputs": [],
   "source": [
    "np_array =  np.arange(1,10,2)\n",
    "np_array"
   ]
  },
  {
   "cell_type": "code",
   "execution_count": null,
   "id": "6f2d1e69",
   "metadata": {
    "execution": {
     "iopub.execute_input": "2024-11-12T20:36:14.969923Z",
     "iopub.status.busy": "2024-11-12T20:36:14.969453Z",
     "iopub.status.idle": "2024-11-12T20:36:14.976123Z",
     "shell.execute_reply": "2024-11-12T20:36:14.975023Z",
     "shell.execute_reply.started": "2024-11-12T20:36:14.969880Z"
    },
    "papermill": {
     "duration": null,
     "end_time": null,
     "exception": null,
     "start_time": null,
     "status": "pending"
    },
    "tags": []
   },
   "outputs": [],
   "source": [
    "lst = [i for i in range(0,1000)]\n",
    "print(lst)"
   ]
  },
  {
   "cell_type": "code",
   "execution_count": null,
   "id": "e49092e4",
   "metadata": {
    "execution": {
     "iopub.execute_input": "2024-11-12T20:36:46.670029Z",
     "iopub.status.busy": "2024-11-12T20:36:46.669561Z",
     "iopub.status.idle": "2024-11-12T20:36:46.681955Z",
     "shell.execute_reply": "2024-11-12T20:36:46.680858Z",
     "shell.execute_reply.started": "2024-11-12T20:36:46.669987Z"
    },
    "papermill": {
     "duration": null,
     "end_time": null,
     "exception": null,
     "start_time": null,
     "status": "pending"
    },
    "tags": []
   },
   "outputs": [],
   "source": [
    "np_arr = np.arange(1000)\n",
    "np_arr"
   ]
  },
  {
   "cell_type": "code",
   "execution_count": null,
   "id": "1b7e604b",
   "metadata": {
    "execution": {
     "iopub.execute_input": "2024-11-12T20:41:53.034957Z",
     "iopub.status.busy": "2024-11-12T20:41:53.034406Z",
     "iopub.status.idle": "2024-11-12T20:41:53.042636Z",
     "shell.execute_reply": "2024-11-12T20:41:53.041331Z",
     "shell.execute_reply.started": "2024-11-12T20:41:53.034912Z"
    },
    "papermill": {
     "duration": null,
     "end_time": null,
     "exception": null,
     "start_time": null,
     "status": "pending"
    },
    "tags": []
   },
   "outputs": [],
   "source": [
    "import sys\n",
    "size = sys.getsizeof(lst)\n",
    "print(size )\n",
    "print(np_arr.nbytes)"
   ]
  },
  {
   "cell_type": "code",
   "execution_count": null,
   "id": "bc3d8d9d",
   "metadata": {
    "papermill": {
     "duration": null,
     "end_time": null,
     "exception": null,
     "start_time": null,
     "status": "pending"
    },
    "tags": []
   },
   "outputs": [],
   "source": [
    "# You can multiply two numPy arrays using * operator\n",
    "import numpy as np\n",
    "myarray1 = np.array([1, 2, 3, 4, 5, 6])\n",
    "myarray2 = np.array([1, 2, 3, 4, 5, 6])\n",
    "myarray3 = myarray1 * myarray2\n",
    "myarray3"
   ]
  },
  {
   "cell_type": "code",
   "execution_count": null,
   "id": "234d1454",
   "metadata": {
    "papermill": {
     "duration": null,
     "end_time": null,
     "exception": null,
     "start_time": null,
     "status": "pending"
    },
    "tags": []
   },
   "outputs": [],
   "source": [
    "# you can't multiply two lists using a * operator, you have to use a loop\n",
    "mylist1 = [1, 2, 3, 4, 5, 6]\n",
    "mylist2 = [1, 2, 3, 4, 5, 6]\n",
    "mylist3 = [0, 0, 0, 0, 0, 0]\n",
    "for i in range(0,6):\n",
    "    mylist3[i] = mylist1[i] * mylist2[i]\n",
    "mylist3"
   ]
  },
  {
   "cell_type": "code",
   "execution_count": null,
   "id": "11e3ae44",
   "metadata": {
    "execution": {
     "iopub.execute_input": "2024-11-12T20:45:34.323084Z",
     "iopub.status.busy": "2024-11-12T20:45:34.321982Z",
     "iopub.status.idle": "2024-11-12T20:45:34.334651Z",
     "shell.execute_reply": "2024-11-12T20:45:34.333440Z",
     "shell.execute_reply.started": "2024-11-12T20:45:34.323019Z"
    },
    "papermill": {
     "duration": null,
     "end_time": null,
     "exception": null,
     "start_time": null,
     "status": "pending"
    },
    "tags": []
   },
   "outputs": [],
   "source": [
    "import time\n",
    "size = 1000000\n",
    "array1 = np.arange(size)\n",
    "array2 = np.arange(size)\n",
    "\n",
    "# capturing time before the multiplication of Numpy arrays\n",
    "initialTime = time.time()\n",
    "\n",
    "# multiplying elements of both the Numpy arrays and stored in another Numpy array\n",
    "array3 = array1 * array2\n",
    "\n",
    "# capturing time again after the multiplication is done\n",
    "finishTime = time.time()\n",
    "\n",
    "print(\"\\nTime taken by NumPy Arrays to perform multiplication:\", finishTime - initialTime, \"seconds\")"
   ]
  },
  {
   "cell_type": "code",
   "execution_count": null,
   "id": "26717971",
   "metadata": {
    "execution": {
     "iopub.execute_input": "2024-11-12T20:45:52.907020Z",
     "iopub.status.busy": "2024-11-12T20:45:52.906556Z",
     "iopub.status.idle": "2024-11-12T20:45:53.396291Z",
     "shell.execute_reply": "2024-11-12T20:45:53.395022Z",
     "shell.execute_reply.started": "2024-11-12T20:45:52.906979Z"
    },
    "papermill": {
     "duration": null,
     "end_time": null,
     "exception": null,
     "start_time": null,
     "status": "pending"
    },
    "tags": []
   },
   "outputs": [],
   "source": [
    "import time\n",
    "\n",
    "# Creating two large size Lists and multiplying them element by element\n",
    "list1 = list(range(size))\n",
    "list2 = list(range(size))\n",
    "list3 = list(range(size))\n",
    "\n",
    "# capturing time before the multiplication of Python Lists\n",
    "initialTime = time.time()\n",
    "\n",
    "# multiplying elements of both the lists and stored in another list\n",
    "# simply run a loop and overwrite the elements of the new list with resulting value\n",
    "for i in range(0, len(list1)):\n",
    "     list3[i] = list1[i] * list2[i]\n",
    "\n",
    "\n",
    "# capturing time again after the multiplication is done\n",
    "finishTime = time.time()\n",
    "\n",
    "print(\"\\nTime taken by Lists to perform multiplication:\", finishTime - initialTime, \"seconds\")"
   ]
  },
  {
   "cell_type": "code",
   "execution_count": null,
   "id": "91185e60",
   "metadata": {
    "papermill": {
     "duration": null,
     "end_time": null,
     "exception": null,
     "start_time": null,
     "status": "pending"
    },
    "tags": []
   },
   "outputs": [],
   "source": []
  },
  {
   "cell_type": "markdown",
   "id": "29326864",
   "metadata": {
    "papermill": {
     "duration": null,
     "end_time": null,
     "exception": null,
     "start_time": null,
     "status": "pending"
    },
    "tags": []
   },
   "source": []
  }
 ],
 "metadata": {
  "kaggle": {
   "accelerator": "none",
   "dataSources": [],
   "dockerImageVersionId": 30786,
   "isGpuEnabled": false,
   "isInternetEnabled": true,
   "language": "python",
   "sourceType": "notebook"
  },
  "kernelspec": {
   "display_name": "Python 3",
   "language": "python",
   "name": "python3"
  },
  "language_info": {
   "codemirror_mode": {
    "name": "ipython",
    "version": 3
   },
   "file_extension": ".py",
   "mimetype": "text/x-python",
   "name": "python",
   "nbconvert_exporter": "python",
   "pygments_lexer": "ipython3",
   "version": "3.10.14"
  },
  "papermill": {
   "default_parameters": {},
   "duration": 3.910036,
   "end_time": "2024-11-12T20:47:09.859338",
   "environment_variables": {},
   "exception": true,
   "input_path": "__notebook__.ipynb",
   "output_path": "__notebook__.ipynb",
   "parameters": {},
   "start_time": "2024-11-12T20:47:05.949302",
   "version": "2.6.0"
  }
 },
 "nbformat": 4,
 "nbformat_minor": 5
}
