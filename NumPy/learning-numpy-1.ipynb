{
 "cells": [
  {
   "cell_type": "code",
   "execution_count": 1,
   "id": "cc471292",
   "metadata": {
    "_cell_guid": "b1076dfc-b9ad-4769-8c92-a6c4dae69d19",
    "_uuid": "8f2839f25d086af736a60e9eeb907d3b93b6e0e5",
    "execution": {
     "iopub.execute_input": "2024-11-12T17:56:47.020797Z",
     "iopub.status.busy": "2024-11-12T17:56:47.020264Z",
     "iopub.status.idle": "2024-11-12T17:56:47.031288Z",
     "shell.execute_reply": "2024-11-12T17:56:47.030169Z"
    },
    "papermill": {
     "duration": 0.024264,
     "end_time": "2024-11-12T17:56:47.033895",
     "exception": false,
     "start_time": "2024-11-12T17:56:47.009631",
     "status": "completed"
    },
    "tags": []
   },
   "outputs": [],
   "source": [
    "import numpy as np "
   ]
  },
  {
   "cell_type": "code",
   "execution_count": 2,
   "id": "d411af24",
   "metadata": {
    "execution": {
     "iopub.execute_input": "2024-11-12T17:56:47.052288Z",
     "iopub.status.busy": "2024-11-12T17:56:47.051391Z",
     "iopub.status.idle": "2024-11-12T17:56:47.060146Z",
     "shell.execute_reply": "2024-11-12T17:56:47.058852Z"
    },
    "papermill": {
     "duration": 0.020473,
     "end_time": "2024-11-12T17:56:47.062643",
     "exception": false,
     "start_time": "2024-11-12T17:56:47.042170",
     "status": "completed"
    },
    "tags": []
   },
   "outputs": [
    {
     "data": {
      "text/plain": [
       "'1.26.4'"
      ]
     },
     "execution_count": 2,
     "metadata": {},
     "output_type": "execute_result"
    }
   ],
   "source": [
    "np.__version__"
   ]
  },
  {
   "cell_type": "code",
   "execution_count": 3,
   "id": "ec9961f3",
   "metadata": {
    "execution": {
     "iopub.execute_input": "2024-11-12T17:56:47.081021Z",
     "iopub.status.busy": "2024-11-12T17:56:47.080059Z",
     "iopub.status.idle": "2024-11-12T17:56:47.086988Z",
     "shell.execute_reply": "2024-11-12T17:56:47.085815Z"
    },
    "papermill": {
     "duration": 0.018377,
     "end_time": "2024-11-12T17:56:47.089203",
     "exception": false,
     "start_time": "2024-11-12T17:56:47.070826",
     "status": "completed"
    },
    "tags": []
   },
   "outputs": [
    {
     "data": {
      "text/plain": [
       "['/opt/conda/lib/python3.10/site-packages/numpy']"
      ]
     },
     "execution_count": 3,
     "metadata": {},
     "output_type": "execute_result"
    }
   ],
   "source": [
    "np.__path__"
   ]
  },
  {
   "cell_type": "code",
   "execution_count": 4,
   "id": "41ad8117",
   "metadata": {
    "execution": {
     "iopub.execute_input": "2024-11-12T17:56:47.107441Z",
     "iopub.status.busy": "2024-11-12T17:56:47.107010Z",
     "iopub.status.idle": "2024-11-12T17:56:47.113707Z",
     "shell.execute_reply": "2024-11-12T17:56:47.112470Z"
    },
    "papermill": {
     "duration": 0.018575,
     "end_time": "2024-11-12T17:56:47.116030",
     "exception": false,
     "start_time": "2024-11-12T17:56:47.097455",
     "status": "completed"
    },
    "tags": []
   },
   "outputs": [
    {
     "name": "stdout",
     "output_type": "stream",
     "text": [
      "[4]\n",
      "<class 'numpy.ndarray'>\n"
     ]
    }
   ],
   "source": [
    "import numpy as np\n",
    "arr = np.array([4])\n",
    "print(arr)\n",
    "print(type(arr))"
   ]
  },
  {
   "cell_type": "code",
   "execution_count": 5,
   "id": "0ca87036",
   "metadata": {
    "execution": {
     "iopub.execute_input": "2024-11-12T17:56:47.137030Z",
     "iopub.status.busy": "2024-11-12T17:56:47.136015Z",
     "iopub.status.idle": "2024-11-12T17:56:47.144291Z",
     "shell.execute_reply": "2024-11-12T17:56:47.143049Z"
    },
    "papermill": {
     "duration": 0.02207,
     "end_time": "2024-11-12T17:56:47.147603",
     "exception": false,
     "start_time": "2024-11-12T17:56:47.125533",
     "status": "completed"
    },
    "tags": []
   },
   "outputs": [
    {
     "name": "stdout",
     "output_type": "stream",
     "text": [
      "array:  [4]\n",
      "arr.ndim:  1\n",
      "arr.shape:  (1,)\n",
      "arr.size:  1\n",
      "arr.dtype:  int64\n",
      "arr.itemsize:  8\n",
      "arr.nbytes:  8\n",
      "arr.data:  <memory at 0x797a1b3e9900>\n",
      "arr.strides:  (8,)\n",
      "arr.flags: \n",
      "   C_CONTIGUOUS : True\n",
      "  F_CONTIGUOUS : True\n",
      "  OWNDATA : True\n",
      "  WRITEABLE : True\n",
      "  ALIGNED : True\n",
      "  WRITEBACKIFCOPY : False\n",
      "\n"
     ]
    }
   ],
   "source": [
    "print(\"array: \", arr)\n",
    "print(\"arr.ndim: \", arr.ndim)   # get number of dimensions (an empty array has number of dimensions equals to 1)\n",
    "print(\"arr.shape: \", arr.shape) # This is an empty array, so have a shape of (0, )\n",
    "print(\"arr.size: \", arr.size)   # get total number of elements\n",
    "print(\"arr.dtype: \", arr.dtype) # get data type, default for empty array is float64\n",
    "print(\"arr.itemsize: \", arr.itemsize)  # get size in bytes of each element of the array default is 8 for float64\n",
    "print(\"arr.nbytes: \", arr.nbytes)  # get number of bytes occupied by entire array object in memory\n",
    "\n",
    "print(\"arr.data: \", arr.data)\n",
    "print(\"arr.strides: \", arr.strides)\n",
    "print(\"arr.flags: \\n\", arr.flags)"
   ]
  },
  {
   "cell_type": "code",
   "execution_count": 6,
   "id": "040d4031",
   "metadata": {
    "execution": {
     "iopub.execute_input": "2024-11-12T17:56:47.166355Z",
     "iopub.status.busy": "2024-11-12T17:56:47.165929Z",
     "iopub.status.idle": "2024-11-12T17:56:47.175720Z",
     "shell.execute_reply": "2024-11-12T17:56:47.174401Z"
    },
    "papermill": {
     "duration": 0.021727,
     "end_time": "2024-11-12T17:56:47.178008",
     "exception": false,
     "start_time": "2024-11-12T17:56:47.156281",
     "status": "completed"
    },
    "tags": []
   },
   "outputs": [
    {
     "data": {
      "text/plain": [
       "array([[ 5,  3,  2,  4],\n",
       "       [ 8,  9,  6, -1],\n",
       "       [ 9,  2, -3,  6]])"
      ]
     },
     "execution_count": 6,
     "metadata": {},
     "output_type": "execute_result"
    }
   ],
   "source": [
    "arr = np.array([[5,3,2,4],[8,9,6,-1],[9,2,-3,6]])\n",
    "arr"
   ]
  },
  {
   "cell_type": "code",
   "execution_count": 7,
   "id": "8bf953bb",
   "metadata": {
    "execution": {
     "iopub.execute_input": "2024-11-12T17:56:47.197925Z",
     "iopub.status.busy": "2024-11-12T17:56:47.197507Z",
     "iopub.status.idle": "2024-11-12T17:56:47.204589Z",
     "shell.execute_reply": "2024-11-12T17:56:47.203080Z"
    },
    "papermill": {
     "duration": 0.020018,
     "end_time": "2024-11-12T17:56:47.207028",
     "exception": false,
     "start_time": "2024-11-12T17:56:47.187010",
     "status": "completed"
    },
    "tags": []
   },
   "outputs": [
    {
     "name": "stdout",
     "output_type": "stream",
     "text": [
      "5\n",
      "3\n",
      "2\n",
      "8\n",
      "9\n",
      "6\n",
      "9\n",
      "2\n",
      "-3\n"
     ]
    }
   ],
   "source": [
    "for i in range(3):\n",
    "    for j in range(3):\n",
    "        print(arr[i,j])"
   ]
  },
  {
   "cell_type": "code",
   "execution_count": 8,
   "id": "ef61e5ef",
   "metadata": {
    "execution": {
     "iopub.execute_input": "2024-11-12T17:56:47.227151Z",
     "iopub.status.busy": "2024-11-12T17:56:47.226016Z",
     "iopub.status.idle": "2024-11-12T17:56:47.234227Z",
     "shell.execute_reply": "2024-11-12T17:56:47.233128Z"
    },
    "papermill": {
     "duration": 0.020736,
     "end_time": "2024-11-12T17:56:47.236759",
     "exception": false,
     "start_time": "2024-11-12T17:56:47.216023",
     "status": "completed"
    },
    "tags": []
   },
   "outputs": [
    {
     "name": "stdout",
     "output_type": "stream",
     "text": [
      "array:  [[ 5  3  2  4]\n",
      " [ 8  9  6 -1]\n",
      " [ 9  2 -3  6]]\n",
      "arr.ndim:  2\n",
      "arr.shape:  (3, 4)\n",
      "arr.size:  12\n",
      "arr.dtype:  int64\n",
      "arr.itemsize:  8\n",
      "arr.nbytes:  96\n",
      "arr.data:  <memory at 0x797a1b516740>\n",
      "arr.strides:  (32, 8)\n",
      "arr.flags: \n",
      "   C_CONTIGUOUS : True\n",
      "  F_CONTIGUOUS : False\n",
      "  OWNDATA : True\n",
      "  WRITEABLE : True\n",
      "  ALIGNED : True\n",
      "  WRITEBACKIFCOPY : False\n",
      "\n"
     ]
    }
   ],
   "source": [
    "print(\"array: \", arr)\n",
    "print(\"arr.ndim: \", arr.ndim)   # get number of dimensions (an empty array has number of dimensions equals to 1)\n",
    "print(\"arr.shape: \", arr.shape) # This is an empty array, so have a shape of (0, )\n",
    "print(\"arr.size: \", arr.size)   # get total number of elements\n",
    "print(\"arr.dtype: \", arr.dtype) # get data type, default for empty array is float64\n",
    "print(\"arr.itemsize: \", arr.itemsize)  # get size in bytes of each element of the array default is 8 for float64\n",
    "print(\"arr.nbytes: \", arr.nbytes)  # get number of bytes occupied by entire array object in memory\n",
    "\n",
    "print(\"arr.data: \", arr.data)\n",
    "print(\"arr.strides: \", arr.strides)\n",
    "print(\"arr.flags: \\n\", arr.flags)\n"
   ]
  },
  {
   "cell_type": "code",
   "execution_count": 9,
   "id": "9390f3ba",
   "metadata": {
    "execution": {
     "iopub.execute_input": "2024-11-12T17:56:47.258105Z",
     "iopub.status.busy": "2024-11-12T17:56:47.257648Z",
     "iopub.status.idle": "2024-11-12T17:56:47.266494Z",
     "shell.execute_reply": "2024-11-12T17:56:47.265234Z"
    },
    "papermill": {
     "duration": 0.022178,
     "end_time": "2024-11-12T17:56:47.269528",
     "exception": false,
     "start_time": "2024-11-12T17:56:47.247350",
     "status": "completed"
    },
    "tags": []
   },
   "outputs": [
    {
     "name": "stdout",
     "output_type": "stream",
     "text": [
      "array:  [1 4 2 5 3]\n",
      "arr.ndim:  1\n",
      "arr.shape:  (5,)\n",
      "arr.size:  5\n",
      "arr.dtype:  uint32\n",
      "arr.itemsize:  4\n",
      "arr.nbytes:  20\n",
      "arr.data:  <memory at 0x797a1b3e9780>\n",
      "arr.strides:  (4,)\n",
      "arr.flags: \n",
      "   C_CONTIGUOUS : True\n",
      "  F_CONTIGUOUS : True\n",
      "  OWNDATA : True\n",
      "  WRITEABLE : True\n",
      "  ALIGNED : True\n",
      "  WRITEBACKIFCOPY : False\n",
      "\n"
     ]
    }
   ],
   "source": [
    "# Create a 1-D numpy array using array() constructor of numpy\n",
    "\n",
    "mylist = [1, 4, 2, 5, 3]\n",
    "arr = np.array(mylist, dtype=np.uint8)\n",
    "arr = np.array([1, 4, 2, 5, 3], dtype=np.uint32)\n",
    "\n",
    "print(\"array: \", arr)\n",
    "print(\"arr.ndim: \", arr.ndim)   # get number of dimensions\n",
    "print(\"arr.shape: \", arr.shape) # This is 1-D array having 5 columns, so return a tuple with one element\n",
    "print(\"arr.size: \", arr.size)   # get total number of elements\n",
    "print(\"arr.dtype: \", arr.dtype) # get data type, default is what is minimum required to hold the max size element\n",
    "print(\"arr.itemsize: \", arr.itemsize)  # get size in bytes of each element of the array\n",
    "print(\"arr.nbytes: \", arr.nbytes)  # get number of bytes occupied by entire array object in memory (2*5=10)\n",
    "\n",
    "print(\"arr.data: \", arr.data)\n",
    "print(\"arr.strides: \", arr.strides)\n",
    "print(\"arr.flags: \\n\", arr.flags)"
   ]
  },
  {
   "cell_type": "code",
   "execution_count": 10,
   "id": "203cae5e",
   "metadata": {
    "execution": {
     "iopub.execute_input": "2024-11-12T17:56:47.290451Z",
     "iopub.status.busy": "2024-11-12T17:56:47.290028Z",
     "iopub.status.idle": "2024-11-12T17:56:47.299371Z",
     "shell.execute_reply": "2024-11-12T17:56:47.298173Z"
    },
    "papermill": {
     "duration": 0.022043,
     "end_time": "2024-11-12T17:56:47.301689",
     "exception": false,
     "start_time": "2024-11-12T17:56:47.279646",
     "status": "completed"
    },
    "tags": []
   },
   "outputs": [
    {
     "name": "stdout",
     "output_type": "stream",
     "text": [
      "array: \n",
      " [[1 2 3 4]\n",
      " [5 6 7 8]\n",
      " [3 2 4 1]\n",
      " [7 3 4 9]\n",
      " [4 0 3 1]]\n",
      "arr.ndim:  2\n",
      "arr.shape:  (5, 4)\n",
      "arr.size:  20\n",
      "arr.dtype:  int64\n",
      "arr.itemsize:  8\n",
      "arr.nbytes:  160\n",
      "arr.data:  <memory at 0x797a1b516740>\n",
      "arr.dtypes:  int64\n",
      "arr.strides:  (32, 8)\n",
      "arr.flags: \n",
      "   C_CONTIGUOUS : True\n",
      "  F_CONTIGUOUS : False\n",
      "  OWNDATA : True\n",
      "  WRITEABLE : True\n",
      "  ALIGNED : True\n",
      "  WRITEBACKIFCOPY : False\n",
      "\n"
     ]
    }
   ],
   "source": [
    "# creating 2-D (5x4) array using array constructor in numpy\n",
    "\n",
    "mylist = [\n",
    "          [1, 2, 3, 4], \n",
    "          [5, 6, 7, 8], \n",
    "          [3, 2, 4, 1], \n",
    "          [7, 3, 4, 9], \n",
    "          [4, 0, 3, 1]\n",
    "          ]\n",
    "arr = np.array(mylist)\n",
    "print(\"array: \\n\", arr)\n",
    "print(\"arr.ndim: \", arr.ndim)   #get number of dimensions (2-D array)\n",
    "print(\"arr.shape: \", arr.shape) #get dimension size.For a 2-D array, return a tuple with two elements (rows, cols)\n",
    "print(\"arr.size: \", arr.size)   #get total number of elements (5*4=20 elements)\n",
    "print(\"arr.dtype: \", arr.dtype) #get data type, default is what is minimum required to hold the max size element\n",
    "print(\"arr.itemsize: \", arr.itemsize)  # get size in bytes of each element of the array\n",
    "print(\"arr.nbytes: \", arr.nbytes)  # get number of bytes occupied by entire array object in memory (8*20=160)\n",
    "\n",
    "\n",
    "print(\"arr.data: \", arr.data)\n",
    "print(\"arr.dtypes: \", arr.dtype)\n",
    "print(\"arr.strides: \", arr.strides)\n",
    "print(\"arr.flags: \\n\", arr.flags)"
   ]
  },
  {
   "cell_type": "code",
   "execution_count": 11,
   "id": "b4569df6",
   "metadata": {
    "execution": {
     "iopub.execute_input": "2024-11-12T17:56:47.322925Z",
     "iopub.status.busy": "2024-11-12T17:56:47.322062Z",
     "iopub.status.idle": "2024-11-12T17:56:47.329439Z",
     "shell.execute_reply": "2024-11-12T17:56:47.328170Z"
    },
    "papermill": {
     "duration": 0.020378,
     "end_time": "2024-11-12T17:56:47.331955",
     "exception": false,
     "start_time": "2024-11-12T17:56:47.311577",
     "status": "completed"
    },
    "tags": []
   },
   "outputs": [
    {
     "data": {
      "text/plain": [
       "8"
      ]
     },
     "execution_count": 11,
     "metadata": {},
     "output_type": "execute_result"
    }
   ],
   "source": [
    "arr[1,3]"
   ]
  },
  {
   "cell_type": "code",
   "execution_count": 12,
   "id": "a14c66f6",
   "metadata": {
    "execution": {
     "iopub.execute_input": "2024-11-12T17:56:47.352452Z",
     "iopub.status.busy": "2024-11-12T17:56:47.352012Z",
     "iopub.status.idle": "2024-11-12T17:56:47.360214Z",
     "shell.execute_reply": "2024-11-12T17:56:47.359014Z"
    },
    "papermill": {
     "duration": 0.022057,
     "end_time": "2024-11-12T17:56:47.363464",
     "exception": false,
     "start_time": "2024-11-12T17:56:47.341407",
     "status": "completed"
    },
    "tags": []
   },
   "outputs": [
    {
     "name": "stdout",
     "output_type": "stream",
     "text": [
      "array: \n",
      " [[1]\n",
      " [2]\n",
      " [3]]\n",
      "arr.ndim:  2\n",
      "arr.shape:  (3, 1)\n",
      "arr.size:  3\n",
      "arr.dtype:  int64\n",
      "arr.itemsize:  8\n",
      "arr.nbytes:  24\n",
      "arr.data:  <memory at 0x797a1b516740>\n",
      "arr.strides:  (8, 8)\n",
      "arr.flags: \n",
      "   C_CONTIGUOUS : True\n",
      "  F_CONTIGUOUS : True\n",
      "  OWNDATA : True\n",
      "  WRITEABLE : True\n",
      "  ALIGNED : True\n",
      "  WRITEBACKIFCOPY : False\n",
      "\n"
     ]
    }
   ],
   "source": [
    "# Another example\n",
    "mylist = [[1], [4], [2], [5], [3]]\n",
    "arr = np.array(mylist)\n",
    "arr = np.array([[1], [2], [3]])\n",
    "print(\"array: \\n\", arr)\n",
    "print(\"arr.ndim: \", arr.ndim)   #get number of dimensions (2-D array)\n",
    "print(\"arr.shape: \", arr.shape) #get dimension size.For a 2-D array, return a tuple with two elements (rows, cols)\n",
    "print(\"arr.size: \", arr.size)   #get total number of elements (5*4=20 elements)\n",
    "print(\"arr.dtype: \", arr.dtype) #get data type, default is what is minimum required to hold the max size element\n",
    "print(\"arr.itemsize: \", arr.itemsize)  # get size in bytes of each element of the array\n",
    "print(\"arr.nbytes: \", arr.nbytes)  # get number of bytes occupied by entire array object in memory (8*20=160)\n",
    "\n",
    "\n",
    "print(\"arr.data: \", arr.data)\n",
    "print(\"arr.strides: \", arr.strides)\n",
    "print(\"arr.flags: \\n\", arr.flags)"
   ]
  },
  {
   "cell_type": "code",
   "execution_count": 13,
   "id": "245fd9c8",
   "metadata": {
    "execution": {
     "iopub.execute_input": "2024-11-12T17:56:47.384712Z",
     "iopub.status.busy": "2024-11-12T17:56:47.384267Z",
     "iopub.status.idle": "2024-11-12T17:56:47.394753Z",
     "shell.execute_reply": "2024-11-12T17:56:47.393526Z"
    },
    "papermill": {
     "duration": 0.024238,
     "end_time": "2024-11-12T17:56:47.397815",
     "exception": false,
     "start_time": "2024-11-12T17:56:47.373577",
     "status": "completed"
    },
    "tags": []
   },
   "outputs": [
    {
     "name": "stdout",
     "output_type": "stream",
     "text": [
      "array: \n",
      " [[[1 2 3]\n",
      "  [5 6 7]\n",
      "  [3 2 4]\n",
      "  [7 3 4]]\n",
      "\n",
      " [[8 1 6]\n",
      "  [1 9 4]\n",
      "  [5 6 4]\n",
      "  [2 6 2]]\n",
      "\n",
      " [[5 3 2]\n",
      "  [2 0 5]\n",
      "  [8 3 0]\n",
      "  [5 6 9]]\n",
      "\n",
      " [[6 7 1]\n",
      "  [8 1 6]\n",
      "  [1 4 7]\n",
      "  [2 0 4]]\n",
      "\n",
      " [[2 8 9]\n",
      "  [3 0 4]\n",
      "  [5 2 2]\n",
      "  [1 3 8]]]\n",
      "arr.ndim:  3\n",
      "arr.shape:  (5, 4, 3)\n",
      "arr.size:  60\n",
      "arr.dtype:  uint8\n",
      "arr.itemsize:  1\n",
      "arr.nbytes:  60\n",
      "arr.data:  <memory at 0x797a1b4cbd30>\n",
      "arr.strides:  (12, 3, 1)\n",
      "arr.flags: \n",
      "   C_CONTIGUOUS : True\n",
      "  F_CONTIGUOUS : False\n",
      "  OWNDATA : True\n",
      "  WRITEABLE : True\n",
      "  ALIGNED : True\n",
      "  WRITEBACKIFCOPY : False\n",
      "\n"
     ]
    }
   ],
   "source": [
    "# creating 3-D (5x4x3) array using array constructor in numpy\n",
    "mylist = [\n",
    "          [[1, 2, 3], [5, 6, 7], [3, 2, 4], [7, 3, 4]],\n",
    "          [[8, 1, 6], [1, 9, 4], [5, 6, 4], [2, 6, 2]],\n",
    "          [[5, 3, 2], [2, 0, 5], [8, 3, 0], [5, 6, 9]],\n",
    "          [[6, 7, 1], [8, 1, 6], [1, 4, 7], [2, 0, 4]],\n",
    "          [[2, 8, 9], [3, 0, 4], [5, 2, 2], [1, 3, 8]],\n",
    "         ]\n",
    "arr = np.array(mylist, dtype=np.uint8)\n",
    "\n",
    "\n",
    "print(\"array: \\n\", arr)\n",
    "print(\"arr.ndim: \", arr.ndim)    # get number of dimensions (3-D array)\n",
    "print(\"arr.shape: \", arr.shape)  # get dimension size.For a 3-D array, return a tuple with three elements\n",
    "print(\"arr.size: \", arr.size)    # get total number of elements (5*4*3=60 elements)\n",
    "print(\"arr.dtype: \", arr.dtype)  # get data type, default is what is minimum required to hold the max size element\n",
    "print(\"arr.itemsize: \", arr.itemsize)  # get size in bytes of each element of the array\n",
    "print(\"arr.nbytes: \", arr.nbytes)  # get number of bytes occupied by entire array object in memory (8*60=4800)\n",
    "\n",
    "\n",
    "print(\"arr.data: \", arr.data)\n",
    "print(\"arr.strides: \", arr.strides)\n",
    "print(\"arr.flags: \\n\", arr.flags)"
   ]
  },
  {
   "cell_type": "code",
   "execution_count": 14,
   "id": "d1ad9c37",
   "metadata": {
    "execution": {
     "iopub.execute_input": "2024-11-12T17:56:47.418978Z",
     "iopub.status.busy": "2024-11-12T17:56:47.418592Z",
     "iopub.status.idle": "2024-11-12T17:56:47.427638Z",
     "shell.execute_reply": "2024-11-12T17:56:47.425957Z"
    },
    "papermill": {
     "duration": 0.022298,
     "end_time": "2024-11-12T17:56:47.430018",
     "exception": false,
     "start_time": "2024-11-12T17:56:47.407720",
     "status": "completed"
    },
    "tags": []
   },
   "outputs": [
    {
     "name": "stdout",
     "output_type": "stream",
     "text": [
      "array: \n",
      " [ 0  1  2  3  4  5  6  7  8  9 10 11]\n",
      "arr.data:  <memory at 0x797a1b3e9b40>\n",
      "arr.shape:  (12,)\n",
      "arr.dtype:  int64\n",
      "arr.size:  12\n",
      "arr.itemsize:  8\n",
      "arr.nbytes:  96\n",
      "arr.strides:  (8,)\n",
      "3\n"
     ]
    }
   ],
   "source": [
    "# Strides of 1-D array\n",
    "import numpy as np\n",
    "mylist = [0, 1, 2, 3, 4, 5, 6, 7, 8, 9, 10, 11]\n",
    "arr = np.array(mylist, dtype=np.int64)\n",
    "\n",
    "print(\"array: \\n\", arr)\n",
    "print(\"arr.data: \", arr.data)\n",
    "print(\"arr.shape: \", arr.shape)  \n",
    "print(\"arr.dtype: \", arr.dtype)  \n",
    "print(\"arr.size: \", arr.size)    \n",
    "print(\"arr.itemsize: \", arr.itemsize) \n",
    "print(\"arr.nbytes: \", arr.nbytes)  \n",
    "print(\"arr.strides: \", arr.strides)\n",
    "# Use of strides is in Indexing, slicing and reshaping\n",
    "print(arr[3]) # jump 3*8=24 bytes and then read 8 bytes"
   ]
  },
  {
   "cell_type": "code",
   "execution_count": 15,
   "id": "28df80cc",
   "metadata": {
    "execution": {
     "iopub.execute_input": "2024-11-12T17:56:47.451857Z",
     "iopub.status.busy": "2024-11-12T17:56:47.450961Z",
     "iopub.status.idle": "2024-11-12T17:56:47.459390Z",
     "shell.execute_reply": "2024-11-12T17:56:47.458198Z"
    },
    "papermill": {
     "duration": 0.021781,
     "end_time": "2024-11-12T17:56:47.461729",
     "exception": false,
     "start_time": "2024-11-12T17:56:47.439948",
     "status": "completed"
    },
    "tags": []
   },
   "outputs": [
    {
     "name": "stdout",
     "output_type": "stream",
     "text": [
      "array: \n",
      " [[ 0  1  2  3]\n",
      " [ 4  5  6  7]\n",
      " [ 8  9 10 11]]\n",
      "arr.data:  <memory at 0x797a1b516740>\n",
      "arr.shape:  (3, 4)\n",
      "arr.dtype:  int64\n",
      "arr.size:  12\n",
      "arr.itemsize:  8\n",
      "arr.nbytes:  96\n",
      "arr.strides:  (32, 8)\n",
      "6\n"
     ]
    }
   ],
   "source": [
    "# Strides of 2-D array\n",
    "import numpy as np\n",
    "mylist = [[0, 1, 2, 3], [4, 5, 6, 7], [8, 9, 10, 11]]\n",
    "arr = np.array(mylist, dtype=np.int64)\n",
    "\n",
    "print(\"array: \\n\", arr)\n",
    "print(\"arr.data: \", arr.data)\n",
    "print(\"arr.shape: \", arr.shape)  \n",
    "print(\"arr.dtype: \", arr.dtype)  \n",
    "print(\"arr.size: \", arr.size)    \n",
    "print(\"arr.itemsize: \", arr.itemsize) \n",
    "print(\"arr.nbytes: \", arr.nbytes)  \n",
    "print(\"arr.strides: \", arr.strides)\n",
    "# Use of strides is in Indexing, slicing and reshaping\n",
    "print(arr[1,2]) # jump 1*32+2*8=48 bytes and then read 8 bytes"
   ]
  },
  {
   "cell_type": "code",
   "execution_count": 16,
   "id": "ec643457",
   "metadata": {
    "execution": {
     "iopub.execute_input": "2024-11-12T17:56:47.483781Z",
     "iopub.status.busy": "2024-11-12T17:56:47.483102Z",
     "iopub.status.idle": "2024-11-12T17:56:47.490927Z",
     "shell.execute_reply": "2024-11-12T17:56:47.489820Z"
    },
    "papermill": {
     "duration": 0.02193,
     "end_time": "2024-11-12T17:56:47.493725",
     "exception": false,
     "start_time": "2024-11-12T17:56:47.471795",
     "status": "completed"
    },
    "tags": []
   },
   "outputs": [
    {
     "data": {
      "text/plain": [
       "array([0, 0, 0], dtype=uint64)"
      ]
     },
     "execution_count": 16,
     "metadata": {},
     "output_type": "execute_result"
    }
   ],
   "source": [
    "# Creating 1-Dimensional array of all zeros\n",
    "arr = np.zeros(3,dtype=np.uint64)\n",
    "arr\n",
    "# Notice that the elements are having the default data type as the float. That’s why the zeros are 0."
   ]
  },
  {
   "cell_type": "code",
   "execution_count": 17,
   "id": "6cdc1804",
   "metadata": {
    "execution": {
     "iopub.execute_input": "2024-11-12T17:56:47.517041Z",
     "iopub.status.busy": "2024-11-12T17:56:47.516663Z",
     "iopub.status.idle": "2024-11-12T17:56:47.524368Z",
     "shell.execute_reply": "2024-11-12T17:56:47.523265Z"
    },
    "papermill": {
     "duration": 0.021135,
     "end_time": "2024-11-12T17:56:47.526641",
     "exception": false,
     "start_time": "2024-11-12T17:56:47.505506",
     "status": "completed"
    },
    "tags": []
   },
   "outputs": [
    {
     "data": {
      "text/plain": [
       "array([[1., 1., 1.],\n",
       "       [1., 1., 1.]])"
      ]
     },
     "execution_count": 17,
     "metadata": {},
     "output_type": "execute_result"
    }
   ],
   "source": [
    "# Creating 2-Dimensional array having 3 columns filled with ones\n",
    "arr = np.ones((2,3))\n",
    "arr"
   ]
  },
  {
   "cell_type": "code",
   "execution_count": 18,
   "id": "51d06ca2",
   "metadata": {
    "execution": {
     "iopub.execute_input": "2024-11-12T17:56:47.549537Z",
     "iopub.status.busy": "2024-11-12T17:56:47.549148Z",
     "iopub.status.idle": "2024-11-12T17:56:47.557364Z",
     "shell.execute_reply": "2024-11-12T17:56:47.556102Z"
    },
    "papermill": {
     "duration": 0.022254,
     "end_time": "2024-11-12T17:56:47.559862",
     "exception": false,
     "start_time": "2024-11-12T17:56:47.537608",
     "status": "completed"
    },
    "tags": []
   },
   "outputs": [
    {
     "data": {
      "text/plain": [
       "array([[[ -6128, -22975,  22191],\n",
       "        [     0,      0,      0],\n",
       "        [     0,      0, -28624]],\n",
       "\n",
       "       [[-22986,  22191,      0],\n",
       "        [ 15328, -22999,  22191],\n",
       "        [     0,     48,      0]]], dtype=int16)"
      ]
     },
     "execution_count": 18,
     "metadata": {},
     "output_type": "execute_result"
    }
   ],
   "source": [
    "# Creating 2-Dimensional array having 3 columns filled with junk values\n",
    "arr = np.empty((2,3,3), dtype=np.int16)\n",
    "arr"
   ]
  },
  {
   "cell_type": "code",
   "execution_count": 19,
   "id": "c272f80a",
   "metadata": {
    "execution": {
     "iopub.execute_input": "2024-11-12T17:56:47.583467Z",
     "iopub.status.busy": "2024-11-12T17:56:47.582979Z",
     "iopub.status.idle": "2024-11-12T17:56:47.591243Z",
     "shell.execute_reply": "2024-11-12T17:56:47.589854Z"
    },
    "papermill": {
     "duration": 0.023427,
     "end_time": "2024-11-12T17:56:47.594239",
     "exception": false,
     "start_time": "2024-11-12T17:56:47.570812",
     "status": "completed"
    },
    "tags": []
   },
   "outputs": [
    {
     "data": {
      "text/plain": [
       "array([[21.5, 21.5, 21.5],\n",
       "       [21.5, 21.5, 21.5]])"
      ]
     },
     "execution_count": 19,
     "metadata": {},
     "output_type": "execute_result"
    }
   ],
   "source": [
    "arr = np.full((2,3), 21.5)\n",
    "arr"
   ]
  },
  {
   "cell_type": "code",
   "execution_count": 20,
   "id": "d9ad5904",
   "metadata": {
    "execution": {
     "iopub.execute_input": "2024-11-12T17:56:47.617680Z",
     "iopub.status.busy": "2024-11-12T17:56:47.617287Z",
     "iopub.status.idle": "2024-11-12T17:56:47.624764Z",
     "shell.execute_reply": "2024-11-12T17:56:47.623616Z"
    },
    "papermill": {
     "duration": 0.021998,
     "end_time": "2024-11-12T17:56:47.627331",
     "exception": false,
     "start_time": "2024-11-12T17:56:47.605333",
     "status": "completed"
    },
    "tags": []
   },
   "outputs": [
    {
     "data": {
      "text/plain": [
       "array([54, 54, 54, 54, 54, 54, 54])"
      ]
     },
     "execution_count": 20,
     "metadata": {},
     "output_type": "execute_result"
    }
   ],
   "source": [
    "arr = np.full(7, 54)\n",
    "arr"
   ]
  },
  {
   "cell_type": "code",
   "execution_count": 21,
   "id": "522722ef",
   "metadata": {
    "execution": {
     "iopub.execute_input": "2024-11-12T17:56:47.652261Z",
     "iopub.status.busy": "2024-11-12T17:56:47.651462Z",
     "iopub.status.idle": "2024-11-12T17:56:47.659741Z",
     "shell.execute_reply": "2024-11-12T17:56:47.658359Z"
    },
    "papermill": {
     "duration": 0.023508,
     "end_time": "2024-11-12T17:56:47.662299",
     "exception": false,
     "start_time": "2024-11-12T17:56:47.638791",
     "status": "completed"
    },
    "tags": []
   },
   "outputs": [
    {
     "data": {
      "text/plain": [
       "array([21.5, 21.5, 21.5, 21.5, 21.5, 21.5, 21.5])"
      ]
     },
     "execution_count": 21,
     "metadata": {},
     "output_type": "execute_result"
    }
   ],
   "source": [
    "arr = np.full(7, 21.5)\n",
    "arr"
   ]
  },
  {
   "cell_type": "code",
   "execution_count": 22,
   "id": "576c346d",
   "metadata": {
    "execution": {
     "iopub.execute_input": "2024-11-12T17:56:47.686253Z",
     "iopub.status.busy": "2024-11-12T17:56:47.685843Z",
     "iopub.status.idle": "2024-11-12T17:56:47.693643Z",
     "shell.execute_reply": "2024-11-12T17:56:47.692475Z"
    },
    "papermill": {
     "duration": 0.023076,
     "end_time": "2024-11-12T17:56:47.696213",
     "exception": false,
     "start_time": "2024-11-12T17:56:47.673137",
     "status": "completed"
    },
    "tags": []
   },
   "outputs": [
    {
     "data": {
      "text/plain": [
       "array([[21.5, 21.5, 21.5],\n",
       "       [21.5, 21.5, 21.5]])"
      ]
     },
     "execution_count": 22,
     "metadata": {},
     "output_type": "execute_result"
    }
   ],
   "source": [
    "arr = np.full((2,3), 21.5)\n",
    "arr"
   ]
  },
  {
   "cell_type": "code",
   "execution_count": 23,
   "id": "dbf2f838",
   "metadata": {
    "execution": {
     "iopub.execute_input": "2024-11-12T17:56:47.720677Z",
     "iopub.status.busy": "2024-11-12T17:56:47.720302Z",
     "iopub.status.idle": "2024-11-12T17:56:47.728299Z",
     "shell.execute_reply": "2024-11-12T17:56:47.727266Z"
    },
    "papermill": {
     "duration": 0.022657,
     "end_time": "2024-11-12T17:56:47.730681",
     "exception": false,
     "start_time": "2024-11-12T17:56:47.708024",
     "status": "completed"
    },
    "tags": []
   },
   "outputs": [
    {
     "data": {
      "text/plain": [
       "array([[[21.5, 21.5, 21.5],\n",
       "        [21.5, 21.5, 21.5]],\n",
       "\n",
       "       [[21.5, 21.5, 21.5],\n",
       "        [21.5, 21.5, 21.5]],\n",
       "\n",
       "       [[21.5, 21.5, 21.5],\n",
       "        [21.5, 21.5, 21.5]],\n",
       "\n",
       "       [[21.5, 21.5, 21.5],\n",
       "        [21.5, 21.5, 21.5]],\n",
       "\n",
       "       [[21.5, 21.5, 21.5],\n",
       "        [21.5, 21.5, 21.5]]])"
      ]
     },
     "execution_count": 23,
     "metadata": {},
     "output_type": "execute_result"
    }
   ],
   "source": [
    "arr = np.full((5,2,3), 21.5)\n",
    "arr"
   ]
  },
  {
   "cell_type": "code",
   "execution_count": 24,
   "id": "3bfc69e6",
   "metadata": {
    "execution": {
     "iopub.execute_input": "2024-11-12T17:56:47.755262Z",
     "iopub.status.busy": "2024-11-12T17:56:47.754846Z",
     "iopub.status.idle": "2024-11-12T17:56:47.762767Z",
     "shell.execute_reply": "2024-11-12T17:56:47.761477Z"
    },
    "papermill": {
     "duration": 0.023321,
     "end_time": "2024-11-12T17:56:47.765489",
     "exception": false,
     "start_time": "2024-11-12T17:56:47.742168",
     "status": "completed"
    },
    "tags": []
   },
   "outputs": [
    {
     "data": {
      "text/plain": [
       "array([[0., 1., 0.],\n",
       "       [0., 0., 1.],\n",
       "       [0., 0., 0.]])"
      ]
     },
     "execution_count": 24,
     "metadata": {},
     "output_type": "execute_result"
    }
   ],
   "source": [
    "# creating 2-D array using eye function\n",
    "eye_arr = np.eye(3,3,1)\n",
    "eye_arr"
   ]
  },
  {
   "cell_type": "code",
   "execution_count": 25,
   "id": "f94024c5",
   "metadata": {
    "execution": {
     "iopub.execute_input": "2024-11-12T17:56:47.789924Z",
     "iopub.status.busy": "2024-11-12T17:56:47.789529Z",
     "iopub.status.idle": "2024-11-12T17:56:47.797425Z",
     "shell.execute_reply": "2024-11-12T17:56:47.796154Z"
    },
    "papermill": {
     "duration": 0.02286,
     "end_time": "2024-11-12T17:56:47.799764",
     "exception": false,
     "start_time": "2024-11-12T17:56:47.776904",
     "status": "completed"
    },
    "tags": []
   },
   "outputs": [
    {
     "data": {
      "text/plain": [
       "array([[0., 0., 0., 0.],\n",
       "       [1., 0., 0., 0.],\n",
       "       [0., 1., 0., 0.],\n",
       "       [0., 0., 1., 0.]])"
      ]
     },
     "execution_count": 25,
     "metadata": {},
     "output_type": "execute_result"
    }
   ],
   "source": [
    "\n",
    "eye_arr = np.eye(4,4,-1)\n",
    "eye_arr"
   ]
  },
  {
   "cell_type": "code",
   "execution_count": 26,
   "id": "9c00b903",
   "metadata": {
    "execution": {
     "iopub.execute_input": "2024-11-12T17:56:47.824943Z",
     "iopub.status.busy": "2024-11-12T17:56:47.824538Z",
     "iopub.status.idle": "2024-11-12T17:56:47.831769Z",
     "shell.execute_reply": "2024-11-12T17:56:47.830691Z"
    },
    "papermill": {
     "duration": 0.023028,
     "end_time": "2024-11-12T17:56:47.834020",
     "exception": false,
     "start_time": "2024-11-12T17:56:47.810992",
     "status": "completed"
    },
    "tags": []
   },
   "outputs": [
    {
     "data": {
      "text/plain": [
       "array([[0, 1, 0],\n",
       "       [0, 0, 1],\n",
       "       [0, 0, 0],\n",
       "       [0, 0, 0]])"
      ]
     },
     "execution_count": 26,
     "metadata": {},
     "output_type": "execute_result"
    }
   ],
   "source": [
    "eye_arr = np.eye(4, 3, k = 1, dtype=int)\n",
    "eye_arr"
   ]
  },
  {
   "cell_type": "code",
   "execution_count": 27,
   "id": "9c27d8ec",
   "metadata": {
    "execution": {
     "iopub.execute_input": "2024-11-12T17:56:47.858404Z",
     "iopub.status.busy": "2024-11-12T17:56:47.857980Z",
     "iopub.status.idle": "2024-11-12T17:56:47.865854Z",
     "shell.execute_reply": "2024-11-12T17:56:47.864597Z"
    },
    "papermill": {
     "duration": 0.022711,
     "end_time": "2024-11-12T17:56:47.868092",
     "exception": false,
     "start_time": "2024-11-12T17:56:47.845381",
     "status": "completed"
    },
    "tags": []
   },
   "outputs": [
    {
     "data": {
      "text/plain": [
       "array([25., 30., 35., 40.])"
      ]
     },
     "execution_count": 27,
     "metadata": {},
     "output_type": "execute_result"
    }
   ],
   "source": [
    "# convert the space separated string '25 30 35 40' into an floats array\n",
    "arr = np.fromstring('25 30 35 40', sep=' ')\n",
    "arr"
   ]
  },
  {
   "cell_type": "code",
   "execution_count": 28,
   "id": "de438363",
   "metadata": {
    "execution": {
     "iopub.execute_input": "2024-11-12T17:56:47.893166Z",
     "iopub.status.busy": "2024-11-12T17:56:47.892726Z",
     "iopub.status.idle": "2024-11-12T17:56:47.901029Z",
     "shell.execute_reply": "2024-11-12T17:56:47.899849Z"
    },
    "papermill": {
     "duration": 0.023561,
     "end_time": "2024-11-12T17:56:47.903390",
     "exception": false,
     "start_time": "2024-11-12T17:56:47.879829",
     "status": "completed"
    },
    "tags": []
   },
   "outputs": [
    {
     "name": "stderr",
     "output_type": "stream",
     "text": [
      "/tmp/ipykernel_17/926681347.py:2: DeprecationWarning: string or file could not be read to its end due to unmatched data; this will raise a ValueError in the future.\n",
      "  arr = np.fromstring('25 30 34.4 40', sep='-',dtype=int)\n"
     ]
    },
    {
     "data": {
      "text/plain": [
       "array([25])"
      ]
     },
     "execution_count": 28,
     "metadata": {},
     "output_type": "execute_result"
    }
   ],
   "source": [
    "#will return error; as homogeneousity fails\n",
    "arr = np.fromstring('25 30 34.4 40', sep='-',dtype=int)\n",
    "arr"
   ]
  },
  {
   "cell_type": "code",
   "execution_count": 29,
   "id": "942f267c",
   "metadata": {
    "execution": {
     "iopub.execute_input": "2024-11-12T17:56:47.930172Z",
     "iopub.status.busy": "2024-11-12T17:56:47.928958Z",
     "iopub.status.idle": "2024-11-12T17:56:47.937083Z",
     "shell.execute_reply": "2024-11-12T17:56:47.935926Z"
    },
    "papermill": {
     "duration": 0.023662,
     "end_time": "2024-11-12T17:56:47.939593",
     "exception": false,
     "start_time": "2024-11-12T17:56:47.915931",
     "status": "completed"
    },
    "tags": []
   },
   "outputs": [
    {
     "data": {
      "text/plain": [
       "array([25,  3, 35, 40], dtype=int8)"
      ]
     },
     "execution_count": 29,
     "metadata": {},
     "output_type": "execute_result"
    }
   ],
   "source": [
    "# convert the space separated string '25 30 35 40' into an floats array\n",
    "arr = np.fromstring('25-3-35-40', sep='-',dtype=np.int8)\n",
    "arr"
   ]
  },
  {
   "cell_type": "code",
   "execution_count": 30,
   "id": "36cbd9f8",
   "metadata": {
    "execution": {
     "iopub.execute_input": "2024-11-12T17:56:47.967346Z",
     "iopub.status.busy": "2024-11-12T17:56:47.966525Z",
     "iopub.status.idle": "2024-11-12T17:56:47.974633Z",
     "shell.execute_reply": "2024-11-12T17:56:47.973482Z"
    },
    "papermill": {
     "duration": 0.024108,
     "end_time": "2024-11-12T17:56:47.976869",
     "exception": false,
     "start_time": "2024-11-12T17:56:47.952761",
     "status": "completed"
    },
    "tags": []
   },
   "outputs": [
    {
     "name": "stdout",
     "output_type": "stream",
     "text": [
      "[0 1 2 3 4 5 6 7 8 9]\n",
      "<class 'numpy.ndarray'>\n",
      "int64\n"
     ]
    },
    {
     "data": {
      "text/plain": [
       "(None,)"
      ]
     },
     "execution_count": 30,
     "metadata": {},
     "output_type": "execute_result"
    }
   ],
   "source": [
    "arr = np.arange(10)\n",
    "print(arr)\n",
    "print(type(arr))\n",
    "print(arr.dtype),"
   ]
  },
  {
   "cell_type": "code",
   "execution_count": 31,
   "id": "75a5dd0a",
   "metadata": {
    "execution": {
     "iopub.execute_input": "2024-11-12T17:56:48.002444Z",
     "iopub.status.busy": "2024-11-12T17:56:48.002003Z",
     "iopub.status.idle": "2024-11-12T17:56:48.009357Z",
     "shell.execute_reply": "2024-11-12T17:56:48.008239Z"
    },
    "papermill": {
     "duration": 0.022871,
     "end_time": "2024-11-12T17:56:48.011639",
     "exception": false,
     "start_time": "2024-11-12T17:56:47.988768",
     "status": "completed"
    },
    "tags": []
   },
   "outputs": [
    {
     "data": {
      "text/plain": [
       "array([ 3,  5,  7,  9, 11, 13])"
      ]
     },
     "execution_count": 31,
     "metadata": {},
     "output_type": "execute_result"
    }
   ],
   "source": [
    "arr = np.arange(3,15,2)\n",
    "arr"
   ]
  },
  {
   "cell_type": "code",
   "execution_count": 32,
   "id": "700280fd",
   "metadata": {
    "execution": {
     "iopub.execute_input": "2024-11-12T17:56:48.040787Z",
     "iopub.status.busy": "2024-11-12T17:56:48.040382Z",
     "iopub.status.idle": "2024-11-12T17:56:48.048116Z",
     "shell.execute_reply": "2024-11-12T17:56:48.047036Z"
    },
    "papermill": {
     "duration": 0.024142,
     "end_time": "2024-11-12T17:56:48.050556",
     "exception": false,
     "start_time": "2024-11-12T17:56:48.026414",
     "status": "completed"
    },
    "tags": []
   },
   "outputs": [
    {
     "data": {
      "text/plain": [
       "array([-1. , -1.5, -2. , -2.5, -3. , -3.5])"
      ]
     },
     "execution_count": 32,
     "metadata": {},
     "output_type": "execute_result"
    }
   ],
   "source": [
    "arr = np.arange(-1, -4, -.5)\n",
    "arr"
   ]
  },
  {
   "cell_type": "code",
   "execution_count": 33,
   "id": "58e14b29",
   "metadata": {
    "execution": {
     "iopub.execute_input": "2024-11-12T17:56:48.076943Z",
     "iopub.status.busy": "2024-11-12T17:56:48.076559Z",
     "iopub.status.idle": "2024-11-12T17:56:48.084575Z",
     "shell.execute_reply": "2024-11-12T17:56:48.083223Z"
    },
    "papermill": {
     "duration": 0.023749,
     "end_time": "2024-11-12T17:56:48.086940",
     "exception": false,
     "start_time": "2024-11-12T17:56:48.063191",
     "status": "completed"
    },
    "tags": []
   },
   "outputs": [
    {
     "data": {
      "text/plain": [
       "array([ 1.        ,  1.47368421,  1.94736842,  2.42105263,  2.89473684,\n",
       "        3.36842105,  3.84210526,  4.31578947,  4.78947368,  5.26315789,\n",
       "        5.73684211,  6.21052632,  6.68421053,  7.15789474,  7.63157895,\n",
       "        8.10526316,  8.57894737,  9.05263158,  9.52631579, 10.        ])"
      ]
     },
     "execution_count": 33,
     "metadata": {},
     "output_type": "execute_result"
    }
   ],
   "source": [
    "arr = np.linspace(1,10,20)\n",
    "arr"
   ]
  },
  {
   "cell_type": "code",
   "execution_count": 34,
   "id": "650ed779",
   "metadata": {
    "execution": {
     "iopub.execute_input": "2024-11-12T17:56:48.113912Z",
     "iopub.status.busy": "2024-11-12T17:56:48.113162Z",
     "iopub.status.idle": "2024-11-12T17:56:48.121178Z",
     "shell.execute_reply": "2024-11-12T17:56:48.119995Z"
    },
    "papermill": {
     "duration": 0.02414,
     "end_time": "2024-11-12T17:56:48.123619",
     "exception": false,
     "start_time": "2024-11-12T17:56:48.099479",
     "status": "completed"
    },
    "tags": []
   },
   "outputs": [
    {
     "data": {
      "text/plain": [
       "array([-1.        , -1.06122449, -1.12244898, -1.18367347, -1.24489796,\n",
       "       -1.30612245, -1.36734694, -1.42857143, -1.48979592, -1.55102041,\n",
       "       -1.6122449 , -1.67346939, -1.73469388, -1.79591837, -1.85714286,\n",
       "       -1.91836735, -1.97959184, -2.04081633, -2.10204082, -2.16326531,\n",
       "       -2.2244898 , -2.28571429, -2.34693878, -2.40816327, -2.46938776,\n",
       "       -2.53061224, -2.59183673, -2.65306122, -2.71428571, -2.7755102 ,\n",
       "       -2.83673469, -2.89795918, -2.95918367, -3.02040816, -3.08163265,\n",
       "       -3.14285714, -3.20408163, -3.26530612, -3.32653061, -3.3877551 ,\n",
       "       -3.44897959, -3.51020408, -3.57142857, -3.63265306, -3.69387755,\n",
       "       -3.75510204, -3.81632653, -3.87755102, -3.93877551, -4.        ])"
      ]
     },
     "execution_count": 34,
     "metadata": {},
     "output_type": "execute_result"
    }
   ],
   "source": [
    "arr = np.linspace(-1, -4)\n",
    "arr"
   ]
  },
  {
   "cell_type": "code",
   "execution_count": 35,
   "id": "b8f0ffd9",
   "metadata": {
    "execution": {
     "iopub.execute_input": "2024-11-12T17:56:48.151699Z",
     "iopub.status.busy": "2024-11-12T17:56:48.151280Z",
     "iopub.status.idle": "2024-11-12T17:56:48.159563Z",
     "shell.execute_reply": "2024-11-12T17:56:48.158303Z"
    },
    "papermill": {
     "duration": 0.025726,
     "end_time": "2024-11-12T17:56:48.162924",
     "exception": false,
     "start_time": "2024-11-12T17:56:48.137198",
     "status": "completed"
    },
    "tags": []
   },
   "outputs": [
    {
     "data": {
      "text/plain": [
       "array([85.78133155, 99.70617166, 41.53780763, 85.03061185, 54.92254956])"
      ]
     },
     "execution_count": 35,
     "metadata": {},
     "output_type": "execute_result"
    }
   ],
   "source": [
    "arr = np.random.rand(5)*100\n",
    "arr"
   ]
  },
  {
   "cell_type": "code",
   "execution_count": 36,
   "id": "eb8288ed",
   "metadata": {
    "execution": {
     "iopub.execute_input": "2024-11-12T17:56:48.191366Z",
     "iopub.status.busy": "2024-11-12T17:56:48.190138Z",
     "iopub.status.idle": "2024-11-12T17:56:48.198428Z",
     "shell.execute_reply": "2024-11-12T17:56:48.197194Z"
    },
    "papermill": {
     "duration": 0.024706,
     "end_time": "2024-11-12T17:56:48.200862",
     "exception": false,
     "start_time": "2024-11-12T17:56:48.176156",
     "status": "completed"
    },
    "tags": []
   },
   "outputs": [
    {
     "data": {
      "text/plain": [
       "array([29, 76,  5, 44, 98,  5])"
      ]
     },
     "execution_count": 36,
     "metadata": {},
     "output_type": "execute_result"
    }
   ],
   "source": [
    "# creating 1-D array of size 6 of int type b/w interval (1,100) \n",
    "arr = np.random.randint(low=1, high=101, size=6)\n",
    "arr"
   ]
  },
  {
   "cell_type": "code",
   "execution_count": 37,
   "id": "1dab47c3",
   "metadata": {
    "execution": {
     "iopub.execute_input": "2024-11-12T17:56:48.228429Z",
     "iopub.status.busy": "2024-11-12T17:56:48.227970Z",
     "iopub.status.idle": "2024-11-12T17:56:48.235728Z",
     "shell.execute_reply": "2024-11-12T17:56:48.234638Z"
    },
    "papermill": {
     "duration": 0.024075,
     "end_time": "2024-11-12T17:56:48.238048",
     "exception": false,
     "start_time": "2024-11-12T17:56:48.213973",
     "status": "completed"
    },
    "tags": []
   },
   "outputs": [
    {
     "data": {
      "text/plain": [
       "array([[3, 4, 2],\n",
       "       [6, 3, 8],\n",
       "       [8, 2, 4]])"
      ]
     },
     "execution_count": 37,
     "metadata": {},
     "output_type": "execute_result"
    }
   ],
   "source": [
    "# By passing a tuple to size means rows and columns\n",
    "arr = np.random.randint(low = 1, high = 10, size = (3,3))\n",
    "arr"
   ]
  },
  {
   "cell_type": "code",
   "execution_count": 38,
   "id": "d7bcf050",
   "metadata": {
    "execution": {
     "iopub.execute_input": "2024-11-12T17:56:48.265270Z",
     "iopub.status.busy": "2024-11-12T17:56:48.264834Z",
     "iopub.status.idle": "2024-11-12T17:56:48.271891Z",
     "shell.execute_reply": "2024-11-12T17:56:48.270667Z"
    },
    "papermill": {
     "duration": 0.023653,
     "end_time": "2024-11-12T17:56:48.274467",
     "exception": false,
     "start_time": "2024-11-12T17:56:48.250814",
     "status": "completed"
    },
    "tags": []
   },
   "outputs": [
    {
     "name": "stdout",
     "output_type": "stream",
     "text": [
      "A 2-D array \n",
      " [[0 1]\n",
      " [2 3]]\n",
      "\n",
      " Converted Array \n",
      " [[0 0]\n",
      " [0 0]]\n"
     ]
    }
   ],
   "source": [
    "# creating a 2-D array\n",
    "mylist = [[0, 1],[2, 3]]\n",
    "arr1 = np.array(mylist)\n",
    "print(\"A 2-D array \\n\", arr1)\n",
    "\n",
    "# creating the same array as the shape of 'arr' filled with zeros\n",
    "arr2 = np.zeros_like(arr1)\n",
    "print(\"\\n Converted Array \\n\", arr2)"
   ]
  },
  {
   "cell_type": "code",
   "execution_count": 39,
   "id": "d35c3a7c",
   "metadata": {
    "execution": {
     "iopub.execute_input": "2024-11-12T17:56:48.303433Z",
     "iopub.status.busy": "2024-11-12T17:56:48.303006Z",
     "iopub.status.idle": "2024-11-12T17:56:48.310640Z",
     "shell.execute_reply": "2024-11-12T17:56:48.309366Z"
    },
    "papermill": {
     "duration": 0.02572,
     "end_time": "2024-11-12T17:56:48.313212",
     "exception": false,
     "start_time": "2024-11-12T17:56:48.287492",
     "status": "completed"
    },
    "tags": []
   },
   "outputs": [
    {
     "name": "stdout",
     "output_type": "stream",
     "text": [
      "A 1-D array \n",
      " [0 1 2 3 4 5 6 7 8 9]\n",
      "\n",
      " Converted Array \n",
      " [0 0 0 0 0 0 0 0 0 0]\n"
     ]
    }
   ],
   "source": [
    "# creating 1-D array\n",
    "arr1 = np.arange(10)\n",
    "print(\"A 1-D array \\n\", arr1)\n",
    "\n",
    "# creating the same array as the shape of 'arr' filled with zeros\n",
    "arr2 = np.zeros_like(arr1)\n",
    "print(\"\\n Converted Array \\n\", arr2)"
   ]
  }
 ],
 "metadata": {
  "kaggle": {
   "accelerator": "none",
   "dataSources": [],
   "dockerImageVersionId": 30786,
   "isGpuEnabled": false,
   "isInternetEnabled": true,
   "language": "python",
   "sourceType": "notebook"
  },
  "kernelspec": {
   "display_name": "Python 3",
   "language": "python",
   "name": "python3"
  },
  "language_info": {
   "codemirror_mode": {
    "name": "ipython",
    "version": 3
   },
   "file_extension": ".py",
   "mimetype": "text/x-python",
   "name": "python",
   "nbconvert_exporter": "python",
   "pygments_lexer": "ipython3",
   "version": "3.10.14"
  },
  "papermill": {
   "default_parameters": {},
   "duration": 4.583646,
   "end_time": "2024-11-12T17:56:48.747187",
   "environment_variables": {},
   "exception": null,
   "input_path": "__notebook__.ipynb",
   "output_path": "__notebook__.ipynb",
   "parameters": {},
   "start_time": "2024-11-12T17:56:44.163541",
   "version": "2.6.0"
  }
 },
 "nbformat": 4,
 "nbformat_minor": 5
}
