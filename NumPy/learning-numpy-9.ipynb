{
 "cells": [
  {
   "cell_type": "code",
   "id": "328b234a",
   "metadata": {
    "ExecuteTime": {
     "end_time": "2024-12-16T21:16:21.827364Z",
     "start_time": "2024-12-16T21:16:21.591123Z"
    }
   },
   "source": [
    "import numpy as np\n",
    "arr1 = np.random.randint(low = 1, high = 100, size = 5)\n",
    "arr2 = np.random.randint(low = 1, high = 100, size = 3)\n",
    "print(\"arr1 = \", arr1)\n",
    "print(\"arr2 = \", arr2)\n",
    "\n",
    "arr3 = np.concatenate((arr1, arr2))\n",
    "arr3 = np.concatenate((arr1, arr2), axis=0)\n",
    "print(\"\\nnp.concatenate((arr1,arr2)) = \", arr3)"
   ],
   "outputs": [
    {
     "name": "stdout",
     "output_type": "stream",
     "text": [
      "arr1 =  [12 76 46 76 93]\n",
      "arr2 =  [35 37  9]\n",
      "\n",
      "np.concatenate((arr1,arr2)) =  [12 76 46 76 93 35 37  9]\n"
     ]
    }
   ],
   "execution_count": 1
  },
  {
   "cell_type": "markdown",
   "id": "1453c811",
   "metadata": {},
   "source": [
    "**Example:** Concatenate two 2-D Arrays along `axis=0` (vertically/row-wise). The number of columns of two arrays must match."
   ]
  },
  {
   "cell_type": "code",
   "id": "86f79a6f",
   "metadata": {
    "ExecuteTime": {
     "end_time": "2024-12-16T21:16:50.962482Z",
     "start_time": "2024-12-16T21:16:50.942812Z"
    }
   },
   "source": [
    "arr1 = np.random.randint(low = 1, high = 10, size = (2,3))\n",
    "arr2 = np.random.randint(low = 1, high = 10, size = (3,3))\n",
    "print(\"arr1 = \\n\", arr1)\n",
    "print(\"arr2 = \\n\", arr2)\n",
    "\n",
    "arr3 = np.concatenate((arr1, arr2), axis=0)\n",
    "print(\"\\nnp.concatenate((arr1,arr2)) = \\n\", arr3)"
   ],
   "outputs": [
    {
     "name": "stdout",
     "output_type": "stream",
     "text": [
      "arr1 = \n",
      " [[8 5 2]\n",
      " [4 3 4]]\n",
      "arr2 = \n",
      " [[8 9 9]\n",
      " [9 8 1]\n",
      " [3 6 3]]\n",
      "\n",
      "np.concatenate((arr1,arr2)) = \n",
      " [[8 5 2]\n",
      " [4 3 4]\n",
      " [8 9 9]\n",
      " [9 8 1]\n",
      " [3 6 3]]\n"
     ]
    }
   ],
   "execution_count": 2
  },
  {
   "cell_type": "markdown",
   "id": "280eed63",
   "metadata": {},
   "source": [
    "**Example:** Concatenate two 2-D Arrays along `axis=1` (horizontally/column-wise). The number of rows of two arrays must match."
   ]
  },
  {
   "cell_type": "code",
   "id": "b2096ab9",
   "metadata": {
    "ExecuteTime": {
     "end_time": "2024-12-16T21:17:13.961954Z",
     "start_time": "2024-12-16T21:17:13.949524Z"
    }
   },
   "source": [
    "arr1 = np.random.randint(low = 1, high = 10, size = (2,2))\n",
    "arr2 = np.random.randint(low = 1, high = 10, size = (2,3))\n",
    "print(\"arr1 = \\n\", arr1)\n",
    "print(\"arr2 = \\n\", arr2)\n",
    "\n",
    "arr3 = np.concatenate((arr1, arr2), axis=1)\n",
    "print(\"\\nnp.concatenate((arr1,arr2)) = \\n\", arr3)"
   ],
   "outputs": [
    {
     "name": "stdout",
     "output_type": "stream",
     "text": [
      "arr1 = \n",
      " [[2 4]\n",
      " [2 6]]\n",
      "arr2 = \n",
      " [[9 4 4]\n",
      " [5 8 2]]\n",
      "\n",
      "np.concatenate((arr1,arr2)) = \n",
      " [[2 4 9 4 4]\n",
      " [2 6 5 8 2]]\n"
     ]
    }
   ],
   "execution_count": 3
  },
  {
   "cell_type": "markdown",
   "id": "9ad0ca2a",
   "metadata": {},
   "source": [
    "## 2. Stacking NumPy Arrays\n",
    "- Concatenating joins a sequence of arrays along an existing axis, and stacking joins a sequence of arrays along existing as well as along a new axis.\n",
    "- We can perform stacking along three dimensions:\n",
    "    - `np.vstack()` : it performs vertical stacking along the rows.\n",
    "    - `np.hstack()` : it performs horizontal stacking along with the columns.\n",
    "    - `np.dstack()` : it performs in-depth stacking along a new third axis (depth).\n",
    "\n",
    "**Note:** \n",
    "- `numpy.stack()` is the most general of the three methods, offering an axis parameter for specifying which way to put the arrays together.\n",
    "- `np.column_stack()` is used to stack 1-D arrays as columns into 2-D array.\n",
    "- `np.row_stack()` is used to stack 1-D arrays as rows into 2-D array."
   ]
  },
  {
   "cell_type": "markdown",
   "id": "0965f219",
   "metadata": {},
   "source": [
    "**Example: `np.row_stack()`**"
   ]
  },
  {
   "cell_type": "code",
   "id": "1a1e8151",
   "metadata": {
    "ExecuteTime": {
     "end_time": "2024-12-16T21:26:20.629809Z",
     "start_time": "2024-12-16T21:26:20.612798Z"
    }
   },
   "source": [
    "#ROW STACK\n",
    "import numpy as np\n",
    "arr1 = np.array([2,5,1])\n",
    "arr2 = np.array([3,6,2])\n",
    "\n",
    "print(\"arr1 = \", arr1)\n",
    "print(\"arr2 = \", arr2)\n",
    "  \n",
    "arr3 = np.row_stack((arr1, arr2))\n",
    "\n",
    "print (\"\\nnp.row_stack((arr1, arr2)):\\n \", arr3)"
   ],
   "outputs": [
    {
     "name": "stdout",
     "output_type": "stream",
     "text": [
      "arr1 =  [2 5 1]\n",
      "arr2 =  [3 6 2]\n",
      "\n",
      "np.row_stack((arr1, arr2)):\n",
      "  [[2 5 1]\n",
      " [3 6 2]]\n"
     ]
    },
    {
     "name": "stderr",
     "output_type": "stream",
     "text": [
      "C:\\Users\\PMLS\\AppData\\Local\\Temp\\ipykernel_31048\\1151901144.py:9: DeprecationWarning: `row_stack` alias is deprecated. Use `np.vstack` directly.\n",
      "  arr3 = np.row_stack((arr1, arr2))\n"
     ]
    }
   ],
   "execution_count": 4
  },
  {
   "cell_type": "markdown",
   "id": "32fa1887",
   "metadata": {},
   "source": [
    "**Example: `np.column_stack()`**"
   ]
  },
  {
   "cell_type": "code",
   "id": "e8fb88fb",
   "metadata": {
    "ExecuteTime": {
     "end_time": "2024-12-16T21:26:49.200073Z",
     "start_time": "2024-12-16T21:26:49.188888Z"
    }
   },
   "source": [
    "#COLUMN STACK\n",
    "import numpy as np\n",
    "arr1 = np.array([2,5,1])\n",
    "arr2 = np.array([3,6,2])\n",
    "\n",
    "print(\"arr1 = \", arr1)\n",
    "print(\"arr2 = \", arr2)\n",
    "  \n",
    "arr3 = np.column_stack((arr1, arr2))\n",
    "\n",
    "print (\"\\nnp.column_stack((arr1, arr2)):\\n \", arr3)"
   ],
   "outputs": [
    {
     "name": "stdout",
     "output_type": "stream",
     "text": [
      "arr1 =  [2 5 1]\n",
      "arr2 =  [3 6 2]\n",
      "\n",
      "np.column_stack((arr1, arr2)):\n",
      "  [[2 3]\n",
      " [5 6]\n",
      " [1 2]]\n"
     ]
    }
   ],
   "execution_count": 5
  },
  {
   "cell_type": "markdown",
   "id": "3c58a9cf",
   "metadata": {},
   "source": [
    "**Example:** Perform vertical stacking of two 1-D Arrays, which must have the same size/length."
   ]
  },
  {
   "cell_type": "code",
   "id": "0a1ba250",
   "metadata": {
    "ExecuteTime": {
     "end_time": "2024-12-16T21:29:07.144292Z",
     "start_time": "2024-12-16T21:29:07.135837Z"
    }
   },
   "source": [
    "import numpy as np\n",
    "arr1 = np.random.randint(low = 1, high = 10, size = 4)\n",
    "arr2 = np.random.randint(low = 1, high = 10, size = 4)\n",
    "\n",
    "print(\"arr1 = \", arr1)\n",
    "print(\"arr2 = \", arr2)\n",
    "  \n",
    "arr3 = np.vstack((arr1, arr2))\n",
    "\n",
    "print (\"\\nnp.vstack((arr1, arr2)):\\n \", arr3)"
   ],
   "outputs": [
    {
     "name": "stdout",
     "output_type": "stream",
     "text": [
      "arr1 =  [1 6 7 3]\n",
      "arr2 =  [3 7 2 7]\n",
      "\n",
      "np.vstack((arr1, arr2)):\n",
      "  [[1 6 7 3]\n",
      " [3 7 2 7]]\n"
     ]
    }
   ],
   "execution_count": 10
  },
  {
   "cell_type": "markdown",
   "id": "eaca3c1e",
   "metadata": {},
   "source": [
    "Note: The output array is a 2-D array"
   ]
  },
  {
   "cell_type": "markdown",
   "id": "29694002",
   "metadata": {},
   "source": [
    "**Example:** Perform vertical stacking of two 2-D Arrays. The number of columns of two arrays must match"
   ]
  },
  {
   "cell_type": "code",
   "id": "dd21992c",
   "metadata": {
    "ExecuteTime": {
     "end_time": "2024-12-16T21:29:09.410491Z",
     "start_time": "2024-12-16T21:29:09.403300Z"
    }
   },
   "source": [
    "arr1 = np.random.randint(low = 1, high = 10, size = (2,3))\n",
    "arr2 = np.random.randint(low = 1, high = 10, size = (3,3))\n",
    "\n",
    "print(\"arr1 = \\n\", arr1)\n",
    "print(\"arr2 = \\n\", arr2)\n",
    "\n",
    "arr3 = np.vstack((arr1, arr2))\n",
    "print (\"\\n np.vstack((arr1, arr2)):\\n \", arr3)"
   ],
   "outputs": [
    {
     "name": "stdout",
     "output_type": "stream",
     "text": [
      "arr1 = \n",
      " [[8 4 8]\n",
      " [1 2 1]]\n",
      "arr2 = \n",
      " [[4 4 6]\n",
      " [6 5 8]\n",
      " [5 2 6]]\n",
      "\n",
      " np.vstack((arr1, arr2)):\n",
      "  [[8 4 8]\n",
      " [1 2 1]\n",
      " [4 4 6]\n",
      " [6 5 8]\n",
      " [5 2 6]]\n"
     ]
    }
   ],
   "execution_count": 11
  },
  {
   "cell_type": "markdown",
   "id": "7e71cc75",
   "metadata": {},
   "source": [
    "**Example:** Perform horizontal stacking of two 1-D Arrays, which can be of different  size/length"
   ]
  },
  {
   "cell_type": "code",
   "id": "bac46141",
   "metadata": {
    "ExecuteTime": {
     "end_time": "2024-12-16T21:29:11.301948Z",
     "start_time": "2024-12-16T21:29:11.294531Z"
    }
   },
   "source": [
    "arr1 = np.random.randint(low = 1, high = 10, size = 5)\n",
    "arr2 = np.random.randint(low = 1, high = 10, size = 4)\n",
    "print(\"arr1 = \", arr1)\n",
    "print(\"arr2 = \", arr2)\n",
    "  \n",
    "arr3 = np.hstack((arr1, arr2))\n",
    "print (\"\\n np.hstack((arr1, arr2)):\\n \", arr3)"
   ],
   "outputs": [
    {
     "name": "stdout",
     "output_type": "stream",
     "text": [
      "arr1 =  [4 3 7 1 1]\n",
      "arr2 =  [5 6 4 7]\n",
      "\n",
      " np.hstack((arr1, arr2)):\n",
      "  [4 3 7 1 1 5 6 4 7]\n"
     ]
    }
   ],
   "execution_count": 12
  },
  {
   "cell_type": "markdown",
   "id": "5d786095",
   "metadata": {},
   "source": [
    "Note: The output array is a 1-D array"
   ]
  },
  {
   "cell_type": "markdown",
   "id": "f7eb1d49",
   "metadata": {},
   "source": [
    "**Example:** Perform horizontal stacking of two 2-D Arrays. The number of rows of two arrays must match"
   ]
  },
  {
   "cell_type": "code",
   "id": "1b6fce65",
   "metadata": {
    "ExecuteTime": {
     "end_time": "2024-12-16T21:29:26.055421Z",
     "start_time": "2024-12-16T21:29:26.045369Z"
    }
   },
   "source": [
    "arr1 = np.random.randint(low = 1, high = 10, size = (2,2))\n",
    "arr2 = np.random.randint(low = 1, high = 10, size = (2,3))\n",
    "print(\"arr1 = \\n\", arr1)\n",
    "print(\"arr2 = \\n\", arr2)\n",
    "\n",
    "arr3 = np.hstack((arr1, arr2))\n",
    "print (\"\\n np.hstack((arr1, arr2)):\\n \", arr3)"
   ],
   "outputs": [
    {
     "name": "stdout",
     "output_type": "stream",
     "text": [
      "arr1 = \n",
      " [[2 8]\n",
      " [6 4]]\n",
      "arr2 = \n",
      " [[8 9 6]\n",
      " [5 2 7]]\n",
      "\n",
      " np.hstack((arr1, arr2)):\n",
      "  [[2 8 8 9 6]\n",
      " [6 4 5 2 7]]\n"
     ]
    }
   ],
   "execution_count": 13
  },
  {
   "cell_type": "markdown",
   "id": "538597f0",
   "metadata": {},
   "source": [
    "### e. Using `np.stack()`\n",
    "\n",
    "- The `np.stack()` method is used to join a sequence of same dimension arrays along a new axis.\n",
    "- The axis parameter specifies the index of the new axis in the dimensions of the result. \n",
    "- For example, if axis=0 it will be the first dimension and if axis=-1 it will be the last dimension.\n",
    "```\n",
    "np.stack(a1, a2, a3, ..., axis=0)\n",
    "```\n",
    "\n",
    "- Where `tup` is comma separated ndarrays\n",
    "- 1-D or 2-D arrays must have the same shape, while n-D arrays must have the same shape along all but the third axis.\n",
    "- It returns the array formed by stacking the given arrays, which has one more dimension than the input arrays.\n",
    "- This function makes most sense for arrays with up to 3 dimensions. For instance, for pixel-data with a height (first axis), width (second axis), and r/g/b channels (third axis).\n",
    "\n",
    "\n",
    "\n",
    "**Note:** Concatenating joins a sequence of tensors along an existing axis, and stacking joins a sequence of tensors along a new axis"
   ]
  },
  {
   "cell_type": "markdown",
   "id": "bf7c1a4c",
   "metadata": {},
   "source": [
    "**Example:** Perform stacking of two 1-D Arrays, which must have the same size/shape."
   ]
  },
  {
   "cell_type": "code",
   "id": "d41eb42c",
   "metadata": {
    "ExecuteTime": {
     "end_time": "2024-12-16T21:30:58.642401Z",
     "start_time": "2024-12-16T21:30:58.542665Z"
    }
   },
   "source": [
    "import numpy as np\n",
    "arr1 = np.random.randint(low = 1, high = 10, size = 4)\n",
    "arr2 = np.random.randint(low = 1, high = 10, size = 4)\n",
    "print(\"arr1 = \", arr1)\n",
    "print(\"arr2 = \", arr2)\n",
    "  \n",
    "# Stacking two 1-D arrays along axis 0 using stack()\n",
    "arr3 = np.stack((arr1, arr2), axis = 0)\n",
    "print (\"\\n np.stack(arr1, arr2, axis=0):\\n \", arr3)\n",
    "# Stacking the two 1-D arrays using row_stack()\n",
    "arr4 = np.row_stack((arr1, arr2))\n",
    "print (\"\\n np.row_stack(arr1, arr2)):\\n \", arr4)\n",
    "  \n",
    "\n",
    "# Stacking two 1-D arrays along axis 1 using stack()\n",
    "arr5 = np.stack((arr1, arr2), axis = 1)\n",
    "print (\"\\n np.stack((arr1, arr2), axis=1):\\n \", arr5)\n",
    "# Stacking the two 1-D arrays using column_stack()\n",
    "arr6 = np.column_stack((arr1, arr2))\n",
    "print (\"\\n np.column_stack(arr1, arr2):\\n \", arr6)"
   ],
   "outputs": [
    {
     "name": "stdout",
     "output_type": "stream",
     "text": [
      "arr1 =  [8 8 7 3]\n",
      "arr2 =  [3 8 6 2]\n",
      "\n",
      " np.stack(arr1, arr2, axis=0):\n",
      "  [[8 8 7 3]\n",
      " [3 8 6 2]]\n",
      "\n",
      " np.row_stack(arr1, arr2)):\n",
      "  [[8 8 7 3]\n",
      " [3 8 6 2]]\n",
      "\n",
      " np.stack((arr1, arr2), axis=1):\n",
      "  [[8 3]\n",
      " [8 8]\n",
      " [7 6]\n",
      " [3 2]]\n",
      "\n",
      " np.column_stack(arr1, arr2):\n",
      "  [[8 3]\n",
      " [8 8]\n",
      " [7 6]\n",
      " [3 2]]\n"
     ]
    },
    {
     "name": "stderr",
     "output_type": "stream",
     "text": [
      "C:\\Users\\PMLS\\AppData\\Local\\Temp\\ipykernel_31048\\2707974652.py:11: DeprecationWarning: `row_stack` alias is deprecated. Use `np.vstack` directly.\n",
      "  arr4 = np.row_stack((arr1, arr2))\n"
     ]
    }
   ],
   "execution_count": 14
  },
  {
   "cell_type": "markdown",
   "id": "ec563ebb",
   "metadata": {},
   "source": [
    "**Example:** Perform stacking of two 2-D Arrays, which must have the same size/shape."
   ]
  },
  {
   "cell_type": "code",
   "id": "96c36e49",
   "metadata": {
    "ExecuteTime": {
     "end_time": "2024-12-16T21:31:41.998765Z",
     "start_time": "2024-12-16T21:31:41.987825Z"
    }
   },
   "source": [
    "import numpy as np\n",
    "arr1 = np.array([[4,3,1],[5,6,2]])\n",
    "arr2 = np.array([[5,1,8],[3,9,1]])\n",
    "\n",
    "print(\"arr1 = \\n\", arr1)\n",
    "print(\"arr2 = \\n\", arr2)\n",
    "\n",
    "# Stacking the two arrays along axis 0\n",
    "arr3 = np.stack((arr1, arr2), axis = 0)\n",
    "print (\"\\n np.stack((arr1, arr2), axis=0): \\n\", arr3)\n",
    "\n",
    "print(\"shape of arr3:\", arr3.shape)"
   ],
   "outputs": [
    {
     "name": "stdout",
     "output_type": "stream",
     "text": [
      "arr1 = \n",
      " [[4 3 1]\n",
      " [5 6 2]]\n",
      "arr2 = \n",
      " [[5 1 8]\n",
      " [3 9 1]]\n",
      "\n",
      " np.stack((arr1, arr2), axis=0): \n",
      " [[[4 3 1]\n",
      "  [5 6 2]]\n",
      "\n",
      " [[5 1 8]\n",
      "  [3 9 1]]]\n",
      "shape of arr3: (2, 2, 3)\n"
     ]
    }
   ],
   "execution_count": 15
  },
  {
   "cell_type": "code",
   "id": "75d2beb7",
   "metadata": {
    "ExecuteTime": {
     "end_time": "2024-12-16T21:32:17.978697Z",
     "start_time": "2024-12-16T21:32:17.960627Z"
    }
   },
   "source": [
    "import numpy as np\n",
    "arr1 = np.array([[4,3,1],[5,6,2]])\n",
    "arr2 = np.array([[5,1,8],[3,9,1]])\n",
    "\n",
    "print(\"arr1 = \\n\", arr1)\n",
    "print(\"arr2 = \\n\", arr2)\n",
    "\n",
    "# Stacking the two arrays along axis 1\n",
    "arr3 = np.stack((arr1, arr2), axis = 1)\n",
    "print (\"\\n np.stack((arr1, arr2), axis=1): \\n\", arr3)\n",
    "\n",
    "print(\"shape of arr3:\", arr3.shape)"
   ],
   "outputs": [
    {
     "name": "stdout",
     "output_type": "stream",
     "text": [
      "arr1 = \n",
      " [[4 3 1]\n",
      " [5 6 2]]\n",
      "arr2 = \n",
      " [[5 1 8]\n",
      " [3 9 1]]\n",
      "\n",
      " np.stack((arr1, arr2), axis=1): \n",
      " [[[4 3 1]\n",
      "  [5 1 8]]\n",
      "\n",
      " [[5 6 2]\n",
      "  [3 9 1]]]\n",
      "shape of arr3: (2, 2, 3)\n"
     ]
    }
   ],
   "execution_count": 16
  },
  {
   "cell_type": "code",
   "id": "8bc1301b",
   "metadata": {
    "ExecuteTime": {
     "end_time": "2024-12-16T21:34:03.136848Z",
     "start_time": "2024-12-16T21:34:03.128760Z"
    }
   },
   "source": [
    "import numpy as np\n",
    "arr1 = np.array([[4,3,1],[5,6,2]])\n",
    "arr2 = np.array([[5,1,8],[3,9,1]])\n",
    "\n",
    "print(\"arr1 = \\n\", arr1)\n",
    "print(\"arr2 = \\n\", arr2)\n",
    "\n",
    "  \n",
    "# Stacking the two arrays along last axis\n",
    "arr3 = np.stack((arr1, arr2), axis = -1)\n",
    "print (\"\\n np.stack((arr1, arr2), axis=-1):\\n \", arr3)\n",
    "print(\"shape of arr3:\", arr3.shape)"
   ],
   "outputs": [
    {
     "name": "stdout",
     "output_type": "stream",
     "text": [
      "arr1 = \n",
      " [[4 3 1]\n",
      " [5 6 2]]\n",
      "arr2 = \n",
      " [[5 1 8]\n",
      " [3 9 1]]\n",
      "\n",
      " np.stack((arr1, arr2), axis=-1):\n",
      "  [[[4 5]\n",
      "  [3 1]\n",
      "  [1 8]]\n",
      "\n",
      " [[5 3]\n",
      "  [6 9]\n",
      "  [2 1]]]\n",
      "shape of arr3: (2, 3, 2)\n"
     ]
    }
   ],
   "execution_count": 17
  },
  {
   "cell_type": "markdown",
   "id": "3bb7e22c",
   "metadata": {},
   "source": [
    "## 3. Splitting NumPy Arrays\n",
    "- Splitting is reverse operation of Joining, and is used to split one array into multiple arrays....\n",
    "- We can perform splitting along three dimensions:\n",
    "    - `np.split()` : Split array into a list of multiple sub-arrays of equal size.\n",
    "    - `np.hsplit()` : Split array into multiple sub-arrays horizontally (column wise).\n",
    "    - `np.vsplit()` : Split array into multiple sub-arrays vertically (row wise)."
   ]
  },
  {
   "cell_type": "code",
   "id": "93d40d2b",
   "metadata": {
    "ExecuteTime": {
     "end_time": "2024-12-16T21:35:27.905352Z",
     "start_time": "2024-12-16T21:35:27.822519Z"
    }
   },
   "source": [
    "arr1 = np.random.randint(low = 1, high = 10, size = 20)\n",
    "print(\"arr1:\\n\",arr1)\n",
    "\n",
    "# The split size must be a factor of array size (can be 1, 2, 4, 5, 10) \n",
    "print(\"\\nSub-arrays: \\n\", np.split(arr1, 4))"
   ],
   "outputs": [
    {
     "name": "stdout",
     "output_type": "stream",
     "text": [
      "arr1:\n",
      " [5 8 8 6 6 4 4 7 5 3 5 1 2 1 8 9 4 9 5 3]\n",
      "\n",
      "Sub-arrays: \n",
      " [array([5, 8, 8, 6, 6], dtype=int32), array([4, 4, 7, 5, 3], dtype=int32), array([5, 1, 2, 1, 8], dtype=int32), array([9, 4, 9, 5, 3], dtype=int32)]\n"
     ]
    }
   ],
   "execution_count": 18
  },
  {
   "cell_type": "code",
   "id": "37370678",
   "metadata": {
    "ExecuteTime": {
     "end_time": "2024-12-16T21:35:53.974026Z",
     "start_time": "2024-12-16T21:35:53.960649Z"
    }
   },
   "source": [
    "# create an array of float type\n",
    "arr1 = np.random.randint(low = 1, high = 10, size = 13)\n",
    "print(\"arr1:\\n\",arr1)\n",
    "\n",
    "# The array_split() will not flag an error if size is not a factor of array size (will manage)\n",
    "print(\"\\nSub-arrays: \\n\", np.array_split(arr1, 4))"
   ],
   "outputs": [
    {
     "name": "stdout",
     "output_type": "stream",
     "text": [
      "arr1:\n",
      " [3 2 5 9 2 2 1 2 9 2 5 2 5]\n",
      "\n",
      "Sub-arrays: \n",
      " [array([3, 2, 5, 9], dtype=int32), array([2, 2, 1], dtype=int32), array([2, 9, 2], dtype=int32), array([5, 2, 5], dtype=int32)]\n"
     ]
    }
   ],
   "execution_count": 19
  },
  {
   "cell_type": "code",
   "id": "d9baa401",
   "metadata": {
    "ExecuteTime": {
     "end_time": "2024-12-16T21:36:03.427303Z",
     "start_time": "2024-12-16T21:36:03.407928Z"
    }
   },
   "source": [
    "# create an array of float type with 4 rows and 4 columns with sequential values from 0 to 15\n",
    "arr1 = np.arange(16.0).reshape(4,4)\n",
    "# print array\n",
    "print(\"arr1:\\n\",arr1)\n",
    "print(\"shape: \", arr1.shape)"
   ],
   "outputs": [
    {
     "name": "stdout",
     "output_type": "stream",
     "text": [
      "arr1:\n",
      " [[ 0.  1.  2.  3.]\n",
      " [ 4.  5.  6.  7.]\n",
      " [ 8.  9. 10. 11.]\n",
      " [12. 13. 14. 15.]]\n",
      "shape:  (4, 4)\n"
     ]
    }
   ],
   "execution_count": 20
  },
  {
   "cell_type": "code",
   "execution_count": null,
   "id": "9d1e5fd3",
   "metadata": {},
   "source": [
    "# horizontally split array into 2 subarrays\n",
    "print(\"\\nSub-arrays: \\n\", np.hsplit(arr1, 2))"
   ],
   "outputs": []
  },
  {
   "cell_type": "markdown",
   "id": "134c339a",
   "metadata": {},
   "source": [
    "**Example:**"
   ]
  },
  {
   "cell_type": "code",
   "id": "b4f3ba75",
   "metadata": {
    "ExecuteTime": {
     "end_time": "2024-12-16T21:36:38.168856Z",
     "start_time": "2024-12-16T21:36:38.151437Z"
    }
   },
   "source": [
    "# create an array of float type with 4 rows and 5 columns with sequential values from 0 to 19\n",
    "arr1 = np.arange(16.0).reshape(4,4)\n",
    "print(\"arr1:\\n\",arr1)\n",
    "print(\"shape: \", arr1.shape)"
   ],
   "outputs": [
    {
     "name": "stdout",
     "output_type": "stream",
     "text": [
      "arr1:\n",
      " [[ 0.  1.  2.  3.]\n",
      " [ 4.  5.  6.  7.]\n",
      " [ 8.  9. 10. 11.]\n",
      " [12. 13. 14. 15.]]\n",
      "shape:  (4, 4)\n"
     ]
    }
   ],
   "execution_count": 21
  },
  {
   "cell_type": "code",
   "id": "ffb810cb",
   "metadata": {
    "ExecuteTime": {
     "end_time": "2024-12-16T21:37:07.994596Z",
     "start_time": "2024-12-16T21:37:07.983854Z"
    }
   },
   "source": [
    "# vertically split array into 2 subarrays (remember size argument must be a factor of number of rows )\n",
    "print(\"\\nSub-arrays: \\n\", np.hsplit(arr1, 2))"
   ],
   "outputs": [
    {
     "name": "stdout",
     "output_type": "stream",
     "text": [
      "\n",
      "Sub-arrays: \n",
      " [array([[ 0.,  1.],\n",
      "       [ 4.,  5.],\n",
      "       [ 8.,  9.],\n",
      "       [12., 13.]]), array([[ 2.,  3.],\n",
      "       [ 6.,  7.],\n",
      "       [10., 11.],\n",
      "       [14., 15.]])]\n"
     ]
    }
   ],
   "execution_count": 23
  }
 ],
 "metadata": {
  "kernelspec": {
   "display_name": "Python 3 (ipykernel)",
   "language": "python",
   "name": "python3"
  },
  "language_info": {
   "codemirror_mode": {
    "name": "ipython",
    "version": 3
   },
   "file_extension": ".py",
   "mimetype": "text/x-python",
   "name": "python",
   "nbconvert_exporter": "python",
   "pygments_lexer": "ipython3",
   "version": "3.9.7"
  }
 },
 "nbformat": 4,
 "nbformat_minor": 5
}
