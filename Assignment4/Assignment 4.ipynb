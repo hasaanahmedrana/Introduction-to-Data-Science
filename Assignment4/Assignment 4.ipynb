{
 "cells": [
  {
   "cell_type": "code",
   "execution_count": 20,
   "id": "00c56705-0710-4f26-abe6-a51aa36fe268",
   "metadata": {},
   "outputs": [],
   "source": [
    "import numpy as np\n",
    "import pandas as pd"
   ]
  },
  {
   "cell_type": "markdown",
   "id": "0c110990-af5c-4dda-a158-454bc059401b",
   "metadata": {},
   "source": [
    "### Task 1: Initialize Temperature and Humidity Data"
   ]
  },
  {
   "cell_type": "code",
   "execution_count": 21,
   "id": "94200531-6bf3-4e62-afd9-ea2996ebfe9c",
   "metadata": {},
   "outputs": [],
   "source": [
    "np.random.seed(42)  # For reproducibility\n",
    "temperature_data = np.random.uniform(-10, 40, (500, 365))\n",
    "humidity_data = np.random.uniform(0, 100, (500, 365))"
   ]
  },
  {
   "cell_type": "markdown",
   "id": "5c2910ce-f2fa-42b9-a3a9-5cfd8c4e14ed",
   "metadata": {},
   "source": [
    "---\n",
    "### Task 2: Check for Missing Data"
   ]
  },
  {
   "cell_type": "markdown",
   "id": "bfb0482c-3ad9-4099-bc48-d5adc0ea8280",
   "metadata": {},
   "source": [
    "Simulate missing data by setting 5% of the values to null"
   ]
  },
  {
   "cell_type": "code",
   "execution_count": 22,
   "id": "d58981c9-14dd-41c8-ab55-c40f700d4db2",
   "metadata": {},
   "outputs": [],
   "source": [
    "num_missing = int(0.05 * temperature_data.size)\n",
    "missing_indices = (np.random.randint(0, 500, num_missing), np.random.randint(0, 365, num_missing))\n",
    "temperature_data[missing_indices] = np.nan\n",
    "humidity_data[missing_indices] = np.nan"
   ]
  },
  {
   "cell_type": "markdown",
   "id": "a1d703fc-6cee-44dd-b088-18d19a347d0a",
   "metadata": {},
   "source": [
    "Count the number of missing entries"
   ]
  },
  {
   "cell_type": "code",
   "execution_count": 23,
   "id": "b7c0baab-a016-485b-8c3c-30fcc018fdc8",
   "metadata": {},
   "outputs": [
    {
     "name": "stdout",
     "output_type": "stream",
     "text": [
      "Total missing entries in temperature_data: 8888\n",
      "Total missing entries in humidity_data: 8888\n"
     ]
    }
   ],
   "source": [
    "missing_temp_count = np.isnan(temperature_data).sum()\n",
    "missing_humidity_count = np.isnan(humidity_data).sum()\n",
    "print(f\"Total missing entries in temperature_data: {missing_temp_count}\")\n",
    "print(f\"Total missing entries in humidity_data: {missing_humidity_count}\")\n"
   ]
  },
  {
   "cell_type": "markdown",
   "id": "71b9fdb2-95a0-4d51-824e-e9535153e8ea",
   "metadata": {},
   "source": [
    "---\n",
    "### Task 3: Convert Temperature and Calculate Discomfort Index"
   ]
  },
  {
   "cell_type": "code",
   "execution_count": 24,
   "id": "2d6f368a-0938-46b7-a7c2-4f9cfe93f931",
   "metadata": {},
   "outputs": [],
   "source": [
    "temperature_data_f = (temperature_data * 9/5) + 32 #celcius to fahrenheit"
   ]
  },
  {
   "cell_type": "markdown",
   "id": "dfbc3598-d71a-43fd-8a99-9530004e24b5",
   "metadata": {},
   "source": [
    "Calculate \"feels like\" discomfort index"
   ]
  },
  {
   "cell_type": "code",
   "execution_count": 25,
   "id": "19785067-ac8e-4a53-af04-0119c19d7985",
   "metadata": {},
   "outputs": [],
   "source": [
    "discomfort_index = 0.5 * (temperature_data_f + 61.0 + ((temperature_data_f - 68.0) * 1.2) + (humidity_data * 0.094))\n",
    "discomfort_index = np.where(discomfort_index > 80, 80, discomfort_index)"
   ]
  },
  {
   "cell_type": "markdown",
   "id": "30e1980e-3fa0-4c87-a7b2-8dfdb626fad6",
   "metadata": {},
   "source": [
    "---\n",
    "### Task 4: Analyze January Temperatures"
   ]
  },
  {
   "cell_type": "code",
   "execution_count": 26,
   "id": "c3ea1a66-3f81-4042-92eb-64793cae3e3b",
   "metadata": {},
   "outputs": [
    {
     "name": "stdout",
     "output_type": "stream",
     "text": [
      "Average January temperature across all locations: 15.01°C\n"
     ]
    }
   ],
   "source": [
    "january_temperatures = temperature_data[:, :31]\n",
    "average_january_temp = np.nanmean(january_temperatures)\n",
    "print(f\"Average January temperature across all locations: {average_january_temp:.2f}°C\")"
   ]
  },
  {
   "cell_type": "markdown",
   "id": "5aec6f3c-6949-4e6f-8348-d8416120dfb7",
   "metadata": {},
   "source": [
    "---\n",
    "### Task 5: Identify Extreme Temperatures"
   ]
  },
  {
   "cell_type": "code",
   "execution_count": 27,
   "id": "cfd8fab0-6b5e-4d1f-a91a-b3b298e66849",
   "metadata": {},
   "outputs": [
    {
     "name": "stdout",
     "output_type": "stream",
     "text": [
      "Number of null values per location due to extreme temperatures:\n",
      " [46 56 51 59 54 44 54 56 47 45 49 44 53 56 59 48 50 52 65 50 51 45 49 53\n",
      " 45 46 44 54 57 55 57 50 65 55 42 65 54 45 52 60 38 53 48 58 60 53 64 52\n",
      " 47 48 54 61 69 41 51 49 57 59 48 56 52 64 46 48 67 41 54 51 56 42 42 44\n",
      " 59 41 66 43 43 53 36 52 44 49 57 57 55 61 57 53 56 57 49 60 40 51 44 55\n",
      " 55 50 72 48 48 59 64 50 54 53 50 40 51 65 64 43 62 55 50 50 58 47 47 53\n",
      " 57 49 56 58 60 48 56 53 44 54 53 60 51 49 34 45 44 59 52 52 50 58 40 57\n",
      " 34 53 63 56 48 49 49 53 42 51 55 57 43 46 50 41 56 54 48 52 48 36 51 64\n",
      " 60 68 47 59 58 44 51 52 53 43 45 46 45 49 41 45 41 48 50 55 55 49 46 57\n",
      " 43 53 42 46 57 45 40 57 69 42 48 54 49 71 46 58 42 50 54 52 44 52 55 45\n",
      " 48 51 55 45 52 54 59 68 54 53 54 46 47 64 44 59 49 64 58 61 59 51 49 48\n",
      " 49 46 58 55 37 54 53 53 60 46 68 56 40 56 45 50 47 49 54 52 51 54 59 41\n",
      " 67 63 45 52 57 43 38 53 49 39 49 51 65 48 58 41 54 48 44 59 58 53 49 58\n",
      " 55 45 51 65 46 55 41 48 63 49 48 42 53 55 50 63 45 50 47 50 53 64 52 57\n",
      " 49 63 53 45 53 46 49 55 51 59 47 57 55 45 49 54 47 59 52 48 50 46 55 54\n",
      " 43 49 47 47 47 48 54 60 59 55 53 56 53 50 39 58 63 58 54 52 58 52 58 51\n",
      " 55 56 61 51 61 57 48 44 45 50 54 55 53 53 42 57 49 61 50 55 56 60 45 62\n",
      " 50 60 42 55 53 63 52 54 59 53 56 52 54 57 53 54 57 71 52 49 57 47 67 55\n",
      " 43 54 70 51 40 47 50 51 53 54 43 63 63 53 46 56 52 60 64 64 46 41 53 49\n",
      " 54 48 57 50 60 39 63 61 54 49 63 57 55 54 55 56 48 45 58 44 49 61 51 52\n",
      " 54 64 55 42 53 47 55 56 61 51 57 50 49 52 56 47 50 55 57 56 47 52 52 44\n",
      " 57 52 55 43 46 47 53 47 57 54 55 59 55 53 45 56 60 55 55 66]\n"
     ]
    }
   ],
   "source": [
    "temperature_data[temperature_data > 35] = np.nan\n",
    "extreme_temp_count = np.isnan(temperature_data).sum(axis=1)\n",
    "print(f\"Number of null values per location due to extreme temperatures:\\n {extreme_temp_count}\")\n"
   ]
  },
  {
   "cell_type": "markdown",
   "id": "b34f60e8-9ebf-4232-aea4-84ff7254fe04",
   "metadata": {},
   "source": [
    "---\n",
    "### Task 6: Calculate Quarterly Temperature Averages"
   ]
  },
  {
   "cell_type": "code",
   "execution_count": 28,
   "id": "3a996f82-0f24-45c1-96b9-e167d4e1cf35",
   "metadata": {},
   "outputs": [
    {
     "name": "stdout",
     "output_type": "stream",
     "text": [
      "Quarterly temperature averages calculated.\n"
     ]
    }
   ],
   "source": [
    "quarters = np.array_split(temperature_data, 4, axis=1)\n",
    "quarterly_averages = [np.nanmean(quarter, axis=1) for quarter in quarters]\n",
    "quarterly_averages = np.array(quarterly_averages).T\n",
    "print(\"Quarterly temperature averages calculated.\")"
   ]
  },
  {
   "cell_type": "markdown",
   "id": "7f176770-df80-431f-a146-be296ed935af",
   "metadata": {},
   "source": [
    "---\n",
    "### Task 7: Classify Humidity Levels"
   ]
  },
  {
   "cell_type": "code",
   "execution_count": 29,
   "id": "1539804f-fa50-47c2-887b-8b93bbddd715",
   "metadata": {},
   "outputs": [
    {
     "name": "stdout",
     "output_type": "stream",
     "text": [
      "Total number of 'Dry' days per location:\n",
      " [110 101 109 100 115  99 116 108 103 116 109 108  80 102 106 101 106  93\n",
      "  99  92 104  93  94 129  95 110 121  88 105 102 104 109 102 111 109 104\n",
      " 107 108 104 102 114  94 116 108 101 115 119 115 100 118 104 114  98 125\n",
      " 102 107 108 106 110 110 120  88 107 114 110 102 114  97  99  95 123 104\n",
      " 109 107 104 101 115 104 105 115  93  98 105  90 111 115 115 100  88 114\n",
      " 103  85 104 104 105 100  94 102 115  94 102 114  91 107 100 106 106 108\n",
      " 106  86  82 119 110 108  95 104 103  99  97 106  85  91 102 104 102 104\n",
      "  98  95 101 104 108  96 116  97 101  91 115 112 112  99 116  96  96 109\n",
      " 113 100  96 112 101 104 109 106 107 113 103 112 101 101  95 108 110 123\n",
      " 102  98 109 100 105 105 104 109 100  92 101 117  88 106 100  88 105 112\n",
      " 111  95 107 111  99 105 103 113 109 121 109 103  98  85 117 110  88 104\n",
      " 107 104 106 103  95 102 106 101 110  97  88  97  86 101 116 105 103  93\n",
      " 103  89 109 100 107 104 112  90 105 104 104 110  96 103 103  97 109  97\n",
      "  96  99  92 110 105 110  99 104 105 100  97 104 113 103 101 101  98 106\n",
      " 107  93  99  97 102 121 110  95 100  91 105 110 104 112  95 110 107  93\n",
      " 113 118 105  97 102 119 108 115 104 117 101  97  98 116 113  98 100 103\n",
      "  97 110 107 100 116 107 125 112 107  89 114 104  93 105  93  92 109 100\n",
      " 101 124 104 110 104 102 119 100  99 103 111  91 100  97 104 110 109  99\n",
      "  96 111 104 111 117  92 106 107 106  99 106 110 103 105 101 112 110 114\n",
      " 109  99  80  93 100 103  99 105 101 120 110 103 102 109  95 118  93 107\n",
      " 110 107 108 106  94 111 121  99 124 114  98  95 103  96 119  83 105 108\n",
      " 103 114  93 109 111 108  97 110  99 107 110  94 105 112 115 103 114 113\n",
      " 106 108 104  94 122 110  96 100 105 109 103 100  83 105 105 101 102 104\n",
      " 116 112 109 107  90 108  91  99 120  94 103 112  97 108 123  98 118  98\n",
      "  92 103  99 103  94 114 102 111 111  96 100  99 111 109 110 111  91 119\n",
      "  94 112 127 101  97 102  95 120  91 107  97  98 102 111 102 108 101 101\n",
      " 114  95 110 101  95  98 113 102 108  93 103 112 117  92 106 127 102 116\n",
      " 103 110 119  86  86 101 114  86  89 101  96 102  95 102]\n",
      "--------------------------------------------------\n",
      "Total number of 'Humid' days per location:\n",
      " [112 111 104 112  92 105 108  98  98 104 114 104 120 102  91 116 117 110\n",
      " 108  96  99 108 101  91 112 101 100 120 101  98 103 106 109 104  94 111\n",
      " 117 107 107 114 106 113  85 107  95 102  92  83 111  98  89 102 120 112\n",
      " 116 110  97 110  99  97 112 109 105 106  86 108  98 108 105 121 103  92\n",
      "  90 102 107 111  96 101  93  95 101 115 101 115 109  99 109  99 114  85\n",
      "  90 116 104 104 111 104 120 108 105 109 103  99 106 112 102 102 108 114\n",
      " 101 121 102  97 102  98 101  99  91 101 116 115 115 114 101 103 105  97\n",
      " 112  90 120  96 120 123  97 105 106 106 103  84 111 100  96 107 104 107\n",
      " 115 107  98  97 119 107 108  99  96  96 104 109  94  89 109  96 112 101\n",
      " 103 103 101 111 108  83  98 105  97 110 109  99 118 104  97 117 106 105\n",
      "  93 109  89  99 106 115 100  96  91  84  93  96 109 123 101  93 106 113\n",
      " 100  95 107 108  96 100  98 113  93 107 112 114 114 104  99 106  93 110\n",
      " 104 113  94 104 117 112  87 109  96  98 110  94  97 111 106  98 109  99\n",
      " 107 105 128 103 124  95 117 110  95  99 117 103 114 104 102 113 102 108\n",
      "  97 116  95 116  94  97  99 118 104 116 107 103  97  97 109 107  96 111\n",
      " 108  97 102 105 108 101 107 109  94  95  93 110 114 105 106 112 103 114\n",
      " 115 103 103  97 107 105  96 103  94 103 108  97 102 103 109 103 114 111\n",
      "  94  98  97 108  93 115 103 108 107 106 110 104  90 101 108 110  98 107\n",
      " 117 100 110 104 109  86 112 111  97 115  98 100 102 124 100 127  99  97\n",
      "  92 113 107 101 103 101  97 117 101  94 105 105 108  98 114  98 106  92\n",
      " 105 107  89 103  83  92 107 117 108  87  96 108 103  98 107 113  92 109\n",
      " 115  98 101 104 109  94 110  96 107  96 100 107  90 111 113  92 110 106\n",
      " 109 104  98 101 103 114 103 117 106 115  99 100 118 103  91 113 100 106\n",
      " 102 108 106 107 116 107 109 109 111 104 104 101  96  96  95 114  95 106\n",
      " 108 101  98  86 110  91  96  99 104  97  94 107  89 100 104 111 110  92\n",
      " 107 110  73 113 105 111 122  85  94 101 129 110  91  99  89 106  98 104\n",
      " 109  96  93 103 114 106  94 112 113 113 112  95 107 108 102 106 104  96\n",
      " 108 102 107 117 106 115 100 103 107 108 104 110 104 107]\n"
     ]
    }
   ],
   "source": [
    "dry_days = (humidity_data < 30).sum(axis=1)\n",
    "humid_days = (humidity_data > 70).sum(axis=1)\n",
    "print(f\"Total number of 'Dry' days per location:\\n {dry_days}\")\n",
    "print('-' * 50)\n",
    "print(f\"Total number of 'Humid' days per location:\\n {humid_days}\")"
   ]
  },
  {
   "cell_type": "markdown",
   "id": "8587d450-396a-4d46-ad09-06c04faae1df",
   "metadata": {},
   "source": [
    "---\n",
    "### Task 8: Apply Daily Pressure Trend to Temperature Data"
   ]
  },
  {
   "cell_type": "code",
   "execution_count": 30,
   "id": "a4b79a9c-a95e-4c24-83a8-c7a485d14b97",
   "metadata": {},
   "outputs": [
    {
     "name": "stdout",
     "output_type": "stream",
     "text": [
      "Daily pressure trend applied to temperature data.\n"
     ]
    }
   ],
   "source": [
    "pressure_trend = np.linspace(0, 1, 365)\n",
    "adjusted_temperature_data = temperature_data + pressure_trend\n",
    "print(\"Daily pressure trend applied to temperature data.\")"
   ]
  },
  {
   "cell_type": "markdown",
   "id": "95baa5f9-0d27-430c-8edf-fb1d84136835",
   "metadata": {},
   "source": [
    "---"
   ]
  }
 ],
 "metadata": {
  "kernelspec": {
   "display_name": "Python 3 (ipykernel)",
   "language": "python",
   "name": "python3"
  },
  "language_info": {
   "codemirror_mode": {
    "name": "ipython",
    "version": 3
   },
   "file_extension": ".py",
   "mimetype": "text/x-python",
   "name": "python",
   "nbconvert_exporter": "python",
   "pygments_lexer": "ipython3",
   "version": "3.12.7"
  }
 },
 "nbformat": 4,
 "nbformat_minor": 5
}
