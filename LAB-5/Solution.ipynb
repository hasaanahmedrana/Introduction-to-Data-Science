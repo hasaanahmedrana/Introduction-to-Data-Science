{
 "cells": [
  {
   "cell_type": "code",
   "id": "initial_id",
   "metadata": {
    "collapsed": true,
    "ExecuteTime": {
     "end_time": "2024-12-11T05:30:42.522025Z",
     "start_time": "2024-12-11T05:30:42.452455Z"
    }
   },
   "source": [
    "import pandas as pd\n",
    "import numpy\n",
    "import math\n",
    "import os\n",
    "import datetime\n",
    "import math\n",
    "import seaborn as sns\n",
    "import matplotlib.pyplot as plt\n"
   ],
   "execution_count": 47,
   "outputs": []
  },
  {
   "metadata": {},
   "cell_type": "code",
   "execution_count": null,
   "source": "",
   "id": "e0663fed4bac9650",
   "outputs": []
  },
  {
   "metadata": {
    "ExecuteTime": {
     "end_time": "2024-12-11T05:30:42.543817Z",
     "start_time": "2024-12-11T05:30:42.522025Z"
    }
   },
   "cell_type": "code",
   "source": [
    "for dirname, _, filenames in os.walk('/LAB-5'):\n",
    "    for filename in filenames:\n",
    "        print(os.path.join(dirname, filename))\n"
   ],
   "id": "e13676cb02105f21",
   "execution_count": 48,
   "outputs": []
  },
  {
   "metadata": {
    "ExecuteTime": {
     "end_time": "2024-12-11T05:30:42.653861Z",
     "start_time": "2024-12-11T05:30:42.543817Z"
    }
   },
   "cell_type": "code",
   "source": "data = pd.read_csv('/LAB-5/Iris.csv')",
   "id": "dd03402d907c7581",
   "execution_count": 49,
   "outputs": []
  },
  {
   "metadata": {
    "ExecuteTime": {
     "end_time": "2024-12-11T05:30:42.710596Z",
     "start_time": "2024-12-11T05:30:42.653861Z"
    }
   },
   "cell_type": "code",
   "source": [
    "print(data.shape)\n",
    "data.head(10)\n"
   ],
   "id": "168d71b9cdc3858d",
   "execution_count": 50,
   "outputs": []
  },
  {
   "metadata": {},
   "cell_type": "markdown",
   "source": [
    "### TASK - 1\n",
    "___"
   ],
   "id": "9bbc0b4bb0163bf5"
  },
  {
   "metadata": {},
   "cell_type": "markdown",
   "source": "### Data Inspection And Handling Missing Value.",
   "id": "589d38784e5549bf"
  },
  {
   "metadata": {
    "ExecuteTime": {
     "end_time": "2024-12-11T05:30:42.744841Z",
     "start_time": "2024-12-11T05:30:42.710596Z"
    }
   },
   "cell_type": "code",
   "source": [
    "missing_values = data.isna().sum()\n",
    "print(missing_values)\n"
   ],
   "id": "77db0957ea01151e",
   "execution_count": 51,
   "outputs": []
  },
  {
   "metadata": {
    "ExecuteTime": {
     "end_time": "2024-12-11T05:30:42.783365Z",
     "start_time": "2024-12-11T05:30:42.744841Z"
    }
   },
   "cell_type": "code",
   "source": [
    "numeric_columns = ['SepalLengthCm', 'SepalWidthCm', 'PetalLengthCm', 'PetalWidthCm']\n",
    "for col in numeric_columns:\n",
    "    data[col] = data[col].fillna(data[col].mean())\n",
    "    \n",
    "data.head(5)"
   ],
   "id": "811c0c8363b3c4a7",
   "execution_count": 52,
   "outputs": []
  },
  {
   "metadata": {
    "ExecuteTime": {
     "end_time": "2024-12-11T05:30:42.789746Z",
     "start_time": "2024-12-11T05:30:42.783365Z"
    }
   },
   "cell_type": "code",
   "source": [
    "if data['Species'].isna().sum() > 0:\n",
    "    data['Species'] = data['Species'].fillna(data['Species'].mode())"
   ],
   "id": "3a23624df7cf9b40",
   "execution_count": 53,
   "outputs": []
  },
  {
   "metadata": {},
   "cell_type": "markdown",
   "source": [
    "### TASK - 2\n",
    "___"
   ],
   "id": "4dbbf09964d4a06a"
  },
  {
   "metadata": {},
   "cell_type": "markdown",
   "source": "### Data Cleaning and Transformation",
   "id": "2a003054c1b5e3b3"
  },
  {
   "metadata": {
    "ExecuteTime": {
     "end_time": "2024-12-11T05:30:42.844201Z",
     "start_time": "2024-12-11T05:30:42.790254Z"
    }
   },
   "cell_type": "code",
   "source": [
    "data.drop_duplicates(inplace=True)\n",
    "data['PetalAreaCm'] = data['PetalLengthCm'] * data['PetalWidthCm']\n",
    "data.head(5)\n"
   ],
   "id": "a6462a385ed88df3",
   "execution_count": 54,
   "outputs": []
  },
  {
   "metadata": {
    "ExecuteTime": {
     "end_time": "2024-12-11T05:30:42.858150Z",
     "start_time": "2024-12-11T05:30:42.844201Z"
    }
   },
   "cell_type": "code",
   "source": [
    "numeric_columns = ['SepalLengthCm', 'SepalWidthCm', 'PetalLengthCm', 'PetalWidthCm']\n",
    "for i in numeric_columns:\n",
    "    if data[i].isna().sum() > 0:\n",
    "        data.dropna(i)\n",
    "data.head(5)"
   ],
   "id": "19e827ebea2a56df",
   "execution_count": 55,
   "outputs": []
  },
  {
   "metadata": {},
   "cell_type": "markdown",
   "source": [
    "### TASK - 3\n",
    "___"
   ],
   "id": "e769281860813cea"
  },
  {
   "metadata": {},
   "cell_type": "markdown",
   "source": "### Data Aggregation",
   "id": "c122d5ce1bb073e8"
  },
  {
   "metadata": {
    "ExecuteTime": {
     "end_time": "2024-12-11T05:30:42.912875Z",
     "start_time": "2024-12-11T05:30:42.858150Z"
    }
   },
   "cell_type": "code",
   "source": [
    "data['species_numeric'] = data['Species'].astype('category').cat.codes\n",
    "aggregation = data.groupby('Species')[numeric_columns].mean()\n",
    "print(\"Mean of numeric columns grouped by species:\")\n",
    "print(aggregation)"
   ],
   "id": "d53979f56a6a7c5c",
   "execution_count": 56,
   "outputs": []
  },
  {
   "metadata": {},
   "cell_type": "markdown",
   "source": [
    "### TASK - 4\n",
    "___"
   ],
   "id": "54a86444235eac29"
  },
  {
   "metadata": {},
   "cell_type": "markdown",
   "source": "### Data Reshaping",
   "id": "ce58a348fca777c1"
  },
  {
   "metadata": {
    "ExecuteTime": {
     "end_time": "2024-12-11T05:30:43.303411Z",
     "start_time": "2024-12-11T05:30:42.912875Z"
    }
   },
   "cell_type": "code",
   "source": [
    "long_format = data.melt(\n",
    "    id_vars=['Species', 'species_numeric'],\n",
    "    value_vars=numeric_columns,\n",
    "    var_name='measurement_type',\n",
    "    value_name='measurement_value')\n",
    "print(\"Long format of the dataset:\")\n",
    "print(long_format.head())\n",
    "data.to_csv('cleaned_iris.csv', index=False)\n",
    "long_format.to_csv(r'C:\\Users\\PMLS\\Desktop\\SEM-5\\Into to DS\\Intro to DS\\LAB5', index=False)\n",
    "\n",
    "print(\"Data cleaning, transformation, and reshaping completed.\")\n"
   ],
   "id": "b07056f74b0fb918",
   "execution_count": 57,
   "outputs": []
  }
 ],
 "metadata": {
  "kernelspec": {
   "display_name": "Python 3",
   "language": "python",
   "name": "python3"
  },
  "language_info": {
   "codemirror_mode": {
    "name": "ipython",
    "version": 2
   },
   "file_extension": ".py",
   "mimetype": "text/x-python",
   "name": "python",
   "nbconvert_exporter": "python",
   "pygments_lexer": "ipython2",
   "version": "2.7.6"
  }
 },
 "nbformat": 4,
 "nbformat_minor": 5
}
