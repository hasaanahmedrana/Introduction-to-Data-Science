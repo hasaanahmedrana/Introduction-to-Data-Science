{
 "cells": [
  {
   "cell_type": "markdown",
   "id": "de74c18f-dbfa-490d-867c-3c497da550f7",
   "metadata": {},
   "source": [
    "<center><h1>Smart Data Aggregator</h1></center>"
   ]
  },
  {
   "cell_type": "markdown",
   "id": "25ec461a-4be9-4044-b619-50a6a7fb2d40",
   "metadata": {},
   "source": [
    "***\n"
   ]
  },
  {
   "cell_type": "markdown",
   "id": "f5bef36d-6a78-4bf6-bfb1-b3e0f9f45c16",
   "metadata": {
    "jp-MarkdownHeadingCollapsed": true
   },
   "source": [
    "<center><h2>PART:1 User Data Processing with lists.</h2></center>\n",
    "Provided with user information in the form of a list of tuples. Each tuple\n",
    "represents a user with the format: (user_id, user_name, age, country).\n",
    "\n",
    "---"
   ]
  },
  {
   "cell_type": "markdown",
   "id": "bbba6e3c-ac60-44c4-adba-fae5f7d9e480",
   "metadata": {
    "jp-MarkdownHeadingCollapsed": true
   },
   "source": [
    "\n",
    "#### Function to filter out users based upon their age (>=30) and countries they belong from.\n"
   ]
  },
  {
   "cell_type": "markdown",
   "id": "48986ab0-2056-455b-8bf7-59bd9dc5da4c",
   "metadata": {},
   "source": []
  },
  {
   "cell_type": "code",
   "execution_count": 1,
   "id": "299043f7-5e2d-46a6-893b-f5d8e36a9ec1",
   "metadata": {},
   "outputs": [],
   "source": [
    "def FilterUserByAgeAndCountries(users):\n",
    "    lst = []\n",
    "    for each in users:\n",
    "        if each[2] >= 30 and each[3] in ('Canada','USA'):\n",
    "            lst.append(each[1])\n",
    "    return lst"
   ]
  },
  {
   "cell_type": "markdown",
   "id": "79d9793a-96cd-408a-b9d0-eca8056081a5",
   "metadata": {
    "jp-MarkdownHeadingCollapsed": true
   },
   "source": [
    "#### Function to return top 10 most Aged Users from all."
   ]
  },
  {
   "cell_type": "code",
   "execution_count": 2,
   "id": "7b8e681d-a9b8-4943-93e1-495e4b3d3ffa",
   "metadata": {},
   "outputs": [],
   "source": [
    "def top10AgedUsers(users):\n",
    "    sorted_users = sorted(users, key=lambda x:x[2], reverse=True)\n",
    "    sorted_users = [each[1:3] for each in sorted_users]\n",
    "    return sorted_users[:10]\n",
    "    "
   ]
  },
  {
   "cell_type": "markdown",
   "id": "aeefe695-c369-4e80-9a5c-23be6e645622",
   "metadata": {
    "jp-MarkdownHeadingCollapsed": true
   },
   "source": [
    "#### Function which return all the names by which more than one user exists.\n"
   ]
  },
  {
   "cell_type": "code",
   "execution_count": 3,
   "id": "c0b2dd3b-9d04-459b-a5ac-5987d89ee34d",
   "metadata": {},
   "outputs": [],
   "source": [
    "from collections import defaultdict\n",
    "def DuplicateNamedUsers(users):\n",
    "    d = defaultdict(int)\n",
    "    duplicates = []\n",
    "    for each in users: \n",
    "        d[each[1]] += 1\n",
    "    for i,j in d.items():\n",
    "        if j > 1: duplicates += [i]\n",
    "    return duplicates\n",
    "\n"
   ]
  },
  {
   "cell_type": "markdown",
   "id": "5d35fb75-a47d-4496-b75b-15131d0f030c",
   "metadata": {
    "jp-MarkdownHeadingCollapsed": true
   },
   "source": [
    "### Testing Part 1 on sample data."
   ]
  },
  {
   "cell_type": "code",
   "execution_count": 4,
   "id": "3f5994d0-583d-4bf5-b1d8-1082314f4e29",
   "metadata": {},
   "outputs": [],
   "source": [
    "users = [\n",
    "    (1, \"Alice\", 25, \"USA\"),\n",
    "    (2, \"Bob\", 25, \"Canada\"),\n",
    "    (3, \"Charlie\", 40, \"USA\"),\n",
    "    (4, \"David\", 28, \"UK\"),\n",
    "    (5, \"Eve\", 32, \"Canada\"),\n",
    "    (6, \"Frank\", 29, \"USA\"),\n",
    "    (7, \"Grace\", 45, \"USA\"),\n",
    "    (8, \"Alice\", 33, \"Canada\"),\n",
    "    (9, \"Hank\", 55, \"USA\"),\n",
    "    (10, \"Ivan\", 30, \"Mexico\"),\n",
    "    (11, \"Charlie\", 34, \"India\")\n",
    "]\n",
    "\n"
   ]
  },
  {
   "cell_type": "code",
   "execution_count": 5,
   "id": "4180865e-e090-45f4-96a3-7cf2d3dca0a8",
   "metadata": {},
   "outputs": [
    {
     "data": {
      "text/plain": [
       "['Charlie', 'Eve', 'Grace', 'Alice', 'Hank']"
      ]
     },
     "execution_count": 5,
     "metadata": {},
     "output_type": "execute_result"
    }
   ],
   "source": [
    "FilterUserByAgeAndCountries(users)\n"
   ]
  },
  {
   "cell_type": "code",
   "execution_count": 6,
   "id": "fae459d7-8290-4105-82bf-02268be7a984",
   "metadata": {},
   "outputs": [
    {
     "data": {
      "text/plain": [
       "[('Hank', 55),\n",
       " ('Grace', 45),\n",
       " ('Charlie', 40),\n",
       " ('Charlie', 34),\n",
       " ('Alice', 33),\n",
       " ('Eve', 32),\n",
       " ('Ivan', 30),\n",
       " ('Frank', 29),\n",
       " ('David', 28),\n",
       " ('Alice', 25)]"
      ]
     },
     "execution_count": 6,
     "metadata": {},
     "output_type": "execute_result"
    }
   ],
   "source": [
    "top10AgedUsers(users)"
   ]
  },
  {
   "cell_type": "code",
   "execution_count": 7,
   "id": "cd3e2658-b2ba-4ed3-8fb1-f5e38d3a8351",
   "metadata": {},
   "outputs": [
    {
     "data": {
      "text/plain": [
       "['Alice', 'Charlie']"
      ]
     },
     "execution_count": 7,
     "metadata": {},
     "output_type": "execute_result"
    }
   ],
   "source": [
    "DuplicateNamedUsers(users)\n"
   ]
  },
  {
   "cell_type": "markdown",
   "id": "65c944a6-73d5-4913-8a02-5e8229b860e7",
   "metadata": {},
   "source": [
    "---"
   ]
  },
  {
   "cell_type": "markdown",
   "id": "359962ea-06dc-4b5f-950a-012d1abc5094",
   "metadata": {
    "jp-MarkdownHeadingCollapsed": true
   },
   "source": [
    "<center><h2>PART:2 Immutable Data Management with Tuples.</h2></center>\n",
    "This Part focuses on managing transaction data as immutable tuples, with each tuple containing a (transaction_id, user_id, amount, and timestamp). \n",
    "\n",
    "---"
   ]
  },
  {
   "cell_type": "markdown",
   "id": "c36cf7c9-e5d8-4480-abca-78b037c9620e",
   "metadata": {
    "jp-MarkdownHeadingCollapsed": true
   },
   "source": [
    "\n",
    "#### Function to return all the unique ID's involved in the transaction"
   ]
  },
  {
   "cell_type": "code",
   "execution_count": 8,
   "id": "57f1f474-3fb1-455c-a1db-4a53edda73a2",
   "metadata": {},
   "outputs": [],
   "source": [
    "def UniqueUserID(transactions):\n",
    "    ids = [each[1] for each in transactions]\n",
    "    return len(set(ids))\n"
   ]
  },
  {
   "cell_type": "markdown",
   "id": "765dd2d1-6489-4787-a5d6-6e3152314642",
   "metadata": {
    "jp-MarkdownHeadingCollapsed": true
   },
   "source": [
    "#### Function to return the transaction with the maximum amount.\n"
   ]
  },
  {
   "cell_type": "code",
   "execution_count": 9,
   "id": "c9e0f70d-0e82-413e-acb2-6692e4423432",
   "metadata": {},
   "outputs": [],
   "source": [
    "def MaxAmountTransaction(transactions):\n",
    "    return max(transactions, key=lambda x:x[2])\n",
    "    "
   ]
  },
  {
   "cell_type": "markdown",
   "id": "0126537f-45c2-49c8-9f13-01fb561517fd",
   "metadata": {
    "jp-MarkdownHeadingCollapsed": true
   },
   "source": [
    "#### Function to return seperate and transaction ID's\n",
    "Challenge: If the tuple size is not consistent , it may lead to index error.\n",
    "\n"
   ]
  },
  {
   "cell_type": "code",
   "execution_count": 10,
   "id": "17393584-f10a-4bdb-b67b-b80c8ab47104",
   "metadata": {},
   "outputs": [],
   "source": [
    "def SeparateIds(transactions):\n",
    "    transaction_ids = [transaction[0] for transaction in transactions]\n",
    "    user_ids = [transaction[1] for transaction in transactions]\n",
    "    return transaction_ids, user_ids\n",
    "    "
   ]
  },
  {
   "cell_type": "markdown",
   "id": "fa1dd0f6-e49f-4885-976a-4d67fcc1d32e",
   "metadata": {
    "jp-MarkdownHeadingCollapsed": true
   },
   "source": [
    "### Testing Part 2 on sample data."
   ]
  },
  {
   "cell_type": "code",
   "execution_count": 11,
   "id": "2d11f870-75a9-4962-a945-f5940f5a01b5",
   "metadata": {},
   "outputs": [],
   "source": [
    "transactions = (\n",
    "    (1001, 1, 250.0, \"2024-09-01\"),\n",
    "    (1002, 2, 180.0, \"2024-09-02\"),\n",
    "    (1003, 1, 300.0, \"2024-09-03\"),\n",
    "    (1004, 3, 400.0, \"2024-09-04\"),\n",
    "    (1005, 2, 500.0, \"2024-09-05\")\n",
    ")"
   ]
  },
  {
   "cell_type": "markdown",
   "id": "4a920acf-6044-4f65-a637-951bb8c6c40d",
   "metadata": {},
   "source": [
    "UniqueUserID(transactions)"
   ]
  },
  {
   "cell_type": "code",
   "execution_count": 12,
   "id": "d397895e-f110-46ca-8ab2-25bd646ecd7f",
   "metadata": {},
   "outputs": [
    {
     "data": {
      "text/plain": [
       "(1005, 2, 500.0, '2024-09-05')"
      ]
     },
     "execution_count": 12,
     "metadata": {},
     "output_type": "execute_result"
    }
   ],
   "source": [
    "MaxAmountTransaction(transactions)"
   ]
  },
  {
   "cell_type": "code",
   "execution_count": 13,
   "id": "94658019-4eef-45f8-b09c-0156299cc888",
   "metadata": {},
   "outputs": [
    {
     "data": {
      "text/plain": [
       "([1001, 1002, 1003, 1004, 1005], [1, 2, 1, 3, 2])"
      ]
     },
     "execution_count": 13,
     "metadata": {},
     "output_type": "execute_result"
    }
   ],
   "source": [
    "SeparateIds(transactions)"
   ]
  },
  {
   "cell_type": "markdown",
   "id": "13bf395c-4a8e-423a-9c7e-a0e8a637c9b2",
   "metadata": {},
   "source": [
    "---"
   ]
  },
  {
   "cell_type": "markdown",
   "id": "2f1003b0-af40-4676-b56f-1f9fdcd31cbe",
   "metadata": {
    "jp-MarkdownHeadingCollapsed": true
   },
   "source": [
    "<center> <h2>PART:3 Unique Data Handling with Sets</h2> </center>\n",
    "The Smart Data Aggregator also manages sets of unique user IDs who visited certain\n",
    "pages. You have three sets, each representing user IDs of visitors to pages A, B, and C.\n",
    "\n",
    "---"
   ]
  },
  {
   "cell_type": "markdown",
   "id": "21f2f666-030b-4437-a306-c9344e1b74ff",
   "metadata": {
    "jp-MarkdownHeadingCollapsed": true
   },
   "source": [
    "#### Function to find users who visited both Page A and Page B"
   ]
  },
  {
   "cell_type": "code",
   "execution_count": 14,
   "id": "ece6eea7-1772-4288-9c1a-8cbe1bc6d22c",
   "metadata": {},
   "outputs": [],
   "source": [
    "def VisitedBoth(page_a, page_b):\n",
    "    return page_a & page_b"
   ]
  },
  {
   "cell_type": "markdown",
   "id": "d6c18a1f-a831-4d48-b10a-e4d82dc00cfa",
   "metadata": {
    "jp-MarkdownHeadingCollapsed": true
   },
   "source": [
    "#### Function to find users who visited either Page A or Page B, but not both"
   ]
  },
  {
   "cell_type": "code",
   "execution_count": 15,
   "id": "99c439cb-8fd3-4700-abc9-fa011a005826",
   "metadata": {},
   "outputs": [],
   "source": [
    "def VisitedOne(page_a, page_c):\n",
    "    return page_a ^ page_c"
   ]
  },
  {
   "cell_type": "markdown",
   "id": "1ffdf967-9aae-4392-b2ba-02ebbeb360c5",
   "metadata": {
    "jp-MarkdownHeadingCollapsed": true
   },
   "source": [
    "#### Function to Updates the set for Page A with new user IDs.\n"
   ]
  },
  {
   "cell_type": "code",
   "execution_count": 16,
   "id": "ae4bd07b-ac3d-4e75-979d-909cfe372828",
   "metadata": {},
   "outputs": [],
   "source": [
    "def UpdatePageA(page_a, new_user_ids):\n",
    "    page_a.update(new_user_ids)"
   ]
  },
  {
   "cell_type": "markdown",
   "id": "f5bc8699-36e1-4e39-bc08-16e45eb99bca",
   "metadata": {
    "jp-MarkdownHeadingCollapsed": true
   },
   "source": [
    "#### Function to Removes a list of user IDs from the set for Page B.\n"
   ]
  },
  {
   "cell_type": "code",
   "execution_count": 17,
   "id": "0a0bc8d6-6b32-42f7-9d90-075d7602e9ba",
   "metadata": {},
   "outputs": [],
   "source": [
    "def RemoveFromPage(page_b, user_ids_to_remove):\n",
    "    page_b.difference_update(user_ids_to_remove) \n"
   ]
  },
  {
   "cell_type": "markdown",
   "id": "514ef26c-d938-4cd7-a3ec-1b44ddafe3b9",
   "metadata": {
    "jp-MarkdownHeadingCollapsed": true
   },
   "source": [
    "### Testing Part 3 on sample data.\n"
   ]
  },
  {
   "cell_type": "code",
   "execution_count": 18,
   "id": "e971c40d-4bd6-4698-a356-aa4fd47704e0",
   "metadata": {},
   "outputs": [],
   "source": [
    "a = {1, 2, 3,  4, 5, 6, 7}\n",
    "b = {4, 5, 6, 7, 8}\n",
    "c  = {5,6, 7, 8, 9, 10, 11}\n"
   ]
  },
  {
   "cell_type": "code",
   "execution_count": 19,
   "id": "0bcd6504-7f80-483b-9520-5bd38b1c64d6",
   "metadata": {},
   "outputs": [
    {
     "data": {
      "text/plain": [
       "{4, 5, 6, 7}"
      ]
     },
     "execution_count": 19,
     "metadata": {},
     "output_type": "execute_result"
    }
   ],
   "source": [
    "VisitedBoth(a, b)\n"
   ]
  },
  {
   "cell_type": "code",
   "execution_count": 20,
   "id": "aea1d4cd-68d6-4bcc-9351-b895aa8dec2b",
   "metadata": {},
   "outputs": [
    {
     "data": {
      "text/plain": [
       "{1, 2, 3, 4, 8, 9, 10, 11}"
      ]
     },
     "execution_count": 20,
     "metadata": {},
     "output_type": "execute_result"
    }
   ],
   "source": [
    "VisitedOne(a, c)"
   ]
  },
  {
   "cell_type": "code",
   "execution_count": 21,
   "id": "f8a8a4b1-ddfa-4ff6-aa33-e9d61e16ffb9",
   "metadata": {},
   "outputs": [
    {
     "data": {
      "text/plain": [
       "{1, 2, 3, 4, 5, 6, 7, 100, 102}"
      ]
     },
     "execution_count": 21,
     "metadata": {},
     "output_type": "execute_result"
    }
   ],
   "source": [
    "UpdatePageA(a,{100,102})\n",
    "a"
   ]
  },
  {
   "cell_type": "code",
   "execution_count": 22,
   "id": "37f46f44-70fa-46c5-be1a-23a76518e8cc",
   "metadata": {},
   "outputs": [
    {
     "data": {
      "text/plain": [
       "{1, 2, 3, 4, 5, 6, 7}"
      ]
     },
     "execution_count": 22,
     "metadata": {},
     "output_type": "execute_result"
    }
   ],
   "source": [
    "RemoveFromPage(a, {100,102})\n",
    "a"
   ]
  },
  {
   "cell_type": "markdown",
   "id": "ad3227ab-ea43-4779-a02f-d4c2bc418693",
   "metadata": {},
   "source": [
    "---"
   ]
  },
  {
   "cell_type": "markdown",
   "id": "5701e816-d824-47f4-88b4-c6730ea0cfdc",
   "metadata": {
    "jp-MarkdownHeadingCollapsed": true
   },
   "source": [
    "<center> <h2>PART:4   Data Aggregation with Dictionaries</h2> </center>\n",
    "The aggregator collects user feedback stored in a dictionary. The dictionary uses the\n",
    "user_id as keys, and the values are nested dictionaries with feedback details.\n",
    "\n",
    "---"
   ]
  },
  {
   "cell_type": "markdown",
   "id": "2dbe4a7e-63d7-4b66-b6f3-24adc4caf6b4",
   "metadata": {
    "jp-MarkdownHeadingCollapsed": true
   },
   "source": [
    "#### Function to filter users who rated 4 or higher"
   ]
  },
  {
   "cell_type": "code",
   "execution_count": 32,
   "id": "77e28af3-7990-4fe6-ac85-700f696a94d2",
   "metadata": {},
   "outputs": [],
   "source": [
    "def Rated4orAbove(feedback):\n",
    "    sol = {}\n",
    "    for i,j in feedback.items():\n",
    "        if j.get('rating') >= 4:\n",
    "            sol[i] = j['rating']\n",
    "    return sol"
   ]
  },
  {
   "cell_type": "markdown",
   "id": "ec42a852-cb15-4d73-985c-8778d1f44121",
   "metadata": {
    "jp-MarkdownHeadingCollapsed": true
   },
   "source": [
    "#### Function to sort feedback by rating and return the top 5 users"
   ]
  },
  {
   "cell_type": "code",
   "execution_count": 33,
   "id": "a45431dd-66b4-448e-ab0f-d9a121e1d4bd",
   "metadata": {},
   "outputs": [],
   "source": [
    "def Top5RatedUsers(feedback):\n",
    "    sorted_feedback = sorted(feedback.items(), key=lambda x:x[1]['rating'])\n",
    "    sorted_feedback = sorted_feedback[::-1]\n",
    "    return sorted_feedback[:5]"
   ]
  },
  {
   "cell_type": "markdown",
   "id": "41e414db-5555-4246-9915-d1594ab3885a",
   "metadata": {
    "jp-MarkdownHeadingCollapsed": true
   },
   "source": [
    "#### Function to combine feedback from multiple dictionaries"
   ]
  },
  {
   "cell_type": "code",
   "execution_count": 34,
   "id": "33e278fd-cefb-43b7-9eda-e28155aa1238",
   "metadata": {},
   "outputs": [],
   "source": [
    "def CombineFeedback(*feedback_dicts):\n",
    "    combined= {}\n",
    "\n",
    "    for each in feedback_dicts:\n",
    "        for ids, details in each.items():\n",
    "            if ids in combined:\n",
    "                combined[ids]['rating'] = max(combined[ids]['rating'], details['rating'])\n",
    "                combined[ids]['comments'] += \" ,\" + details['comments']\n",
    "            else:\n",
    "                combined[ids] = details\n",
    "\n",
    "    return combined\n",
    "    "
   ]
  },
  {
   "cell_type": "markdown",
   "id": "8d551a45-ded5-4e1c-923f-7e9d7c72d960",
   "metadata": {},
   "source": [
    "#### Dictionary comprehension to create a dictionary of user_id and rating for users with rating > 3"
   ]
  },
  {
   "cell_type": "code",
   "execution_count": 35,
   "id": "7b77ce8a-f025-4322-a3e0-bc22bc666a71",
   "metadata": {},
   "outputs": [],
   "source": [
    "def RatingAbove3(feedback):\n",
    "    return {user_id: details['rating'] for user_id, details in feedback.items() if details['rating'] > 3}"
   ]
  },
  {
   "cell_type": "markdown",
   "id": "418486b1-268d-4b77-b437-5f217f3a133e",
   "metadata": {
    "jp-MarkdownHeadingCollapsed": true
   },
   "source": [
    "### Testing for Part 4."
   ]
  },
  {
   "cell_type": "code",
   "execution_count": 36,
   "id": "376b1d1a-831a-433e-bdab-318d800ed329",
   "metadata": {},
   "outputs": [],
   "source": [
    "feedback = {\n",
    "    1: {'rating': 5, 'comments': 'Excellent'},\n",
    "    2: {'rating': 3, 'comments': 'Good'},\n",
    "    3: {'rating': 4, 'comments': 'Very Good'},\n",
    "    4: {'rating': 2, 'comments': 'Average'},\n",
    "    5: {'rating': 5, 'comments': 'Outstanding'}\n",
    "}\n",
    "\n",
    "feedback2 = {\n",
    "    7: {'rating': 5, 'comments': 'Excellent'},\n",
    "    6: {'rating': 3, 'comments': 'Good'},\n",
    "    5: {'rating': 4, 'comments': 'Very Good'},\n",
    "\n",
    "}"
   ]
  },
  {
   "cell_type": "code",
   "execution_count": 37,
   "id": "868ebdcf-8ad9-487e-b6ad-66e67f6bdaf2",
   "metadata": {},
   "outputs": [
    {
     "data": {
      "text/plain": [
       "{1: 5, 3: 4, 5: 5}"
      ]
     },
     "execution_count": 37,
     "metadata": {},
     "output_type": "execute_result"
    }
   ],
   "source": [
    "Rated4orAbove(feedback)"
   ]
  },
  {
   "cell_type": "code",
   "execution_count": 38,
   "id": "b5f59ba2-0f41-4f18-98ec-71a428e02bfe",
   "metadata": {},
   "outputs": [
    {
     "data": {
      "text/plain": [
       "[(5, {'rating': 5, 'comments': 'Outstanding'}),\n",
       " (1, {'rating': 5, 'comments': 'Excellent'}),\n",
       " (3, {'rating': 4, 'comments': 'Very Good'}),\n",
       " (2, {'rating': 3, 'comments': 'Good'}),\n",
       " (4, {'rating': 2, 'comments': 'Average'})]"
      ]
     },
     "execution_count": 38,
     "metadata": {},
     "output_type": "execute_result"
    }
   ],
   "source": [
    "Top5RatedUsers(feedback)"
   ]
  },
  {
   "cell_type": "code",
   "execution_count": 39,
   "id": "d48c0981-97c1-4cf3-84ad-e844ce32925e",
   "metadata": {},
   "outputs": [
    {
     "data": {
      "text/plain": [
       "{1: {'rating': 5, 'comments': 'Excellent'},\n",
       " 2: {'rating': 3, 'comments': 'Good'},\n",
       " 3: {'rating': 4, 'comments': 'Very Good'},\n",
       " 4: {'rating': 2, 'comments': 'Average'},\n",
       " 5: {'rating': 5, 'comments': 'Outstanding ,Very Good'},\n",
       " 7: {'rating': 5, 'comments': 'Excellent'},\n",
       " 6: {'rating': 3, 'comments': 'Good'}}"
      ]
     },
     "execution_count": 39,
     "metadata": {},
     "output_type": "execute_result"
    }
   ],
   "source": [
    "CombineFeedback(feedback,feedback2)"
   ]
  },
  {
   "cell_type": "code",
   "execution_count": 40,
   "id": "d8f33b9a-eeb3-44f4-bdae-3372a1e22dd1",
   "metadata": {},
   "outputs": [
    {
     "data": {
      "text/plain": [
       "{1: 5, 3: 4, 5: 5}"
      ]
     },
     "execution_count": 40,
     "metadata": {},
     "output_type": "execute_result"
    }
   ],
   "source": [
    "RatingAbove3(feedback)"
   ]
  },
  {
   "cell_type": "markdown",
   "id": "a60807d2-2dcf-4c15-a6cf-ae2ca40ac9fa",
   "metadata": {},
   "source": [
    "----"
   ]
  },
  {
   "cell_type": "code",
   "execution_count": null,
   "id": "a9064f60-ad1c-4d4b-8635-eea5bcda4dc8",
   "metadata": {},
   "outputs": [],
   "source": []
  },
  {
   "cell_type": "code",
   "execution_count": null,
   "id": "3c234702-77ca-47f3-a536-aefee70a5520",
   "metadata": {},
   "outputs": [],
   "source": []
  }
 ],
 "metadata": {
  "kernelspec": {
   "display_name": "Python 3 (ipykernel)",
   "language": "python",
   "name": "python3"
  },
  "language_info": {
   "codemirror_mode": {
    "name": "ipython",
    "version": 3
   },
   "file_extension": ".py",
   "mimetype": "text/x-python",
   "name": "python",
   "nbconvert_exporter": "python",
   "pygments_lexer": "ipython3",
   "version": "3.12.7"
  }
 },
 "nbformat": 4,
 "nbformat_minor": 5
}
