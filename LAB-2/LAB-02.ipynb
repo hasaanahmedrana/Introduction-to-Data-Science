{
 "cells": [
  {
   "cell_type": "code",
   "execution_count": 1,
   "id": "c470e4c2-7ac1-4984-b2ce-87ad81ea9f9a",
   "metadata": {},
   "outputs": [],
   "source": [
    "import numpy as np\n",
    "import pandas as pd\n"
   ]
  },
  {
   "cell_type": "markdown",
   "id": "5419ff79-6a04-46e5-afde-ef27b42f5cc4",
   "metadata": {},
   "source": [
    "---\n",
    "### TASK-1"
   ]
  },
  {
   "cell_type": "code",
   "execution_count": 13,
   "id": "155c000a-e88d-4ee9-999b-6cfa59a3069f",
   "metadata": {},
   "outputs": [
    {
     "data": {
      "text/plain": [
       "array([[180,  75, 150],\n",
       "       [175,  70, 120],\n",
       "       [190,  65, 200],\n",
       "       [200,  72, 180],\n",
       "       [180,  80, 180]])"
      ]
     },
     "execution_count": 13,
     "metadata": {},
     "output_type": "execute_result"
    }
   ],
   "source": [
    "players = np.array([\n",
    "    [180, 75, 150],   \n",
    "    [175, 70, 120],   \n",
    "    [190, 65, 200],   \n",
    "    [200, 72, 180],\n",
    "    [180, 80, 180]\n",
    "])\n",
    "\n",
    "players"
   ]
  },
  {
   "cell_type": "code",
   "execution_count": 14,
   "id": "03c7078e-ec25-47e6-addc-4af7783c7b1e",
   "metadata": {},
   "outputs": [
    {
     "data": {
      "text/plain": [
       "array([[180,  75, 150],\n",
       "       [175,  70, 120],\n",
       "       [190,  80, 200],\n",
       "       [200,  72, 180],\n",
       "       [180,  80, 180]])"
      ]
     },
     "execution_count": 14,
     "metadata": {},
     "output_type": "execute_result"
    }
   ],
   "source": [
    "max_points_index = np.argmax(players[:, 2])  \n",
    "players[max_points_index, 1] = 80  \n",
    "players"
   ]
  },
  {
   "cell_type": "code",
   "execution_count": 15,
   "id": "626c4d56-6dc0-4a01-a954-5bae64447516",
   "metadata": {},
   "outputs": [
    {
     "data": {
      "text/plain": [
       "array([[180,  75, 150],\n",
       "       [175,  70, 120],\n",
       "       [190,  80, 200],\n",
       "       [200,  72, 180],\n",
       "       [180,  80, 180],\n",
       "       [185,  78, 130]])"
      ]
     },
     "execution_count": 15,
     "metadata": {},
     "output_type": "execute_result"
    }
   ],
   "source": [
    "new_player = np.array([[185, 78, 130]]) \n",
    "players = np.vstack([players, new_player])\n",
    "players\n"
   ]
  },
  {
   "cell_type": "code",
   "execution_count": 16,
   "id": "758144b3-eb2b-4cdc-a3a9-17f04e4e2328",
   "metadata": {},
   "outputs": [
    {
     "name": "stdout",
     "output_type": "stream",
     "text": [
      "(6, 3)\n",
      "(3,)\n"
     ]
    }
   ],
   "source": [
    "new= np.array([180, 54, 100])\n",
    "print(players.shape)\n",
    "print(new.shape)\n",
    "# players = np.insert(players, 3, new, axis=1)\n",
    "\n",
    "new_statistic = np.array([178, 65, 18])\n",
    "index = 2\n",
    "players = np.insert(players, index, new_statistic, axis=0)"
   ]
  },
  {
   "cell_type": "code",
   "execution_count": 17,
   "id": "c4952cac-6caf-470e-b4ae-58b5195a6367",
   "metadata": {},
   "outputs": [
    {
     "data": {
      "text/plain": [
       "array([[180,  75, 150],\n",
       "       [175,  70, 120],\n",
       "       [190,  80, 200],\n",
       "       [200,  72, 180],\n",
       "       [180,  80, 180],\n",
       "       [185,  78, 130]])"
      ]
     },
     "execution_count": 17,
     "metadata": {},
     "output_type": "execute_result"
    }
   ],
   "source": [
    "min_p_idx = np.argmin(players[:, 2]) \n",
    "players = np.delete(players, min_p_idx, axis=0)\n",
    "players"
   ]
  },
  {
   "cell_type": "markdown",
   "id": "5b4bad26-5382-4d79-a509-795d67a75906",
   "metadata": {},
   "source": [
    "---\n",
    "### TASK-2"
   ]
  },
  {
   "cell_type": "code",
   "execution_count": 18,
   "id": "aa888aae-8ed5-4715-a7d6-8e2ab2967459",
   "metadata": {},
   "outputs": [],
   "source": [
    "purchase_amounts = np.array([100, 200, 50, 75, 150])\n",
    "item_counts = np.array([2, 4, 1, 3, 2])"
   ]
  },
  {
   "cell_type": "code",
   "execution_count": 19,
   "id": "5ded4367-68e5-49ff-9dfc-649cb2574269",
   "metadata": {},
   "outputs": [
    {
     "data": {
      "text/plain": [
       "(array([100, 200,  50,  75, 150]), array([2, 4, 1, 3, 2]))"
      ]
     },
     "execution_count": 19,
     "metadata": {},
     "output_type": "execute_result"
    }
   ],
   "source": [
    "shallow_copy_amounts = purchase_amounts.copy()  \n",
    "deep_copy_counts = item_counts.view() \n",
    "shallow_copy_amounts, deep_copy_counts"
   ]
  },
  {
   "cell_type": "code",
   "execution_count": 20,
   "id": "0b4684ff-a305-4feb-9411-dccafd1bd295",
   "metadata": {},
   "outputs": [
    {
     "data": {
      "text/plain": [
       "array([100, 200,  50,  75, 150,   2,   4,   1,   3,   2])"
      ]
     },
     "execution_count": 20,
     "metadata": {},
     "output_type": "execute_result"
    }
   ],
   "source": [
    "concatenated_array = np.concatenate((purchase_amounts, item_counts))\n",
    "concatenated_array"
   ]
  },
  {
   "cell_type": "code",
   "execution_count": 21,
   "id": "f4ed04d6-8f4a-4dd0-8957-8af3bec7961c",
   "metadata": {},
   "outputs": [
    {
     "data": {
      "text/plain": [
       "[array([100, 200,  50,  75, 150]), array([2, 4, 1, 3, 2])]"
      ]
     },
     "execution_count": 21,
     "metadata": {},
     "output_type": "execute_result"
    }
   ],
   "source": [
    "split_array = np.split(concatenated_array, [len(purchase_amounts)])\n",
    "split_array"
   ]
  },
  {
   "cell_type": "code",
   "execution_count": 22,
   "id": "e8cdfc12-5e85-42ec-94ee-879078c98ea3",
   "metadata": {},
   "outputs": [
    {
     "data": {
      "text/plain": [
       "[array([100, 200,  50,  75, 150]), array([2, 4, 1, 3, 2])]"
      ]
     },
     "execution_count": 22,
     "metadata": {},
     "output_type": "execute_result"
    }
   ],
   "source": [
    "split_array"
   ]
  },
  {
   "cell_type": "code",
   "execution_count": 23,
   "id": "97105564-f329-4b96-a783-4dc74d79c1c2",
   "metadata": {},
   "outputs": [
    {
     "name": "stdout",
     "output_type": "stream",
     "text": [
      "\n",
      "Modified Original Purchase Amounts:\n",
      "[500 200  50  75 150]\n",
      "Modified Original Item Counts:\n",
      "[ 2 10  1  3  2]\n",
      "\n",
      "Shallow Copy of Purchase Amounts after Modification:\n",
      "[100 200  50  75 150]\n",
      "Deep Copy of Item Counts after Modification:\n",
      "[2 4 1 3 2]\n"
     ]
    }
   ],
   "source": [
    "purchase_amounts[0] = 500\n",
    "item_counts[1] = 10\n",
    "\n",
    "print(\"\\nModified Original Purchase Amounts:\")\n",
    "print(purchase_amounts)\n",
    "print(\"Modified Original Item Counts:\")\n",
    "print(item_counts)\n",
    "\n",
    "print(\"\\nShallow Copy of Purchase Amounts after Modification:\")\n",
    "print(shallow_copy_amounts)\n",
    "print(\"Deep Copy of Item Counts after Modification:\")\n",
    "print(deep_copy_counts)"
   ]
  },
  {
   "cell_type": "markdown",
   "id": "3c4f245f-10c2-41df-a5c0-c9532c235219",
   "metadata": {},
   "source": [
    "---"
   ]
  },
  {
   "cell_type": "code",
   "execution_count": null,
   "id": "41f7ca32-54a9-4733-8de2-4ee41874ab8c",
   "metadata": {},
   "outputs": [],
   "source": []
  }
 ],
 "metadata": {
  "kernelspec": {
   "display_name": "Python 3 (ipykernel)",
   "language": "python",
   "name": "python3"
  },
  "language_info": {
   "codemirror_mode": {
    "name": "ipython",
    "version": 3
   },
   "file_extension": ".py",
   "mimetype": "text/x-python",
   "name": "python",
   "nbconvert_exporter": "python",
   "pygments_lexer": "ipython3",
   "version": "3.12.7"
  }
 },
 "nbformat": 4,
 "nbformat_minor": 5
}
