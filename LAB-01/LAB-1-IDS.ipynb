{
 "cells": [
  {
   "cell_type": "markdown",
   "id": "f8b07c4203bd2cb8",
   "metadata": {},
   "source": [
    "<center> <h1> LAB -1 (Numpy) </h1> </center>\n"
   ]
  },
  {
   "cell_type": "markdown",
   "id": "b11e370c-e35c-47fe-a197-cc33c1444dec",
   "metadata": {
    "jp-MarkdownHeadingCollapsed": true
   },
   "source": [
    "---\n",
    "## TASK : 1"
   ]
  },
  {
   "cell_type": "code",
   "execution_count": 1,
   "id": "67242a53a96e9947",
   "metadata": {
    "ExecuteTime": {
     "end_time": "2024-10-30T05:27:09.149809Z",
     "start_time": "2024-10-30T05:27:09.046654Z"
    }
   },
   "outputs": [
    {
     "data": {
      "text/plain": [
       "array([[ 1,  2,  3,  4,  5],\n",
       "       [ 6,  7,  8,  9, 10],\n",
       "       [11, 12, 13, 14, 15],\n",
       "       [16, 17, 18, 19, 20]])"
      ]
     },
     "execution_count": 1,
     "metadata": {},
     "output_type": "execute_result"
    }
   ],
   "source": [
    "import numpy as np\n",
    "arr = [i for i in range(1,21)]\n",
    "arr = np.array(arr)\n",
    "arr = arr.reshape(4,5)\n",
    "arr"
   ]
  },
  {
   "cell_type": "code",
   "execution_count": 2,
   "id": "a470f0087c6520cf",
   "metadata": {
    "ExecuteTime": {
     "end_time": "2024-10-30T05:27:12.143055Z",
     "start_time": "2024-10-30T05:27:12.129232Z"
    }
   },
   "outputs": [
    {
     "data": {
      "text/plain": [
       "array([[ 1,  2,  3,  4,  0],\n",
       "       [ 6,  7,  8,  9,  0],\n",
       "       [11, 12, 13, 14,  0],\n",
       "       [16, 17, 18, 19,  0]])"
      ]
     },
     "execution_count": 2,
     "metadata": {},
     "output_type": "execute_result"
    }
   ],
   "source": [
    "arr[:,4] = 0\n",
    "arr"
   ]
  },
  {
   "cell_type": "code",
   "execution_count": 3,
   "id": "d1963be99b8edc58",
   "metadata": {},
   "outputs": [
    {
     "data": {
      "text/plain": [
       "array([ 1,  2,  3,  4,  0,  6,  7,  8,  9,  0, 11, 12, 13, 14,  0, 16, 17,\n",
       "       18, 19,  0])"
      ]
     },
     "execution_count": 3,
     "metadata": {},
     "output_type": "execute_result"
    }
   ],
   "source": [
    "arr.reshape(-1)"
   ]
  },
  {
   "cell_type": "markdown",
   "id": "4c1eea88-9fdd-4639-bd6f-995eb3642f35",
   "metadata": {},
   "source": [
    "---"
   ]
  },
  {
   "cell_type": "markdown",
   "id": "2ca7b827448806de",
   "metadata": {
    "jp-MarkdownHeadingCollapsed": true
   },
   "source": [
    "## TASK : 2"
   ]
  },
  {
   "cell_type": "code",
   "execution_count": 4,
   "id": "f015967fc836e662",
   "metadata": {},
   "outputs": [
    {
     "name": "stdout",
     "output_type": "stream",
     "text": [
      "[[40 24 35 25 12]\n",
      " [10 41 15 25 16]\n",
      " [29 16 25 17 26]\n",
      " [33 36 19 35 48]\n",
      " [36 41 37 46 37]]\n",
      "--------------------\n",
      "Row 1 Sum: 136\n",
      "Row 1 Mean: 27.2\n",
      "Row 1 Min: 12\n",
      "Row 1 Max: 40\n",
      "Column 1 Sum: 148\n",
      "Column 1 Mean: 29.6\n",
      "Column 1 Min: 10\n",
      "Column 1 Max: 40\n",
      "Row 2 Sum: 107\n",
      "Row 2 Mean: 21.4\n",
      "Row 2 Min: 10\n",
      "Row 2 Max: 41\n",
      "Column 2 Sum: 158\n",
      "Column 2 Mean: 31.6\n",
      "Column 2 Min: 16\n",
      "Column 2 Max: 41\n",
      "Row 3 Sum: 113\n",
      "Row 3 Mean: 22.6\n",
      "Row 3 Min: 16\n",
      "Row 3 Max: 29\n",
      "Column 3 Sum: 131\n",
      "Column 3 Mean: 26.2\n",
      "Column 3 Min: 15\n",
      "Column 3 Max: 37\n",
      "Row 4 Sum: 171\n",
      "Row 4 Mean: 34.2\n",
      "Row 4 Min: 19\n",
      "Row 4 Max: 48\n",
      "Column 4 Sum: 148\n",
      "Column 4 Mean: 29.6\n",
      "Column 4 Min: 17\n",
      "Column 4 Max: 46\n",
      "Row 5 Sum: 197\n",
      "Row 5 Mean: 39.4\n",
      "Row 5 Min: 36\n",
      "Row 5 Max: 46\n",
      "Column 5 Sum: 139\n",
      "Column 5 Mean: 27.8\n",
      "Column 5 Min: 12\n",
      "Column 5 Max: 48\n"
     ]
    }
   ],
   "source": [
    "arr2 = np.random.randint(10,50,25)\n",
    "arr2 = arr2.reshape(5,5)\n",
    "print(arr2)\n",
    "print('-' * 20)\n",
    "for i in range(5):\n",
    "    print(f'Row {i+1} Sum:' , np.sum(arr2[i,:]))\n",
    "    print(f'Row {i+1} Mean:' , np.mean(arr2[i,:]))\n",
    "    print(f'Row {i+1} Min:' , np.min(arr2[i,:]))\n",
    "    print(f'Row {i+1} Max:' , np.max(arr2[i,:]))\n",
    "    print(f'Column {i+1} Sum:' , np.sum(arr2[:,i]))\n",
    "    print(f'Column {i+1} Mean:' , np.mean(arr2[:,i]))\n",
    "    print(f'Column {i+1} Min:' , np.min(arr2[:,i]))\n",
    "    print(f'Column {i+1} Max:' , np.max(arr2[:,i]))\n",
    "    \n"
   ]
  },
  {
   "cell_type": "markdown",
   "id": "b94941ef-3109-4bc4-85b4-b1f4381bf5f1",
   "metadata": {
    "jp-MarkdownHeadingCollapsed": true
   },
   "source": [
    "---\n",
    "## TASK : 3"
   ]
  },
  {
   "cell_type": "code",
   "execution_count": 5,
   "id": "4d25b4cd9b7a3e4b",
   "metadata": {
    "ExecuteTime": {
     "end_time": "2024-10-30T05:23:36.497547Z",
     "start_time": "2024-10-30T05:23:36.478548Z"
    }
   },
   "outputs": [
    {
     "data": {
      "text/plain": [
       "array([[5, 0, 0, 0],\n",
       "       [0, 5, 0, 0],\n",
       "       [0, 0, 5, 0],\n",
       "       [0, 0, 0, 5]])"
      ]
     },
     "execution_count": 5,
     "metadata": {},
     "output_type": "execute_result"
    }
   ],
   "source": [
    "arr3 = np.identity(4,dtype=int) * 5\n",
    "arr3"
   ]
  },
  {
   "cell_type": "code",
   "execution_count": 6,
   "id": "5de69dd5900fe4db",
   "metadata": {
    "ExecuteTime": {
     "end_time": "2024-10-30T05:23:36.517750Z",
     "start_time": "2024-10-30T05:23:36.497547Z"
    }
   },
   "outputs": [
    {
     "data": {
      "text/plain": [
       "array([[5, 0, 0, 0],\n",
       "       [0, 5, 0, 0],\n",
       "       [0, 0, 5, 0],\n",
       "       [1, 1, 1, 1]])"
      ]
     },
     "execution_count": 6,
     "metadata": {},
     "output_type": "execute_result"
    }
   ],
   "source": [
    "arr3[3] = np.ones(4,dtype=int)\n",
    "arr3"
   ]
  },
  {
   "cell_type": "markdown",
   "id": "02831e04-30fc-4d65-a467-6a8b66f7281c",
   "metadata": {
    "jp-MarkdownHeadingCollapsed": true
   },
   "source": [
    "---\n",
    "## TASK : 4"
   ]
  },
  {
   "cell_type": "code",
   "execution_count": 9,
   "id": "4b911ec2a00ab4a",
   "metadata": {
    "ExecuteTime": {
     "end_time": "2024-10-30T05:23:36.535256Z",
     "start_time": "2024-10-30T05:23:36.517750Z"
    }
   },
   "outputs": [
    {
     "name": "stdout",
     "output_type": "stream",
     "text": [
      "Array: [ 4  3 15  1  6  8 13  1 19  2  8 20 20  2 16]\n",
      "Unique Element Count: 11\n",
      "Indices of elements greater than 10 [2, 6, 8, 11, 12, 14]\n"
     ]
    }
   ],
   "source": [
    "arr4 = np.random.randint(0, 21, 15)\n",
    "unique = len(set(arr4))\n",
    "greater_than_10 = [index for index, value in enumerate(arr4) if value > 10]\n",
    "print(\"Array:\", arr4)\n",
    "print(\"Unique Element Count:\", unique)\n",
    "print(\"Indices of elements greater than 10\", greater_than_10)"
   ]
  },
  {
   "cell_type": "markdown",
   "id": "cb62248e-724d-42e2-b8da-dd2d653c77e9",
   "metadata": {
    "jp-MarkdownHeadingCollapsed": true
   },
   "source": [
    "---\n",
    "## TASK : 5"
   ]
  },
  {
   "cell_type": "code",
   "execution_count": 8,
   "id": "c71b7c7df9500654",
   "metadata": {
    "ExecuteTime": {
     "end_time": "2024-10-30T05:23:36.552539Z",
     "start_time": "2024-10-30T05:23:36.535256Z"
    }
   },
   "outputs": [
    {
     "data": {
      "text/plain": [
       "array([[0.1 , 0.5 , 1.  , 0.89],\n",
       "       [0.28, 0.5 , 0.3 , 0.54],\n",
       "       [0.61, 0.5 , 0.73, 0.21]])"
      ]
     },
     "execution_count": 8,
     "metadata": {},
     "output_type": "execute_result"
    }
   ],
   "source": [
    "arr5 = np.random.rand(12)\n",
    "arr5 = arr5.reshape(3,4)\n",
    "arr5 = arr5.round(2)\n",
    "arr5[:,1] = 0.5\n",
    "arr5"
   ]
  }
 ],
 "metadata": {
  "kernelspec": {
   "display_name": "Python 3 (ipykernel)",
   "language": "python",
   "name": "python3"
  },
  "language_info": {
   "codemirror_mode": {
    "name": "ipython",
    "version": 3
   },
   "file_extension": ".py",
   "mimetype": "text/x-python",
   "name": "python",
   "nbconvert_exporter": "python",
   "pygments_lexer": "ipython3",
   "version": "3.12.7"
  }
 },
 "nbformat": 4,
 "nbformat_minor": 5
}
