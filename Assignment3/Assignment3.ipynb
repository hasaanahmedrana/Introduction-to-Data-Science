{
 "cells": [
  {
   "cell_type": "markdown",
   "id": "00af76b3-654b-4cef-b0c7-c4886e73be97",
   "metadata": {},
   "source": [
    "<center><h1>ASSIGNMENT:3</h1></center>\n"
   ]
  },
  {
   "cell_type": "markdown",
   "id": "3076ed88-fc88-4c0d-b936-5a9ecc948cc1",
   "metadata": {
    "jp-MarkdownHeadingCollapsed": true
   },
   "source": [
    "***\n",
    "<center><h2>TASK:1 E-commerce Data Processing.</h2>\n",
    "Processes and validates e-commerce order data using built-in functions and exception handling.</center>\n"
   ]
  },
  {
   "cell_type": "markdown",
   "id": "aac5f7e3-73d9-4790-9974-7aa0c5c77687",
   "metadata": {},
   "source": [
    "***"
   ]
  },
  {
   "cell_type": "markdown",
   "id": "18b53b70-437b-4f4d-93da-7a2f7a5a9af0",
   "metadata": {
    "jp-MarkdownHeadingCollapsed": true
   },
   "source": [
    "<h3> Sample Data: </h3>"
   ]
  },
  {
   "cell_type": "code",
   "execution_count": 1,
   "id": "0a377caf-f5f2-4204-bd62-a60e41b587a6",
   "metadata": {},
   "outputs": [],
   "source": [
    "orders = [\n",
    "    {\"customer\": \"Alice\", \"total\": 250.5},\n",
    "    {\"customer\": \"Bob\", \"total\": \"invalid_data\"},\n",
    "    {\"customer\": \"Charlie\", \"total\": 450},\n",
    "    {\"customer\": \"Daisy\", \"total\": 100.0},\n",
    "    {\"customer\": \"Eve\", \"total\": -30},\n",
    "]"
   ]
  },
  {
   "cell_type": "markdown",
   "id": "1b69f74d-259e-4de3-88f6-1dce16d25f41",
   "metadata": {},
   "source": [
    "***"
   ]
  },
  {
   "cell_type": "markdown",
   "id": "f1979402-9063-493f-9c7a-1e337d2eb5f7",
   "metadata": {
    "jp-MarkdownHeadingCollapsed": true
   },
   "source": [
    "<h3>Part A:</h3>\n",
    "Filters invalid orders using lambda with filter() and exception handling."
   ]
  },
  {
   "cell_type": "code",
   "execution_count": 2,
   "id": "a0448835-d7a6-47f8-8c51-2ed8bc66e340",
   "metadata": {},
   "outputs": [],
   "source": [
    "def ValidateOrders(orders):\n",
    "    def is_valid(order):\n",
    "        try:\n",
    "            total = float(order[\"total\"])\n",
    "            return total >= 0\n",
    "        except (ValueError, TypeError):\n",
    "            return False\n",
    "\n",
    "    valid_orders = list(filter(lambda order: is_valid(order), orders))\n",
    "    return valid_orders\n"
   ]
  },
  {
   "cell_type": "code",
   "execution_count": 3,
   "id": "dcb0fafc-818d-491c-84e7-743e62e43ef0",
   "metadata": {},
   "outputs": [
    {
     "data": {
      "text/plain": [
       "[{'customer': 'Alice', 'total': 250.5},\n",
       " {'customer': 'Charlie', 'total': 450},\n",
       " {'customer': 'Daisy', 'total': 100.0}]"
      ]
     },
     "execution_count": 3,
     "metadata": {},
     "output_type": "execute_result"
    }
   ],
   "source": [
    "ValidateOrders(orders)"
   ]
  },
  {
   "cell_type": "markdown",
   "id": "87f2c797-1dcc-47ca-8506-3f3ae8d8c89a",
   "metadata": {
    "jp-MarkdownHeadingCollapsed": true
   },
   "source": [
    "<h3>Part B:</h3>\n",
    "Applies a 10% discount to orders above $300 using lambda with map()."
   ]
  },
  {
   "cell_type": "code",
   "execution_count": 4,
   "id": "d329e862-09a3-4bcf-a8aa-e9c79dbfacb0",
   "metadata": {},
   "outputs": [],
   "source": [
    "def ApplyDiscount(orders):\n",
    "    orders = ValidateOrders(orders)\n",
    "    discounted_orders = list(map(lambda order: {**order, \"total\": order[\"total\"] * 0.9} if order[\"total\"] > 300 else order, orders))\n",
    "    return discounted_orders\n"
   ]
  },
  {
   "cell_type": "code",
   "execution_count": 5,
   "id": "1f3c63f9-0478-4752-9c2b-42a0f8ec24ee",
   "metadata": {},
   "outputs": [
    {
     "data": {
      "text/plain": [
       "[{'customer': 'Alice', 'total': 250.5},\n",
       " {'customer': 'Charlie', 'total': 405.0},\n",
       " {'customer': 'Daisy', 'total': 100.0}]"
      ]
     },
     "execution_count": 5,
     "metadata": {},
     "output_type": "execute_result"
    }
   ],
   "source": [
    "ApplyDiscount(orders)"
   ]
  },
  {
   "cell_type": "markdown",
   "id": "0b617d09-b6c8-400c-b5de-49956be498d1",
   "metadata": {
    "jp-MarkdownHeadingCollapsed": true
   },
   "source": [
    "<h3>Part C:</h3>\n",
    "Calculates total sales using reduce() with a lambda function."
   ]
  },
  {
   "cell_type": "code",
   "execution_count": 6,
   "id": "c1d9383f-f566-4c8a-8aa8-3c478f79660d",
   "metadata": {},
   "outputs": [],
   "source": [
    "from functools import reduce\n",
    "\n",
    "def CalculateTotalSales(orders):\n",
    "    orders = ApplyDiscount(orders)\n",
    "    total_sales = reduce(lambda acc, order: acc + order[\"total\"], orders, 0)\n",
    "    return total_sales\n"
   ]
  },
  {
   "cell_type": "code",
   "execution_count": 7,
   "id": "d5e13189-2561-4276-8f7d-530401c9af26",
   "metadata": {},
   "outputs": [
    {
     "data": {
      "text/plain": [
       "755.5"
      ]
     },
     "execution_count": 7,
     "metadata": {},
     "output_type": "execute_result"
    }
   ],
   "source": [
    "CalculateTotalSales(orders)"
   ]
  },
  {
   "cell_type": "markdown",
   "id": "4f35d50d-5ef1-47e9-901d-964429b6f361",
   "metadata": {
    "jp-MarkdownHeadingCollapsed": true
   },
   "source": [
    "***\n",
    "<center><h2>TASK:2 Chained Exceptions</h2>\n",
    "Implements a custom iterator for squares and a generator for the Fibonacci sequence.</center>"
   ]
  },
  {
   "cell_type": "markdown",
   "id": "41e057aa-26b0-43b7-85f1-14b5f89dbc37",
   "metadata": {},
   "source": [
    "***"
   ]
  },
  {
   "cell_type": "markdown",
   "id": "6b3814cf-7966-4dcf-b6ad-3513ab2cb466",
   "metadata": {
    "jp-MarkdownHeadingCollapsed": true
   },
   "source": [
    "<h3>Part A:</h3>\n",
    " Implements a custom iterator SquareIterator to yield squares of the first n natural numbers."
   ]
  },
  {
   "cell_type": "code",
   "execution_count": 8,
   "id": "cf5ae286-5cf9-4470-9586-a39e2f85a947",
   "metadata": {},
   "outputs": [],
   "source": [
    "class SquareIterator:\n",
    "    def __init__(self, n):\n",
    "        self.n = n\n",
    "        self.current = 1\n",
    "\n",
    "    def __iter__(self):\n",
    "        return self\n",
    "\n",
    "    def __next__(self):\n",
    "        if self.current <= self.n:\n",
    "            result = self.current ** 2\n",
    "            self.current += 1\n",
    "            return result\n",
    "        else:\n",
    "            raise StopIteration\n"
   ]
  },
  {
   "cell_type": "code",
   "execution_count": 9,
   "id": "167540a5-8c7e-4665-a754-58b234988f1b",
   "metadata": {},
   "outputs": [
    {
     "data": {
      "text/plain": [
       "[1, 4, 9, 16, 25]"
      ]
     },
     "execution_count": 9,
     "metadata": {},
     "output_type": "execute_result"
    }
   ],
   "source": [
    "lst = []; n = 5\n",
    "for each in SquareIterator(n):\n",
    "    lst += [each]\n",
    "lst"
   ]
  },
  {
   "cell_type": "markdown",
   "id": "5380869d-93e7-4c0a-9e52-50a9c266807b",
   "metadata": {
    "jp-MarkdownHeadingCollapsed": true
   },
   "source": [
    "<h3>Part B:</h3>\n",
    "Defines a generator fibonacci_generator() to yield Fibonacci numbers up to n."
   ]
  },
  {
   "cell_type": "code",
   "execution_count": 10,
   "id": "8d52e760-b418-4664-9ab9-325d06b400e3",
   "metadata": {},
   "outputs": [],
   "source": [
    "def FibonacciGenerator(n):\n",
    "    a, b = 0, 1\n",
    "    while a <= n:\n",
    "        yield a\n",
    "        a, b = b, a + b"
   ]
  },
  {
   "cell_type": "code",
   "execution_count": 11,
   "id": "5ceb8cb3-1c53-4cd6-82b4-5f8d0e4b59b2",
   "metadata": {},
   "outputs": [
    {
     "data": {
      "text/plain": [
       "[0, 1, 1, 2, 3, 5, 8]"
      ]
     },
     "execution_count": 11,
     "metadata": {},
     "output_type": "execute_result"
    }
   ],
   "source": [
    "lst = [] ; n = 10\n",
    "for each in FibonacciGenerator(n):\n",
    "   lst += [each]\n",
    "lst"
   ]
  },
  {
   "cell_type": "markdown",
   "id": "0ca5de92-6568-4bf2-a683-d0f78125bb2f",
   "metadata": {
    "jp-MarkdownHeadingCollapsed": true
   },
   "source": [
    "***\n",
    "<center><h2>TASK:3 Exception Logging Decorator.</h2>\n",
    "Handles exceptions with custom chaining and logs errors using a function decorator.</center>"
   ]
  },
  {
   "cell_type": "markdown",
   "id": "db48039b-d212-414b-9cca-070154d2cfaa",
   "metadata": {},
   "source": [
    "***"
   ]
  },
  {
   "cell_type": "markdown",
   "id": "3bd10d41-50ef-4f51-8d7a-2e5c9346abf0",
   "metadata": {
    "jp-MarkdownHeadingCollapsed": true
   },
   "source": [
    "<h3>Part A:</h3>\n",
    "Implements chained exceptions for division errors with custom handling."
   ]
  },
  {
   "cell_type": "code",
   "execution_count": 12,
   "id": "0b95f0f7-fcc0-4c4b-87f4-89525b5914bf",
   "metadata": {},
   "outputs": [
    {
     "name": "stdout",
     "output_type": "stream",
     "text": [
      "Cannot divide by zero\n"
     ]
    }
   ],
   "source": [
    "class DivisionByZeroError(Exception):\n",
    "    pass\n",
    "\n",
    "def divide_numbers(numbers, divisor):\n",
    "    try:\n",
    "        if divisor == 0:\n",
    "            raise DivisionByZeroError(\"Cannot divide by zero\")\n",
    "        return [num / divisor for num in numbers]\n",
    "    except DivisionByZeroError as e:\n",
    "        raise\n",
    "    except Exception as e:\n",
    "        raise Exception(\"An error occurred while dividing numbers\") from e\n",
    "try:\n",
    "    result = divide_numbers([10, 20, 30], 0)\n",
    "except Exception as e:\n",
    "    print(e)"
   ]
  },
  {
   "cell_type": "markdown",
   "id": "417d763c-1f0f-411c-a25b-48ef73d80589",
   "metadata": {
    "jp-MarkdownHeadingCollapsed": true
   },
   "source": [
    "<h3>Part B:</h3>\n",
    "Creates a decorator to log exceptions with details about the error and function."
   ]
  },
  {
   "cell_type": "code",
   "execution_count": 13,
   "id": "2aa8df37-9a65-4b0a-831a-71dc9fd061e4",
   "metadata": {},
   "outputs": [
    {
     "name": "stdout",
     "output_type": "stream",
     "text": [
      "Exception in test_function: ZeroDivisionError - division by zero\n"
     ]
    }
   ],
   "source": [
    "import functools\n",
    "\n",
    "def exception_logging_decorator(func):\n",
    "    @functools.wraps(func)\n",
    "    def wrapper(*args, **kwargs):\n",
    "        try:\n",
    "            return func(*args, **kwargs)\n",
    "        except Exception as e:\n",
    "            print(f\"Exception in {func.__name__}: {type(e).__name__} - {e}\")\n",
    "            raise\n",
    "    return wrapper\n",
    "\n",
    "@exception_logging_decorator\n",
    "def test_function(x):\n",
    "    return 10 / x\n",
    "\n",
    "try:\n",
    "    test_function(0)\n",
    "except Exception as e:\n",
    "    pass"
   ]
  },
  {
   "cell_type": "code",
   "execution_count": null,
   "id": "aa4ef62c-1517-4bf2-be12-e71b77d4b27a",
   "metadata": {},
   "outputs": [],
   "source": []
  },
  {
   "cell_type": "code",
   "execution_count": null,
   "id": "e1303a3e-55c4-4692-a10d-d7af812e0356",
   "metadata": {},
   "outputs": [],
   "source": []
  }
 ],
 "metadata": {
  "kernelspec": {
   "display_name": "Python 3 (ipykernel)",
   "language": "python",
   "name": "python3"
  },
  "language_info": {
   "codemirror_mode": {
    "name": "ipython",
    "version": 3
   },
   "file_extension": ".py",
   "mimetype": "text/x-python",
   "name": "python",
   "nbconvert_exporter": "python",
   "pygments_lexer": "ipython3",
   "version": "3.12.7"
  }
 },
 "nbformat": 4,
 "nbformat_minor": 5
}
